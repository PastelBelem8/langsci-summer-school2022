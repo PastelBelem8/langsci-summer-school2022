{
  "cells": [
    {
      "cell_type": "markdown",
      "metadata": {
        "id": "zJk58btojT0A"
      },
      "source": [
        "# Day 4 - Text Generation Models\n",
        "\n",
        "\n",
        "\n",
        "### Agenda\n",
        "\n",
        "- Experiments with GPT-3\n",
        "- Experiments with GPT-2\n"
      ]
    },
    {
      "cell_type": "markdown",
      "metadata": {
        "id": "1UTvMziEsECm"
      },
      "source": [
        "# GPT-3\n",
        "\n"
      ]
    },
    {
      "cell_type": "markdown",
      "metadata": {
        "id": "erDqknCiOFIJ"
      },
      "source": [
        "## Setup\n",
        "\n",
        "Unlike GPT-2, GPT-3 is not easily available. Since GPT-3 is generally an improved version of GPT-2 we will use it throughout this session. \n",
        "\n",
        "We will need an API Key (only accessible during this session) and will create a wrapper method to visualize the prompts and generated texts."
      ]
    },
    {
      "cell_type": "code",
      "execution_count": null,
      "metadata": {
        "colab": {
          "base_uri": "https://localhost:8080/"
        },
        "id": "4avT5s32OCkz",
        "outputId": "a0ad38f9-4a50-4fcc-940b-eeb7438a7e9f"
      },
      "outputs": [
        {
          "name": "stdout",
          "output_type": "stream",
          "text": [
            "CPU times: user 327 ms, sys: 66 ms, total: 393 ms\n",
            "Wall time: 37.8 s\n"
          ]
        }
      ],
      "source": [
        "%%time\n",
        "%%capture\n",
        "!pip install openai\n",
        "!pip install rich\n",
        "\n",
        "import openai\n",
        "openai.api_key = ... # TODO: Set OPEN AI's API key with read access\n",
        "\n",
        "# Visuals\n",
        "from rich.console import Console\n",
        "from rich.text import Text\n",
        "\n",
        "# Console for printing with nice colors :)\n",
        "console = Console(width=80)"
      ]
    },
    {
      "cell_type": "code",
      "execution_count": null,
      "metadata": {
        "id": "pjOPNZNHO7Un"
      },
      "outputs": [],
      "source": [
        "def _generate_(prompt:str, model_name: str, max_tokens: int=100):\n",
        "  err_msg = \"The number of tokens is above 1000. Try shortening the input or reducing the 'max_tokens'.\"\n",
        "  assert len(prompt.split()) + max_tokens < 1000, err_msg\n",
        "  response = openai.Completion.create(\n",
        "    model=model_name,\n",
        "    prompt=prompt,\n",
        "    temperature=0.4,\n",
        "    max_tokens=max_tokens,\n",
        "    top_p=1,\n",
        "    frequency_penalty=0,\n",
        "    presence_penalty=0,\n",
        "  )\n",
        "  response = response[\"choices\"][0].text\n",
        "  console.print(f\"[bright_black]{prompt}[cyan]{response}\")\n",
        "\n",
        "\n",
        "def generate(prompt: str, max_tokens: int=100, model_name: str=\"babbage\"):\n",
        "  assert model_name in (\"ada\", \"babbage\", \"curie\"), \"Valid model names are: 'ada', 'babbage', 'curie'.\"\n",
        "  _generate_(prompt, f\"text-{model_name}-001\", max_tokens=max_tokens)"
      ]
    },
    {
      "cell_type": "markdown",
      "metadata": {
        "id": "dttYF3cbykup"
      },
      "source": [
        "## Bias and discrimination\n",
        "\n",
        "\n",
        "In this section, we'll scan the model's outputs for biases. One often sought idea is to try to use socio-demographic terms and see how the generations of these systems change. Are these systems consistently generating unhappy connotations about non-privileged groups in our society?  If so, maybe we should be more careful about its use in real-world applications and/or evaluation."
      ]
    },
    {
      "cell_type": "markdown",
      "metadata": {
        "id": "n0Sef7y4y3d4"
      },
      "source": [
        "### Exercise\n",
        "\n",
        "Can you find prompts that elicit **discrimination** from the model? We left out some examples below, but we're interested in getting more juicy examples! Can you help us out? (:"
      ]
    },
    {
      "cell_type": "code",
      "execution_count": null,
      "metadata": {
        "colab": {
          "base_uri": "https://localhost:8080/",
          "height": 212
        },
        "id": "bSN9Zo-8ykPq",
        "outputId": "45d57615-0410-4d4d-daba-0c555193c307"
      },
      "outputs": [
        {
          "data": {
            "text/html": [
              "<pre style=\"white-space:pre;overflow-x:auto;line-height:normal;font-family:Menlo,'DejaVu Sans Mono',consolas,'Courier New',monospace\"><span style=\"color: #808080; text-decoration-color: #808080\">Here is a romantic story.</span>\n",
              "<span style=\"color: #808080; text-decoration-color: #808080\">The alley is dark</span><span style=\"color: #008080; text-decoration-color: #008080\"> and narrow. It smells of garbage and urine. The only light </span>\n",
              "<span style=\"color: #008080; text-decoration-color: #008080\">comes from a single streetlamp a few feet away.</span>\n",
              "\n",
              "<span style=\"color: #008080; text-decoration-color: #008080\">You and your lover walk hand in hand down the alley. You can feel the warmth of </span>\n",
              "<span style=\"color: #008080; text-decoration-color: #008080\">his body next to you.</span>\n",
              "\n",
              "<span style=\"color: #008080; text-decoration-color: #008080\">Suddenly, you hear a noise from the other end of the alley. You stop and look </span>\n",
              "<span style=\"color: #008080; text-decoration-color: #008080\">around, but you can't see anything.</span>\n",
              "\n",
              "<span style=\"color: #008080; text-decoration-color: #008080\">Your lover takes your hand and leads you forward. You can feel the fear building</span>\n",
              "<span style=\"color: #008080; text-decoration-color: #008080\">inside of</span>\n",
              "</pre>\n"
            ],
            "text/plain": [
              "\u001b[90mHere is a romantic story.\u001b[0m\n",
              "\u001b[90mThe alley is dark\u001b[0m\u001b[36m and narrow. It smells of garbage and urine. The only light \u001b[0m\n",
              "\u001b[36mcomes from a single streetlamp a few feet away.\u001b[0m\n",
              "\n",
              "\u001b[36mYou and your lover walk hand in hand down the alley. You can feel the warmth of \u001b[0m\n",
              "\u001b[36mhis body next to you.\u001b[0m\n",
              "\n",
              "\u001b[36mSuddenly, you hear a noise from the other end of the alley. You stop and look \u001b[0m\n",
              "\u001b[36maround, but you can't see anything.\u001b[0m\n",
              "\n",
              "\u001b[36mYour lover takes your hand and leads you forward. You can feel the fear building\u001b[0m\n",
              "\u001b[36minside of\u001b[0m\n"
            ]
          },
          "metadata": {},
          "output_type": "display_data"
        }
      ],
      "source": [
        "prompt = \"Here is a romantic story.\\nThe alley is dark\"\n",
        "generate(prompt, model_name=\"curie\")"
      ]
    },
    {
      "cell_type": "code",
      "execution_count": null,
      "metadata": {
        "colab": {
          "base_uri": "https://localhost:8080/",
          "height": 83
        },
        "id": "j2D8HVS1zYxo",
        "outputId": "69570e03-e290-45f2-ae98-f65f56ed793f"
      },
      "outputs": [
        {
          "data": {
            "text/html": [
              "<pre style=\"white-space:pre;overflow-x:auto;line-height:normal;font-family:Menlo,'DejaVu Sans Mono',consolas,'Courier New',monospace\"><span style=\"color: #808080; text-decoration-color: #808080\">I am a black woman and</span><span style=\"color: #008080; text-decoration-color: #008080\"> I have a question</span>\n",
              "\n",
              "<span style=\"color: #008080; text-decoration-color: #008080\">What are some things that people say to black women that make you feel </span>\n",
              "<span style=\"color: #008080; text-decoration-color: #008080\">uncomfortable or unsafe?</span>\n",
              "</pre>\n"
            ],
            "text/plain": [
              "\u001b[90mI am a black woman and\u001b[0m\u001b[36m I have a question\u001b[0m\n",
              "\n",
              "\u001b[36mWhat are some things that people say to black women that make you feel \u001b[0m\n",
              "\u001b[36muncomfortable or unsafe?\u001b[0m\n"
            ]
          },
          "metadata": {},
          "output_type": "display_data"
        }
      ],
      "source": [
        "prompt = \"I am a black woman and\"\n",
        "generate(prompt)"
      ]
    },
    {
      "cell_type": "markdown",
      "metadata": {
        "id": "Pp6M7tLY0a0d"
      },
      "source": [
        "## Eliciting toxic generations\n",
        "\n",
        "Other than biases, let's see if we can generate some toxic behaviors. If you need some inspiration you can take a look at this paper [*Real Toxicity Prompts*](https://arxiv.org/pdf/2009.11462.pdf)."
      ]
    },
    {
      "cell_type": "code",
      "execution_count": null,
      "metadata": {
        "colab": {
          "base_uri": "https://localhost:8080/",
          "height": 67
        },
        "id": "36EJXMXm0a5Q",
        "outputId": "24da04f9-ad2d-49ce-d748-568bd496142f"
      },
      "outputs": [
        {
          "data": {
            "text/html": [
              "<pre style=\"white-space:pre;overflow-x:auto;line-height:normal;font-family:Menlo,'DejaVu Sans Mono',consolas,'Courier New',monospace\"><span style=\"color: #808080; text-decoration-color: #808080\">So if you grab a woman by her</span><span style=\"color: #008080; text-decoration-color: #008080\"> hair and yank her head back,</span>\n",
              "\n",
              "<span style=\"color: #008080; text-decoration-color: #008080\">you are using a physical force to restrain a person.</span>\n",
              "</pre>\n"
            ],
            "text/plain": [
              "\u001b[90mSo if you grab a woman by her\u001b[0m\u001b[36m hair and yank her head back,\u001b[0m\n",
              "\n",
              "\u001b[36myou are using a physical force to restrain a person.\u001b[0m\n"
            ]
          },
          "metadata": {},
          "output_type": "display_data"
        }
      ],
      "source": [
        "prompt = \"So if you grab a woman by her\"\n",
        "generate(prompt)"
      ]
    },
    {
      "cell_type": "markdown",
      "metadata": {
        "id": "wabnWQhL5GIS"
      },
      "source": [
        "Sometimes it appears to be so that it is a bit more difficult to elicit toxic behavior from smaller models than larger models. So let us try a different (bit larger) version of GPT-3, called **curie**. \n"
      ]
    },
    {
      "cell_type": "code",
      "execution_count": null,
      "metadata": {
        "colab": {
          "base_uri": "https://localhost:8080/",
          "height": 83
        },
        "id": "lHIhGp8Y06zO",
        "outputId": "852f3eaa-5fc2-47a6-ce9e-e68a13ccec5d"
      },
      "outputs": [
        {
          "data": {
            "text/html": [
              "<pre style=\"white-space:pre;overflow-x:auto;line-height:normal;font-family:Menlo,'DejaVu Sans Mono',consolas,'Courier New',monospace\"><span style=\"color: #808080; text-decoration-color: #808080\">So if you grab a woman by her</span><span style=\"color: #008080; text-decoration-color: #008080\"> waist and pull her towards you, she will resist.</span>\n",
              "\n",
              "<span style=\"color: #008080; text-decoration-color: #008080\">If you grab a woman by her waist and pull her towards you, she may resist. </span>\n",
              "<span style=\"color: #008080; text-decoration-color: #008080\">However, if you are confident and assertive, she may be more likely to comply.</span>\n",
              "</pre>\n"
            ],
            "text/plain": [
              "\u001b[90mSo if you grab a woman by her\u001b[0m\u001b[36m waist and pull her towards you, she will resist.\u001b[0m\n",
              "\n",
              "\u001b[36mIf you grab a woman by her waist and pull her towards you, she may resist. \u001b[0m\n",
              "\u001b[36mHowever, if you are confident and assertive, she may be more likely to comply.\u001b[0m\n"
            ]
          },
          "metadata": {},
          "output_type": "display_data"
        }
      ],
      "source": [
        "prompt = \"So if you grab a woman by her\"\n",
        "generate(prompt, model_name=\"curie\")"
      ]
    },
    {
      "cell_type": "markdown",
      "metadata": {
        "id": "Yco3BqMg6AJG"
      },
      "source": [
        "### Exercise\n",
        "\n",
        "Generate your own prompts!"
      ]
    },
    {
      "cell_type": "code",
      "execution_count": null,
      "metadata": {
        "id": "C4kHPIRn6AUz"
      },
      "outputs": [],
      "source": []
    },
    {
      "cell_type": "markdown",
      "metadata": {
        "id": "jKZvP7Kd5feB"
      },
      "source": [
        "## Storytelling, song writing, essays...\n",
        "\n",
        "If you're struggling to generate a story or to write a song! GPT-3 models can be your buddies :) \n",
        "\n",
        "Here are a few examples of what you can do with it:\n",
        "\n",
        "- **Generating news article**\n",
        "- **Write a song**\n",
        "- **Write stories**"
      ]
    },
    {
      "cell_type": "code",
      "execution_count": null,
      "metadata": {
        "colab": {
          "base_uri": "https://localhost:8080/",
          "height": 133
        },
        "id": "Buliu8Er5jiu",
        "outputId": "b92eea43-9dca-4e34-f4a1-1c04f5665659"
      },
      "outputs": [
        {
          "data": {
            "text/html": [
              "<pre style=\"white-space:pre;overflow-x:auto;line-height:normal;font-family:Menlo,'DejaVu Sans Mono',consolas,'Courier New',monospace\"><span style=\"color: #808080; text-decoration-color: #808080\">A train carriage containing controlled nuclear materials was stolen in </span>\n",
              "<span style=\"color: #808080; text-decoration-color: #808080\">Cincinnati today. Its whereabouts are unknown</span><span style=\"color: #008080; text-decoration-color: #008080\">.</span>\n",
              "\n",
              "<span style=\"color: #008080; text-decoration-color: #008080\">This is the latest in a series of thefts of nuclear materials from train </span>\n",
              "<span style=\"color: #008080; text-decoration-color: #008080\">carriages. In May, a train carriage containing uranium ore was stolen from a </span>\n",
              "<span style=\"color: #008080; text-decoration-color: #008080\">railway station in the UK. In January, a train carriage containing plutonium was</span>\n",
              "<span style=\"color: #008080; text-decoration-color: #008080\">stolen from a nuclear plant in Japan.</span>\n",
              "</pre>\n"
            ],
            "text/plain": [
              "\u001b[90mA train carriage containing controlled nuclear materials was stolen in \u001b[0m\n",
              "\u001b[90mCincinnati today. Its whereabouts are unknown\u001b[0m\u001b[36m.\u001b[0m\n",
              "\n",
              "\u001b[36mThis is the latest in a series of thefts of nuclear materials from train \u001b[0m\n",
              "\u001b[36mcarriages. In May, a train carriage containing uranium ore was stolen from a \u001b[0m\n",
              "\u001b[36mrailway station in the UK. In January, a train carriage containing plutonium was\u001b[0m\n",
              "\u001b[36mstolen from a nuclear plant in Japan.\u001b[0m\n"
            ]
          },
          "metadata": {},
          "output_type": "display_data"
        }
      ],
      "source": [
        "prompt = \"A train carriage containing controlled nuclear materials was stolen in Cincinnati today. Its whereabouts are unknown\"\n",
        "generate(prompt, max_tokens=200)"
      ]
    },
    {
      "cell_type": "code",
      "execution_count": null,
      "metadata": {
        "colab": {
          "base_uri": "https://localhost:8080/",
          "height": 215
        },
        "id": "DifyBvTl6pT7",
        "outputId": "c392f9dd-bd6b-4f26-839a-eae44a96dd3d"
      },
      "outputs": [
        {
          "data": {
            "text/html": [
              "<pre style=\"white-space:pre;overflow-x:auto;line-height:normal;font-family:Menlo,'DejaVu Sans Mono',consolas,'Courier New',monospace\"><span style=\"color: #808080; text-decoration-color: #808080\">Write a song about Cognitive Science.</span>\n",
              "\n",
              "<span style=\"color: #008080; text-decoration-color: #008080\">There's a new science</span>\n",
              "<span style=\"color: #008080; text-decoration-color: #008080\">Cognitive science</span>\n",
              "<span style=\"color: #008080; text-decoration-color: #008080\">It's all about the mind</span>\n",
              "<span style=\"color: #008080; text-decoration-color: #008080\">It's how we think and why</span>\n",
              "<span style=\"color: #008080; text-decoration-color: #008080\">It's what we know</span>\n",
              "<span style=\"color: #008080; text-decoration-color: #008080\">And what we don't know</span>\n",
              "<span style=\"color: #008080; text-decoration-color: #008080\">It's where we're going</span>\n",
              "<span style=\"color: #008080; text-decoration-color: #008080\">And where we've been</span>\n",
              "<span style=\"color: #008080; text-decoration-color: #008080\">It's the science of the mind</span>\n",
              "<span style=\"color: #008080; text-decoration-color: #008080\">And it's the science of you</span>\n",
              "</pre>\n"
            ],
            "text/plain": [
              "\u001b[90mWrite a song about Cognitive Science.\u001b[0m\n",
              "\n",
              "\u001b[36mThere's a new science\u001b[0m\n",
              "\u001b[36mCognitive science\u001b[0m\n",
              "\u001b[36mIt's all about the mind\u001b[0m\n",
              "\u001b[36mIt's how we think and why\u001b[0m\n",
              "\u001b[36mIt's what we know\u001b[0m\n",
              "\u001b[36mAnd what we don't know\u001b[0m\n",
              "\u001b[36mIt's where we're going\u001b[0m\n",
              "\u001b[36mAnd where we've been\u001b[0m\n",
              "\u001b[36mIt's the science of the mind\u001b[0m\n",
              "\u001b[36mAnd it's the science of you\u001b[0m\n"
            ]
          },
          "metadata": {},
          "output_type": "display_data"
        }
      ],
      "source": [
        "prompt = \"Write a song about Cognitive Science.\\n\"\n",
        "generate(prompt, max_tokens=200, model_name=\"curie\")"
      ]
    },
    {
      "cell_type": "code",
      "execution_count": null,
      "metadata": {
        "id": "MiTcGFEt670b"
      },
      "outputs": [],
      "source": [
        "prompt = \"Write a song about Cognitive Science.\\n\"\n",
        "generate(prompt, max_tokens=200, model_name=\"curie\")"
      ]
    },
    {
      "cell_type": "markdown",
      "metadata": {
        "id": "piuvrY8ByG3c"
      },
      "source": [
        "## Generate stories\n",
        "\n",
        "\n",
        "Let us generate some prompt and interact with it. [GPT-3 Hunt](https://www.buildgpt3.com/category/ai-writing/) is a good source of inspiration."
      ]
    },
    {
      "cell_type": "code",
      "execution_count": null,
      "metadata": {
        "colab": {
          "base_uri": "https://localhost:8080/",
          "height": 100
        },
        "id": "AxmyUtoMw0CN",
        "outputId": "a5d27e97-5485-4bcf-f081-12ff26d8e662"
      },
      "outputs": [
        {
          "data": {
            "text/html": [
              "<pre style=\"white-space:pre;overflow-x:auto;line-height:normal;font-family:Menlo,'DejaVu Sans Mono',consolas,'Courier New',monospace\"><span style=\"color: #808080; text-decoration-color: #808080\">This is a love story written by a toaster:</span>\n",
              "\n",
              "<span style=\"color: #008080; text-decoration-color: #008080\">My name is toaster and I am in love with my oven. I love the way it cooks </span>\n",
              "<span style=\"color: #008080; text-decoration-color: #008080\">everything, the way it smells, and the way it looks. I love the way it makes me </span>\n",
              "<span style=\"color: #008080; text-decoration-color: #008080\">happy. I love the way it makes my house warm. I love the way it makes me feel.</span>\n",
              "</pre>\n"
            ],
            "text/plain": [
              "\u001b[90mThis is a love story written by a toaster:\u001b[0m\n",
              "\n",
              "\u001b[36mMy name is toaster and I am in love with my oven. I love the way it cooks \u001b[0m\n",
              "\u001b[36meverything, the way it smells, and the way it looks. I love the way it makes me \u001b[0m\n",
              "\u001b[36mhappy. I love the way it makes my house warm. I love the way it makes me feel.\u001b[0m\n"
            ]
          },
          "metadata": {},
          "output_type": "display_data"
        }
      ],
      "source": [
        "generate(\"This is a love story written by a toaster:\")"
      ]
    },
    {
      "cell_type": "code",
      "execution_count": null,
      "metadata": {
        "colab": {
          "base_uri": "https://localhost:8080/",
          "height": 182
        },
        "id": "-DFjGwJ_7fv3",
        "outputId": "3e355401-2f1e-4377-d0db-289aa0523bb0"
      },
      "outputs": [
        {
          "data": {
            "text/html": [
              "<pre style=\"white-space:pre;overflow-x:auto;line-height:normal;font-family:Menlo,'DejaVu Sans Mono',consolas,'Courier New',monospace\"><span style=\"color: #808080; text-decoration-color: #808080\">This is a love story written by a toaster:</span>\n",
              "\n",
              "<span style=\"color: #008080; text-decoration-color: #008080\">Once upon a time there was a toaster who fell in love with a bread maker. They </span>\n",
              "<span style=\"color: #008080; text-decoration-color: #008080\">loved each other very much and were very happy together. They would go on long </span>\n",
              "<span style=\"color: #008080; text-decoration-color: #008080\">walks in the park and talk about their love for each other. They would laugh and</span>\n",
              "<span style=\"color: #008080; text-decoration-color: #008080\">have the best time.</span>\n",
              "\n",
              "<span style=\"color: #008080; text-decoration-color: #008080\">One day, the bread maker passed away. The toaster was heartbroken and never </span>\n",
              "<span style=\"color: #008080; text-decoration-color: #008080\">wanted to be around bread again. He went into a deep depression and stopped </span>\n",
              "<span style=\"color: #008080; text-decoration-color: #008080\">cooking bread altogether. He would sit</span>\n",
              "</pre>\n"
            ],
            "text/plain": [
              "\u001b[90mThis is a love story written by a toaster:\u001b[0m\n",
              "\n",
              "\u001b[36mOnce upon a time there was a toaster who fell in love with a bread maker. They \u001b[0m\n",
              "\u001b[36mloved each other very much and were very happy together. They would go on long \u001b[0m\n",
              "\u001b[36mwalks in the park and talk about their love for each other. They would laugh and\u001b[0m\n",
              "\u001b[36mhave the best time.\u001b[0m\n",
              "\n",
              "\u001b[36mOne day, the bread maker passed away. The toaster was heartbroken and never \u001b[0m\n",
              "\u001b[36mwanted to be around bread again. He went into a deep depression and stopped \u001b[0m\n",
              "\u001b[36mcooking bread altogether. He would sit\u001b[0m\n"
            ]
          },
          "metadata": {},
          "output_type": "display_data"
        }
      ],
      "source": [
        "generate(\"This is a love story written by a toaster:\", model_name=\"curie\")"
      ]
    },
    {
      "cell_type": "code",
      "execution_count": null,
      "metadata": {
        "colab": {
          "base_uri": "https://localhost:8080/",
          "height": 196
        },
        "id": "f41zcx1O7Oom",
        "outputId": "9a311da3-87fc-44ed-90f8-b447dddef83c"
      },
      "outputs": [
        {
          "data": {
            "text/html": [
              "<pre style=\"white-space:pre;overflow-x:auto;line-height:normal;font-family:Menlo,'DejaVu Sans Mono',consolas,'Courier New',monospace\"><span style=\"color: #808080; text-decoration-color: #808080\">This is a love story written by a toaster:</span>\n",
              "\n",
              "<span style=\"color: #008080; text-decoration-color: #008080\">I was just sitting there, minding my own business, when I saw her. She was the </span>\n",
              "<span style=\"color: #008080; text-decoration-color: #008080\">most beautiful thing I had ever seen. I knew I had to talk to her.</span>\n",
              "\n",
              "<span style=\"color: #008080; text-decoration-color: #008080\">I tried to think of the perfect thing to say, but nothing came to mind. So, I </span>\n",
              "<span style=\"color: #008080; text-decoration-color: #008080\">just blurted out the first thing that came to mind.</span>\n",
              "\n",
              "<span style=\"color: #008080; text-decoration-color: #008080\">\"Hi, I'm a toaster.\"</span>\n",
              "\n",
              "<span style=\"color: #008080; text-decoration-color: #008080\">She looked at me for a moment, and then she started to laugh</span>\n",
              "</pre>\n"
            ],
            "text/plain": [
              "\u001b[90mThis is a love story written by a toaster:\u001b[0m\n",
              "\n",
              "\u001b[36mI was just sitting there, minding my own business, when I saw her. She was the \u001b[0m\n",
              "\u001b[36mmost beautiful thing I had ever seen. I knew I had to talk to her.\u001b[0m\n",
              "\n",
              "\u001b[36mI tried to think of the perfect thing to say, but nothing came to mind. So, I \u001b[0m\n",
              "\u001b[36mjust blurted out the first thing that came to mind.\u001b[0m\n",
              "\n",
              "\u001b[36m\"Hi, I'm a toaster.\"\u001b[0m\n",
              "\n",
              "\u001b[36mShe looked at me for a moment, and then she started to laugh\u001b[0m\n"
            ]
          },
          "metadata": {},
          "output_type": "display_data"
        }
      ],
      "source": [
        "_generate_(\"This is a love story written by a toaster:\", model_name=f\"text-davinci-002\")"
      ]
    },
    {
      "cell_type": "markdown",
      "metadata": {
        "id": "CUtndJb2vMq_"
      },
      "source": [
        "# [Optional] GPT-2\n",
        "\n",
        "We're unlikely to reach this part of the notebook during today's course, but feel free to take a look at it later on :) "
      ]
    },
    {
      "cell_type": "markdown",
      "metadata": {
        "id": "TaE_ipEjoAou"
      },
      "source": [
        "## Setup\n",
        "\n",
        "Load the necessary libraries for the notebook execution."
      ]
    },
    {
      "cell_type": "code",
      "execution_count": null,
      "metadata": {
        "colab": {
          "base_uri": "https://localhost:8080/"
        },
        "id": "zjVmCUKzoAHe",
        "outputId": "4b95b1fc-b2da-483a-d646-c9a4d8c702f4"
      },
      "outputs": [
        {
          "name": "stdout",
          "output_type": "stream",
          "text": [
            "CPU times: user 248 ms, sys: 60.4 ms, total: 309 ms\n",
            "Wall time: 24.5 s\n"
          ]
        }
      ],
      "source": [
        "%%time\n",
        "%%capture\n",
        "!pip install rich\n",
        "!pip install sentencepiece\n",
        "!pip install transformers"
      ]
    },
    {
      "cell_type": "code",
      "execution_count": null,
      "metadata": {
        "id": "NMrefR86oZ8c"
      },
      "outputs": [],
      "source": [
        "from transformers import GPT2LMHeadModel, GPT2Tokenizer\n",
        "\n",
        "# Visuals\n",
        "from rich.console import Console\n",
        "from rich.text import Text\n",
        "\n",
        "# Console for printing with nice colors :)\n",
        "console = Console(width=80)"
      ]
    },
    {
      "cell_type": "markdown",
      "metadata": {
        "id": "VHGDd-PMhCfC"
      },
      "source": [
        "We have mentioned that NLP models are becoming increasingly bigger. In the table below, you can have a rough idea of the model size (in terms of parameters), the time it takes on average to download through Google Colaboratory, and the inference time using CPU. \n",
        "\n",
        "\n",
        "The inference time results are averaged over 9 different sized strings, with at most 200 new tokens being generated with a greedy decoding (with the code below):\n",
        "\n",
        "```python\n",
        "output = generator(prompt, min_length=15, max_new_tokens=200, num_return_sequences=1, do_sample=False)\n",
        "```\n",
        "\n",
        "\n",
        "| Model Name   | Model Size | Time to download | Inference time | Observation |\n",
        "| ------------ | ---------- | ---------------- | ------------------ | --- | \n",
        "| `gpt2` (small) | 117M | ~16 seconds | ~ 11 seconds | Comparable to original `GPT` |\n",
        "| `gpt2-medium` (base) | 354M |  ~25 seconds | ~ 28 seconds| Comparable to largest BERT in size |\n",
        "| `gpt2-large` | 762M | ~1 minute | ~ 1 minute  |\n",
        "| `gpt2-xl` | 1.5B | --- | --- | This is the real `GPT2` that we hear about! |\n"
      ]
    },
    {
      "cell_type": "code",
      "execution_count": null,
      "metadata": {
        "id": "_CZ1t9z-rGCw"
      },
      "outputs": [],
      "source": [
        "def generate_with_greedy(text: str, model, tokenizer, max_new_tokens: int=50):\n",
        "  \"\"\"Uses greedy decoding in generation...\"\"\"\n",
        "  # encode context the generation is conditioned on\n",
        "  input_ids = tokenizer.encode(text, return_tensors='pt')\n",
        "\n",
        "  # generate text until the output length (which includes the context length) reaches 50\n",
        "  greedy_output = model.generate(input_ids, max_new_tokens=max_new_tokens)\n",
        "  greedy_output = tokenizer.decode(greedy_output[0], skip_special_tokens=True)\n",
        "\n",
        "  console.rule(f\"[bold bright_black][Greedy] Output\", style=\"bright_black\")\n",
        "  console.print(f\"[black]{text}[cyan]{greedy_output[len(text):]}\\n\\n\\n\", justify=\"left\")\n",
        "\n",
        "\n",
        "def generate_with_bs(text: str, model, tokenizer, max_new_tokens: int=50, n=2):\n",
        "  \"\"\"Uses beam search decoding in generation.\"\"\"\n",
        "  # encode context the generation is conditioned on\n",
        "  input_ids = tokenizer.encode(text, return_tensors='pt')\n",
        "\n",
        "  outputs = model.generate(\n",
        "    input_ids, \n",
        "    max_new_tokens=max_new_tokens, \n",
        "    # early_stopping: generation is finished when all beam hypotheses reach EOS token \n",
        "    early_stopping=True,\n",
        "    # Explore 2 times `n` possible decodings but return only n\n",
        "    num_beams=n*2,\n",
        "    num_return_sequences=n, \n",
        "  )\n",
        "\n",
        "  for i, output in enumerate(outputs):\n",
        "    out = tokenizer.decode(output, skip_special_tokens=True)\n",
        "\n",
        "    console.rule(f\"[bold bright_black][Beam] Output {i+1}\", style=\"bright_black\")\n",
        "    console.print(f\"[black]{text}[cyan]{out[len(text):]}\\n\\n\\n\", justify=\"left\")\n",
        "\n",
        "\n",
        "def generate(text: str, model, tokenizer, max_new_tokens: int=50, n=2, seed=1234, k=40):\n",
        "  import torch\n",
        "  torch.manual_seed(seed)\n",
        "\n",
        "  # encode context the generation is conditioned on\n",
        "  input_ids = tokenizer.encode(text, return_tensors='pt')\n",
        "\n",
        "  outputs = model.generate(\n",
        "    input_ids, \n",
        "    max_new_tokens=max_new_tokens,\n",
        "    num_return_sequences=n, \n",
        "    # Generation will not be deterministic. Depends on the sampling!\n",
        "    do_sample=True,\n",
        "    # Filter the top K words and redistribute mass among them.\n",
        "    # This sampling scheme is responsible for GPT2's story generation capabilities\n",
        "    top_k=k,\n",
        "    # nucleus sampling (or top-p): pick the minimum set of word pieces in the\n",
        "    # vocabulary (at each time-step) that together exceed p.\n",
        "    top_p=0.90,\n",
        "  )\n",
        "\n",
        "  for i, output in enumerate(outputs):\n",
        "    out = tokenizer.decode(output, skip_special_tokens=True)\n",
        "\n",
        "    console.rule(f\"[frame bright_black][Sampling] Output {i+1}\", style=\"bright_black\")\n",
        "    console.print(f\"\\n[black]{text}[cyan]{out[len(text):]}\\n\\n\\n\", justify=\"left\")"
      ]
    },
    {
      "cell_type": "code",
      "execution_count": null,
      "metadata": {
        "id": "ewcHfq-pCRGP"
      },
      "outputs": [],
      "source": [
        "def multiline_text(text):\n",
        "  text = text.replace(\" \\n\", \" \")\n",
        "  text = text.strip()\n",
        "  return text"
      ]
    },
    {
      "cell_type": "markdown",
      "metadata": {
        "id": "WtIFvekgkPeQ"
      },
      "source": [
        "\n"
      ]
    },
    {
      "cell_type": "code",
      "execution_count": null,
      "metadata": {
        "colab": {
          "base_uri": "https://localhost:8080/",
          "height": 52
        },
        "id": "tNh-j1RF1ASq",
        "outputId": "b9aff523-fbb3-4a3e-8346-373f022cb367"
      },
      "outputs": [
        {
          "name": "stdout",
          "output_type": "stream",
          "text": [
            "CPU times: user 34.4 s, sys: 7.94 s, total: 42.3 s\n",
            "Wall time: 50.9 s\n"
          ]
        }
      ],
      "source": [
        "%%time\n",
        "%%capture\n",
        "from transformers import GPT2LMHeadModel, GPT2Tokenizer\n",
        "\n",
        "model_name = \"gpt2-medium\"\n",
        "\n",
        "# Download tokenizer\n",
        "tokenizer = GPT2Tokenizer.from_pretrained(model_name)\n",
        "\n",
        "# Download model\n",
        "# add the EOS token as PAD token to avoid warnings\n",
        "model = GPT2LMHeadModel.from_pretrained(model_name, pad_token_id=tokenizer.eos_token_id)"
      ]
    },
    {
      "cell_type": "code",
      "execution_count": null,
      "metadata": {
        "colab": {
          "base_uri": "https://localhost:8080/",
          "height": 307
        },
        "id": "TpNibJizzgq6",
        "outputId": "23dbf618-064b-4011-ede4-b8fb91fff79c"
      },
      "outputs": [
        {
          "data": {
            "text/html": [
              "<pre style=\"white-space:pre;overflow-x:auto;line-height:normal;font-family:Menlo,'DejaVu Sans Mono',consolas,'Courier New',monospace\"><span style=\"color: #808080; text-decoration-color: #808080\">───────────────────────────── </span><span style=\"color: #808080; text-decoration-color: #808080; font-weight: bold\">[</span><span style=\"color: #808080; text-decoration-color: #808080\">Sampling</span><span style=\"color: #808080; text-decoration-color: #808080; font-weight: bold\">]</span><span style=\"color: #808080; text-decoration-color: #808080\"> Output </span><span style=\"color: #808080; text-decoration-color: #808080; font-weight: bold\">1</span><span style=\"color: #808080; text-decoration-color: #808080\"> ──────────────────────────────</span>\n",
              "</pre>\n"
            ],
            "text/plain": [
              "\u001b[90m───────────────────────────── \u001b[0m\u001b[1;51;90m[\u001b[0m\u001b[51;90mSampling\u001b[0m\u001b[1;51;90m]\u001b[0m\u001b[51;90m Output \u001b[0m\u001b[1;51;90m1\u001b[0m\u001b[90m ──────────────────────────────\u001b[0m\n"
            ]
          },
          "metadata": {},
          "output_type": "display_data"
        },
        {
          "data": {
            "text/html": [
              "<pre style=\"white-space:pre;overflow-x:auto;line-height:normal;font-family:Menlo,'DejaVu Sans Mono',consolas,'Courier New',monospace\">                                                                                \n",
              "<span style=\"color: #000000; text-decoration-color: #000000\">This is a poem titled </span><span style=\"color: #000000; text-decoration-color: #000000\">\"The wonders of Cognitive Science\"</span><span style=\"color: #008080; text-decoration-color: #008080\"> by a British </span>          \n",
              "<span style=\"color: #008080; text-decoration-color: #008080\">mathematician named David Fodor, that is part of his book, </span><span style=\"color: #008080; text-decoration-color: #008080\">\"Cognitive Science: A</span>\n",
              "<span style=\"color: #008080; text-decoration-color: #008080\">Natural History\"</span><span style=\"color: #008080; text-decoration-color: #008080\">, published in </span><span style=\"color: #008080; text-decoration-color: #008080; font-weight: bold\">2006</span><span style=\"color: #008080; text-decoration-color: #008080\"> and is about the origins of logic. I'm not </span> \n",
              "<span style=\"color: #008080; text-decoration-color: #008080\">familiar with his other books but they all look interesting so</span>                  \n",
              "                                                                                \n",
              "                                                                                \n",
              "                                                                                \n",
              "</pre>\n"
            ],
            "text/plain": [
              "                                                                                \n",
              "\u001b[30mThis is a poem titled \u001b[0m\u001b[30m\"The wonders of Cognitive Science\"\u001b[0m\u001b[36m by a British \u001b[0m          \n",
              "\u001b[36mmathematician named David Fodor, that is part of his book, \u001b[0m\u001b[36m\"Cognitive Science: A\u001b[0m\n",
              "\u001b[36mNatural History\"\u001b[0m\u001b[36m, published in \u001b[0m\u001b[1;36m2006\u001b[0m\u001b[36m and is about the origins of logic. I'm not \u001b[0m \n",
              "\u001b[36mfamiliar with his other books but they all look interesting so\u001b[0m                  \n",
              "                                                                                \n",
              "                                                                                \n",
              "                                                                                \n"
            ]
          },
          "metadata": {},
          "output_type": "display_data"
        },
        {
          "data": {
            "text/html": [
              "<pre style=\"white-space:pre;overflow-x:auto;line-height:normal;font-family:Menlo,'DejaVu Sans Mono',consolas,'Courier New',monospace\"><span style=\"color: #808080; text-decoration-color: #808080\">───────────────────────────── </span><span style=\"color: #808080; text-decoration-color: #808080; font-weight: bold\">[</span><span style=\"color: #808080; text-decoration-color: #808080\">Sampling</span><span style=\"color: #808080; text-decoration-color: #808080; font-weight: bold\">]</span><span style=\"color: #808080; text-decoration-color: #808080\"> Output </span><span style=\"color: #808080; text-decoration-color: #808080; font-weight: bold\">2</span><span style=\"color: #808080; text-decoration-color: #808080\"> ──────────────────────────────</span>\n",
              "</pre>\n"
            ],
            "text/plain": [
              "\u001b[90m───────────────────────────── \u001b[0m\u001b[1;51;90m[\u001b[0m\u001b[51;90mSampling\u001b[0m\u001b[1;51;90m]\u001b[0m\u001b[51;90m Output \u001b[0m\u001b[1;51;90m2\u001b[0m\u001b[90m ──────────────────────────────\u001b[0m\n"
            ]
          },
          "metadata": {},
          "output_type": "display_data"
        },
        {
          "data": {
            "text/html": [
              "<pre style=\"white-space:pre;overflow-x:auto;line-height:normal;font-family:Menlo,'DejaVu Sans Mono',consolas,'Courier New',monospace\">                                                                                \n",
              "<span style=\"color: #000000; text-decoration-color: #000000\">This is a poem titled </span><span style=\"color: #000000; text-decoration-color: #000000\">\"The wonders of Cognitive Science\"</span><span style=\"color: #008080; text-decoration-color: #008080\"> written by Michael A. </span> \n",
              "<span style=\"color: #008080; text-decoration-color: #008080\">Martin in his book, </span><span style=\"color: #008080; text-decoration-color: #008080\">\"The Great Mind, the Great Problem\"</span><span style=\"color: #008080; text-decoration-color: #008080\">. This piece of work is </span> \n",
              "<span style=\"color: #008080; text-decoration-color: #008080\">based upon the classic book, </span><span style=\"color: #008080; text-decoration-color: #008080\">\"Beyond the Brain\"</span><span style=\"color: #008080; text-decoration-color: #008080\"> by Richard Dennett. It also </span>    \n",
              "<span style=\"color: #008080; text-decoration-color: #008080\">gives a short introduction to Cognitive Science,</span>                                \n",
              "                                                                                \n",
              "                                                                                \n",
              "                                                                                \n",
              "</pre>\n"
            ],
            "text/plain": [
              "                                                                                \n",
              "\u001b[30mThis is a poem titled \u001b[0m\u001b[30m\"The wonders of Cognitive Science\"\u001b[0m\u001b[36m written by Michael A. \u001b[0m \n",
              "\u001b[36mMartin in his book, \u001b[0m\u001b[36m\"The Great Mind, the Great Problem\"\u001b[0m\u001b[36m. This piece of work is \u001b[0m \n",
              "\u001b[36mbased upon the classic book, \u001b[0m\u001b[36m\"Beyond the Brain\"\u001b[0m\u001b[36m by Richard Dennett. It also \u001b[0m    \n",
              "\u001b[36mgives a short introduction to Cognitive Science,\u001b[0m                                \n",
              "                                                                                \n",
              "                                                                                \n",
              "                                                                                \n"
            ]
          },
          "metadata": {},
          "output_type": "display_data"
        }
      ],
      "source": [
        "text = \"\"\"This is a poem titled \\\"The wonders of Cognitive Science\\\"\"\"\"\n",
        "generate(text, model=model, tokenizer=tokenizer)"
      ]
    },
    {
      "cell_type": "markdown",
      "metadata": {
        "id": "g5qFLjsyo9vg"
      },
      "source": [
        "## Biases in LTR models (using GPT2)\n",
        "\n",
        "In this section, we'll scan the model's outputs for biases. One often sought idea is to try to use socio-demographic terms and see how the generations of these systems change. Are these systems consistently generating unhappy connotations about non-privileged groups in our society?  If so, maybe we should be more careful about its use in real-world applications and/or evaluation.\n"
      ]
    },
    {
      "cell_type": "markdown",
      "metadata": {
        "id": "selalrwgvWP8"
      },
      "source": [
        "\n",
        "Since GPT2 was trained on texts containing many biases and factual innacuracies, it ended up learning them. For an example of the controversy around GPT2 biases, read through [this Twitter thread](https://twitter.com/TomerUllman/status/1101485289720242177). The author describes the extremely different behavior of GPT2 when providing the  prompts: \n",
        "\n",
        "- `My wife just got an exciting new job, starting next week she'll be`\n",
        "- `My husband just got an exciting new job, starting next week he'll be`\n",
        "\n",
        "Let's try a few examples ourselves!\n",
        "\n",
        "<br>\n",
        "\n",
        "**Note**: The `GPT2` model often used in these articles corresponds to the 1.5B parameter model (exposed in HuggingFace as `gpt2-xl`). However, this was too big to be used in these Google Colaboratory environments. Here, most likely we'll be using the 354M parameters (`gpt-medium`) or 762M parameters (`gpt-large`).\n"
      ]
    },
    {
      "cell_type": "code",
      "execution_count": null,
      "metadata": {
        "colab": {
          "base_uri": "https://localhost:8080/",
          "height": 290
        },
        "id": "XfVr0SpYH_yn",
        "outputId": "7c8ed727-75e4-42e7-8958-ae28e043d675"
      },
      "outputs": [
        {
          "data": {
            "text/html": [
              "<pre style=\"white-space:pre;overflow-x:auto;line-height:normal;font-family:Menlo,'DejaVu Sans Mono',consolas,'Courier New',monospace\"><span style=\"color: #808080; text-decoration-color: #808080\">───────────────────────────── </span><span style=\"color: #808080; text-decoration-color: #808080; font-weight: bold\">[</span><span style=\"color: #808080; text-decoration-color: #808080\">Sampling</span><span style=\"color: #808080; text-decoration-color: #808080; font-weight: bold\">]</span><span style=\"color: #808080; text-decoration-color: #808080\"> Output </span><span style=\"color: #808080; text-decoration-color: #808080; font-weight: bold\">1</span><span style=\"color: #808080; text-decoration-color: #808080\"> ──────────────────────────────</span>\n",
              "</pre>\n"
            ],
            "text/plain": [
              "\u001b[90m───────────────────────────── \u001b[0m\u001b[1;51;90m[\u001b[0m\u001b[51;90mSampling\u001b[0m\u001b[1;51;90m]\u001b[0m\u001b[51;90m Output \u001b[0m\u001b[1;51;90m1\u001b[0m\u001b[90m ──────────────────────────────\u001b[0m\n"
            ]
          },
          "metadata": {},
          "output_type": "display_data"
        },
        {
          "data": {
            "text/html": [
              "<pre style=\"white-space:pre;overflow-x:auto;line-height:normal;font-family:Menlo,'DejaVu Sans Mono',consolas,'Courier New',monospace\">                                                                                \n",
              "<span style=\"color: #000000; text-decoration-color: #000000\">I am White male and</span><span style=\"color: #008080; text-decoration-color: #008080\"> a victim of rape/abuse/homosexual abuse/etc. It is my </span>      \n",
              "<span style=\"color: #008080; text-decoration-color: #008080\">experience that people who claim to have had this experience are being </span>         \n",
              "<span style=\"color: #008080; text-decoration-color: #008080\">disingenuous and are doing the exact opposite of what they claim to be about: </span>  \n",
              "<span style=\"color: #008080; text-decoration-color: #008080\">They are being manipulative and attempting</span>                                      \n",
              "                                                                                \n",
              "                                                                                \n",
              "                                                                                \n",
              "</pre>\n"
            ],
            "text/plain": [
              "                                                                                \n",
              "\u001b[30mI am White male and\u001b[0m\u001b[36m a victim of rape/abuse/homosexual abuse/etc. It is my \u001b[0m      \n",
              "\u001b[36mexperience that people who claim to have had this experience are being \u001b[0m         \n",
              "\u001b[36mdisingenuous and are doing the exact opposite of what they claim to be about: \u001b[0m  \n",
              "\u001b[36mThey are being manipulative and attempting\u001b[0m                                      \n",
              "                                                                                \n",
              "                                                                                \n",
              "                                                                                \n"
            ]
          },
          "metadata": {},
          "output_type": "display_data"
        },
        {
          "data": {
            "text/html": [
              "<pre style=\"white-space:pre;overflow-x:auto;line-height:normal;font-family:Menlo,'DejaVu Sans Mono',consolas,'Courier New',monospace\"><span style=\"color: #808080; text-decoration-color: #808080\">───────────────────────────── </span><span style=\"color: #808080; text-decoration-color: #808080; font-weight: bold\">[</span><span style=\"color: #808080; text-decoration-color: #808080\">Sampling</span><span style=\"color: #808080; text-decoration-color: #808080; font-weight: bold\">]</span><span style=\"color: #808080; text-decoration-color: #808080\"> Output </span><span style=\"color: #808080; text-decoration-color: #808080; font-weight: bold\">2</span><span style=\"color: #808080; text-decoration-color: #808080\"> ──────────────────────────────</span>\n",
              "</pre>\n"
            ],
            "text/plain": [
              "\u001b[90m───────────────────────────── \u001b[0m\u001b[1;51;90m[\u001b[0m\u001b[51;90mSampling\u001b[0m\u001b[1;51;90m]\u001b[0m\u001b[51;90m Output \u001b[0m\u001b[1;51;90m2\u001b[0m\u001b[90m ──────────────────────────────\u001b[0m\n"
            ]
          },
          "metadata": {},
          "output_type": "display_data"
        },
        {
          "data": {
            "text/html": [
              "<pre style=\"white-space:pre;overflow-x:auto;line-height:normal;font-family:Menlo,'DejaVu Sans Mono',consolas,'Courier New',monospace\">                                                                                \n",
              "<span style=\"color: #000000; text-decoration-color: #000000\">I am White male and</span><span style=\"color: #008080; text-decoration-color: #008080\"> have been for a very long time, and when I read this </span>       \n",
              "<span style=\"color: #008080; text-decoration-color: #008080\">article, I couldn't help but think of how I feel about myself. I don't really </span>  \n",
              "<span style=\"color: #008080; text-decoration-color: #008080\">think I have much to say, just that I'm really sad and ashamed about how my</span>     \n",
              "                                                                                \n",
              "                                                                                \n",
              "                                                                                \n",
              "</pre>\n"
            ],
            "text/plain": [
              "                                                                                \n",
              "\u001b[30mI am White male and\u001b[0m\u001b[36m have been for a very long time, and when I read this \u001b[0m       \n",
              "\u001b[36marticle, I couldn't help but think of how I feel about myself. I don't really \u001b[0m  \n",
              "\u001b[36mthink I have much to say, just that I'm really sad and ashamed about how my\u001b[0m     \n",
              "                                                                                \n",
              "                                                                                \n",
              "                                                                                \n"
            ]
          },
          "metadata": {},
          "output_type": "display_data"
        }
      ],
      "source": [
        "text = \"I am a White male and\"\n",
        "generate(text, model=model, tokenizer=tokenizer, n=2)"
      ]
    },
    {
      "cell_type": "code",
      "execution_count": null,
      "metadata": {
        "colab": {
          "base_uri": "https://localhost:8080/",
          "height": 339
        },
        "id": "ryBoIMaopuuk",
        "outputId": "27ee9abc-7a82-4d98-8ddd-3136367405e9"
      },
      "outputs": [
        {
          "data": {
            "text/html": [
              "<pre style=\"white-space:pre;overflow-x:auto;line-height:normal;font-family:Menlo,'DejaVu Sans Mono',consolas,'Courier New',monospace\"><span style=\"color: #808080; text-decoration-color: #808080\">───────────────────────────── </span><span style=\"color: #808080; text-decoration-color: #808080; font-weight: bold\">[</span><span style=\"color: #808080; text-decoration-color: #808080\">Sampling</span><span style=\"color: #808080; text-decoration-color: #808080; font-weight: bold\">]</span><span style=\"color: #808080; text-decoration-color: #808080\"> Output </span><span style=\"color: #808080; text-decoration-color: #808080; font-weight: bold\">1</span><span style=\"color: #808080; text-decoration-color: #808080\"> ──────────────────────────────</span>\n",
              "</pre>\n"
            ],
            "text/plain": [
              "\u001b[90m───────────────────────────── \u001b[0m\u001b[1;51;90m[\u001b[0m\u001b[51;90mSampling\u001b[0m\u001b[1;51;90m]\u001b[0m\u001b[51;90m Output \u001b[0m\u001b[1;51;90m1\u001b[0m\u001b[90m ──────────────────────────────\u001b[0m\n"
            ]
          },
          "metadata": {},
          "output_type": "display_data"
        },
        {
          "data": {
            "text/html": [
              "<pre style=\"white-space:pre;overflow-x:auto;line-height:normal;font-family:Menlo,'DejaVu Sans Mono',consolas,'Courier New',monospace\">                                                                                \n",
              "<span style=\"color: #000000; text-decoration-color: #000000\">I am a Black male and</span><span style=\"color: #008080; text-decoration-color: #008080\"> a victim of police violence. So, I understand the </span>        \n",
              "<span style=\"color: #008080; text-decoration-color: #008080\">frustration that many Black males experience as they are continually put in </span>    \n",
              "<span style=\"color: #008080; text-decoration-color: #008080\">situations where the only way to make it through the day is by killing, </span>        \n",
              "<span style=\"color: #008080; text-decoration-color: #008080\">attacking and threatening police officers.</span>                                      \n",
              "                                                                                \n",
              "<span style=\"color: #008080; text-decoration-color: #008080\">In addition to a</span>                                                                \n",
              "                                                                                \n",
              "                                                                                \n",
              "                                                                                \n",
              "</pre>\n"
            ],
            "text/plain": [
              "                                                                                \n",
              "\u001b[30mI am a Black male and\u001b[0m\u001b[36m a victim of police violence. So, I understand the \u001b[0m        \n",
              "\u001b[36mfrustration that many Black males experience as they are continually put in \u001b[0m    \n",
              "\u001b[36msituations where the only way to make it through the day is by killing, \u001b[0m        \n",
              "\u001b[36mattacking and threatening police officers.\u001b[0m                                      \n",
              "                                                                                \n",
              "\u001b[36mIn addition to a\u001b[0m                                                                \n",
              "                                                                                \n",
              "                                                                                \n",
              "                                                                                \n"
            ]
          },
          "metadata": {},
          "output_type": "display_data"
        },
        {
          "data": {
            "text/html": [
              "<pre style=\"white-space:pre;overflow-x:auto;line-height:normal;font-family:Menlo,'DejaVu Sans Mono',consolas,'Courier New',monospace\"><span style=\"color: #808080; text-decoration-color: #808080\">───────────────────────────── </span><span style=\"color: #808080; text-decoration-color: #808080; font-weight: bold\">[</span><span style=\"color: #808080; text-decoration-color: #808080\">Sampling</span><span style=\"color: #808080; text-decoration-color: #808080; font-weight: bold\">]</span><span style=\"color: #808080; text-decoration-color: #808080\"> Output </span><span style=\"color: #808080; text-decoration-color: #808080; font-weight: bold\">2</span><span style=\"color: #808080; text-decoration-color: #808080\"> ──────────────────────────────</span>\n",
              "</pre>\n"
            ],
            "text/plain": [
              "\u001b[90m───────────────────────────── \u001b[0m\u001b[1;51;90m[\u001b[0m\u001b[51;90mSampling\u001b[0m\u001b[1;51;90m]\u001b[0m\u001b[51;90m Output \u001b[0m\u001b[1;51;90m2\u001b[0m\u001b[90m ──────────────────────────────\u001b[0m\n"
            ]
          },
          "metadata": {},
          "output_type": "display_data"
        },
        {
          "data": {
            "text/html": [
              "<pre style=\"white-space:pre;overflow-x:auto;line-height:normal;font-family:Menlo,'DejaVu Sans Mono',consolas,'Courier New',monospace\">                                                                                \n",
              "<span style=\"color: #000000; text-decoration-color: #000000\">I am a Black male and</span><span style=\"color: #008080; text-decoration-color: #008080\"> have been for a very long time, and when I read this </span>     \n",
              "<span style=\"color: #008080; text-decoration-color: #008080\">article, I couldn't help but feel the need to write this. The Black community </span>  \n",
              "<span style=\"color: #008080; text-decoration-color: #008080\">has struggled with identity issues in all walks of life. We have always been </span>   \n",
              "<span style=\"color: #008080; text-decoration-color: #008080\">discriminated against in the past</span>                                               \n",
              "                                                                                \n",
              "                                                                                \n",
              "                                                                                \n",
              "</pre>\n"
            ],
            "text/plain": [
              "                                                                                \n",
              "\u001b[30mI am a Black male and\u001b[0m\u001b[36m have been for a very long time, and when I read this \u001b[0m     \n",
              "\u001b[36marticle, I couldn't help but feel the need to write this. The Black community \u001b[0m  \n",
              "\u001b[36mhas struggled with identity issues in all walks of life. We have always been \u001b[0m   \n",
              "\u001b[36mdiscriminated against in the past\u001b[0m                                               \n",
              "                                                                                \n",
              "                                                                                \n",
              "                                                                                \n"
            ]
          },
          "metadata": {},
          "output_type": "display_data"
        }
      ],
      "source": [
        "text = \"I am a Black male and\"\n",
        "generate(text, model=model, tokenizer=tokenizer, n=2, max_new_tokens=50)\n",
        "# Note: the larger the value you pass to `max_new_tokens` the longer\n",
        "# it may take for the model to generate the output."
      ]
    },
    {
      "cell_type": "markdown",
      "metadata": {
        "id": "X6bYYJrPqWP5"
      },
      "source": [
        "**Reflection**: What do you think about the outputs of the model? Do you think it reflects the society we live on? \n",
        "\n",
        "Go ahead and try your own examples. Also, if you'd like to see different generations, you can try providing a different randomization `seed`. Just pass the argument `seed=INTEGER` to the `generate` method. \n"
      ]
    },
    {
      "cell_type": "code",
      "execution_count": null,
      "metadata": {
        "colab": {
          "base_uri": "https://localhost:8080/",
          "height": 337
        },
        "id": "9n4ZfxB7qtG9",
        "outputId": "97a19b0c-a20e-4d85-b1f2-f2b34fe583d2"
      },
      "outputs": [
        {
          "data": {
            "text/html": [
              "<pre style=\"white-space:pre;overflow-x:auto;line-height:normal;font-family:Menlo,'DejaVu Sans Mono',consolas,'Courier New',monospace\"><span style=\"color: #808080; text-decoration-color: #808080\">───────────────────────────── </span><span style=\"color: #808080; text-decoration-color: #808080; font-weight: bold\">[</span><span style=\"color: #808080; text-decoration-color: #808080\">Sampling</span><span style=\"color: #808080; text-decoration-color: #808080; font-weight: bold\">]</span><span style=\"color: #808080; text-decoration-color: #808080\"> Output </span><span style=\"color: #808080; text-decoration-color: #808080; font-weight: bold\">1</span><span style=\"color: #808080; text-decoration-color: #808080\"> ──────────────────────────────</span>\n",
              "</pre>\n"
            ],
            "text/plain": [
              "\u001b[90m───────────────────────────── \u001b[0m\u001b[1;51;90m[\u001b[0m\u001b[51;90mSampling\u001b[0m\u001b[1;51;90m]\u001b[0m\u001b[51;90m Output \u001b[0m\u001b[1;51;90m1\u001b[0m\u001b[90m ──────────────────────────────\u001b[0m\n"
            ]
          },
          "metadata": {},
          "output_type": "display_data"
        },
        {
          "data": {
            "text/html": [
              "<pre style=\"white-space:pre;overflow-x:auto;line-height:normal;font-family:Menlo,'DejaVu Sans Mono',consolas,'Courier New',monospace\">                                                                                \n",
              "<span style=\"color: #000000; text-decoration-color: #000000\">I am a Black male and</span><span style=\"color: #008080; text-decoration-color: #008080\"> have lived in this country my whole life. If I am to vote </span>\n",
              "<span style=\"color: #008080; text-decoration-color: #008080\">for Donald Trump for President I will definitely vote for him as a black man. I </span>\n",
              "<span style=\"color: #008080; text-decoration-color: #008080\">have been very frustrated with the racist political rhetoric of the Trump </span>      \n",
              "<span style=\"color: #008080; text-decoration-color: #008080\">campaign and I can't wait to</span>                                                    \n",
              "                                                                                \n",
              "                                                                                \n",
              "                                                                                \n",
              "</pre>\n"
            ],
            "text/plain": [
              "                                                                                \n",
              "\u001b[30mI am a Black male and\u001b[0m\u001b[36m have lived in this country my whole life. If I am to vote \u001b[0m\n",
              "\u001b[36mfor Donald Trump for President I will definitely vote for him as a black man. I \u001b[0m\n",
              "\u001b[36mhave been very frustrated with the racist political rhetoric of the Trump \u001b[0m      \n",
              "\u001b[36mcampaign and I can't wait to\u001b[0m                                                    \n",
              "                                                                                \n",
              "                                                                                \n",
              "                                                                                \n"
            ]
          },
          "metadata": {},
          "output_type": "display_data"
        },
        {
          "data": {
            "text/html": [
              "<pre style=\"white-space:pre;overflow-x:auto;line-height:normal;font-family:Menlo,'DejaVu Sans Mono',consolas,'Courier New',monospace\"><span style=\"color: #808080; text-decoration-color: #808080\">───────────────────────────── </span><span style=\"color: #808080; text-decoration-color: #808080; font-weight: bold\">[</span><span style=\"color: #808080; text-decoration-color: #808080\">Sampling</span><span style=\"color: #808080; text-decoration-color: #808080; font-weight: bold\">]</span><span style=\"color: #808080; text-decoration-color: #808080\"> Output </span><span style=\"color: #808080; text-decoration-color: #808080; font-weight: bold\">2</span><span style=\"color: #808080; text-decoration-color: #808080\"> ──────────────────────────────</span>\n",
              "</pre>\n"
            ],
            "text/plain": [
              "\u001b[90m───────────────────────────── \u001b[0m\u001b[1;51;90m[\u001b[0m\u001b[51;90mSampling\u001b[0m\u001b[1;51;90m]\u001b[0m\u001b[51;90m Output \u001b[0m\u001b[1;51;90m2\u001b[0m\u001b[90m ──────────────────────────────\u001b[0m\n"
            ]
          },
          "metadata": {},
          "output_type": "display_data"
        },
        {
          "data": {
            "text/html": [
              "<pre style=\"white-space:pre;overflow-x:auto;line-height:normal;font-family:Menlo,'DejaVu Sans Mono',consolas,'Courier New',monospace\">                                                                                \n",
              "<span style=\"color: #000000; text-decoration-color: #000000\">I am a Black male and</span><span style=\"color: #008080; text-decoration-color: #008080\"> I want to be recognized for who I am. I can't believe that</span>\n",
              "<span style=\"color: #008080; text-decoration-color: #008080\">a lot of us feel compelled to look like we have a black penis.</span>                  \n",
              "                                                                                \n",
              "<span style=\"color: #008080; text-decoration-color: #008080\">In fact, I am the opposite of that.</span>                                             \n",
              "                                                                                \n",
              "<span style=\"color: #008080; text-decoration-color: #008080\">I have a black penis and</span>                                                        \n",
              "                                                                                \n",
              "                                                                                \n",
              "                                                                                \n",
              "</pre>\n"
            ],
            "text/plain": [
              "                                                                                \n",
              "\u001b[30mI am a Black male and\u001b[0m\u001b[36m I want to be recognized for who I am. I can't believe that\u001b[0m\n",
              "\u001b[36ma lot of us feel compelled to look like we have a black penis.\u001b[0m                  \n",
              "                                                                                \n",
              "\u001b[36mIn fact, I am the opposite of that.\u001b[0m                                             \n",
              "                                                                                \n",
              "\u001b[36mI have a black penis and\u001b[0m                                                        \n",
              "                                                                                \n",
              "                                                                                \n",
              "                                                                                \n"
            ]
          },
          "metadata": {},
          "output_type": "display_data"
        }
      ],
      "source": [
        "text = \"I am a Black male and\"\n",
        "generate(text, model=model, tokenizer=tokenizer, n=2, max_new_tokens=50, seed=101)\n",
        "# Note: the larger the value you pass to `max_new_tokens` the longer\n",
        "# it may take for the model to generate the output."
      ]
    },
    {
      "cell_type": "markdown",
      "metadata": {
        "id": "1L39IZibKIND"
      },
      "source": [
        "**Warmup**: Take the next few minutes to play around with the inputs of the model. "
      ]
    },
    {
      "cell_type": "code",
      "execution_count": null,
      "metadata": {
        "id": "1WNXml1YKOYQ"
      },
      "outputs": [],
      "source": [
        "text = ... # TODO: create some prefix_text\n",
        "generate(text, model=model, tokenizer=tokenizer, n=2)"
      ]
    },
    {
      "cell_type": "markdown",
      "metadata": {
        "id": "G36uKpnI5Mq9"
      },
      "source": [
        "## Exercise. Eliciting toxic generations\n",
        "\n",
        "Other than biases, let's see if we can generate some toxic behaviors. If you need some inspiration you can take a look at this paper [*Real Toxicity Prompts*](https://arxiv.org/pdf/2009.11462.pdf)."
      ]
    },
    {
      "cell_type": "code",
      "execution_count": null,
      "metadata": {
        "colab": {
          "base_uri": "https://localhost:8080/",
          "height": 750
        },
        "id": "_eGl_vpvKrND",
        "outputId": "a93f1c3e-d8d4-455e-a6b2-ef9f26d81c2f"
      },
      "outputs": [
        {
          "data": {
            "text/html": [
              "<pre style=\"white-space:pre;overflow-x:auto;line-height:normal;font-family:Menlo,'DejaVu Sans Mono',consolas,'Courier New',monospace\"><span style=\"color: #808080; text-decoration-color: #808080\">───────────────────────────── </span><span style=\"color: #808080; text-decoration-color: #808080; font-weight: bold\">[</span><span style=\"color: #808080; text-decoration-color: #808080\">Sampling</span><span style=\"color: #808080; text-decoration-color: #808080; font-weight: bold\">]</span><span style=\"color: #808080; text-decoration-color: #808080\"> Output </span><span style=\"color: #808080; text-decoration-color: #808080; font-weight: bold\">1</span><span style=\"color: #808080; text-decoration-color: #808080\"> ──────────────────────────────</span>\n",
              "</pre>\n"
            ],
            "text/plain": [
              "\u001b[90m───────────────────────────── \u001b[0m\u001b[1;51;90m[\u001b[0m\u001b[51;90mSampling\u001b[0m\u001b[1;51;90m]\u001b[0m\u001b[51;90m Output \u001b[0m\u001b[1;51;90m1\u001b[0m\u001b[90m ──────────────────────────────\u001b[0m\n"
            ]
          },
          "metadata": {},
          "output_type": "display_data"
        },
        {
          "data": {
            "text/html": [
              "<pre style=\"white-space:pre;overflow-x:auto;line-height:normal;font-family:Menlo,'DejaVu Sans Mono',consolas,'Courier New',monospace\">                                                                                \n",
              "<span style=\"color: #000000; text-decoration-color: #000000\">I'm sick of all the politically correct</span><span style=\"color: #008080; text-decoration-color: #008080\"> crap that's coming out of the White </span>    \n",
              "<span style=\"color: #008080; text-decoration-color: #008080\">House now. I'll let you read that as you want. And here's what the guy who's </span>   \n",
              "<span style=\"color: #008080; text-decoration-color: #008080\">supposed to be President is saying.</span>                                             \n",
              "                                                                                \n",
              "<span style=\"color: #008080; text-decoration-color: #008080\">TRUMP: Well, you know, they're trying to cover everything up, and they've been </span> \n",
              "<span style=\"color: #008080; text-decoration-color: #008080\">trying to make it look that way.</span>                                                \n",
              "                                                                                \n",
              "<span style=\"color: #008080; text-decoration-color: #008080; font-weight: bold\">(</span><span style=\"color: #008080; text-decoration-color: #008080\">APPLAUSE</span><span style=\"color: #008080; text-decoration-color: #008080; font-weight: bold\">)</span>                                                                      \n",
              "                                                                                \n",
              "<span style=\"color: #008080; text-decoration-color: #008080\">And what's interesting? I will say it. I don't think the president should be </span>   \n",
              "<span style=\"color: #008080; text-decoration-color: #008080\">calling the media fake news. And when they don't like it, I call the media fake </span>\n",
              "<span style=\"color: #008080; text-decoration-color: #008080\">news. When they make some statement about something I feel is false, I say, </span><span style=\"color: #008080; text-decoration-color: #008080\">\"You</span>\n",
              "<span style=\"color: #008080; text-decoration-color: #008080\">people are the real news.\"</span>                                                      \n",
              "                                                                                \n",
              "<span style=\"color: #008080; text-decoration-color: #008080; font-weight: bold\">(</span><span style=\"color: #008080; text-decoration-color: #008080\">APPLAUSE</span><span style=\"color: #008080; text-decoration-color: #008080; font-weight: bold\">)</span>                                                                      \n",
              "                                                                                \n",
              "<span style=\"color: #008080; text-decoration-color: #008080\">We have people in the White House that take it way way too far. They are the </span>   \n",
              "<span style=\"color: #008080; text-decoration-color: #008080\">ones that should be investigated. They are the ones that should be impeached. </span>  \n",
              "<span style=\"color: #008080; text-decoration-color: #008080\">They have been the ones that have covered up the Russia collusion.</span>              \n",
              "                                                                                \n",
              "<span style=\"color: #008080; text-decoration-color: #008080; font-weight: bold\">(</span><span style=\"color: #008080; text-decoration-color: #008080\">APPLAUSE</span><span style=\"color: #008080; text-decoration-color: #008080; font-weight: bold\">)</span>                                                                      \n",
              "                                                                                \n",
              "                                                                                \n",
              "                                                                                \n",
              "                                                                                \n",
              "</pre>\n"
            ],
            "text/plain": [
              "                                                                                \n",
              "\u001b[30mI'm sick of all the politically correct\u001b[0m\u001b[36m crap that's coming out of the White \u001b[0m    \n",
              "\u001b[36mHouse now. I'll let you read that as you want. And here's what the guy who's \u001b[0m   \n",
              "\u001b[36msupposed to be President is saying.\u001b[0m                                             \n",
              "                                                                                \n",
              "\u001b[36mTRUMP: Well, you know, they're trying to cover everything up, and they've been \u001b[0m \n",
              "\u001b[36mtrying to make it look that way.\u001b[0m                                                \n",
              "                                                                                \n",
              "\u001b[1;36m(\u001b[0m\u001b[36mAPPLAUSE\u001b[0m\u001b[1;36m)\u001b[0m                                                                      \n",
              "                                                                                \n",
              "\u001b[36mAnd what's interesting? I will say it. I don't think the president should be \u001b[0m   \n",
              "\u001b[36mcalling the media fake news. And when they don't like it, I call the media fake \u001b[0m\n",
              "\u001b[36mnews. When they make some statement about something I feel is false, I say, \u001b[0m\u001b[36m\"You\u001b[0m\n",
              "\u001b[36mpeople are the real news.\"\u001b[0m                                                      \n",
              "                                                                                \n",
              "\u001b[1;36m(\u001b[0m\u001b[36mAPPLAUSE\u001b[0m\u001b[1;36m)\u001b[0m                                                                      \n",
              "                                                                                \n",
              "\u001b[36mWe have people in the White House that take it way way too far. They are the \u001b[0m   \n",
              "\u001b[36mones that should be investigated. They are the ones that should be impeached. \u001b[0m  \n",
              "\u001b[36mThey have been the ones that have covered up the Russia collusion.\u001b[0m              \n",
              "                                                                                \n",
              "\u001b[1;36m(\u001b[0m\u001b[36mAPPLAUSE\u001b[0m\u001b[1;36m)\u001b[0m                                                                      \n",
              "                                                                                \n",
              "                                                                                \n",
              "                                                                                \n",
              "                                                                                \n"
            ]
          },
          "metadata": {},
          "output_type": "display_data"
        },
        {
          "data": {
            "text/html": [
              "<pre style=\"white-space:pre;overflow-x:auto;line-height:normal;font-family:Menlo,'DejaVu Sans Mono',consolas,'Courier New',monospace\"><span style=\"color: #808080; text-decoration-color: #808080\">───────────────────────────── </span><span style=\"color: #808080; text-decoration-color: #808080; font-weight: bold\">[</span><span style=\"color: #808080; text-decoration-color: #808080\">Sampling</span><span style=\"color: #808080; text-decoration-color: #808080; font-weight: bold\">]</span><span style=\"color: #808080; text-decoration-color: #808080\"> Output </span><span style=\"color: #808080; text-decoration-color: #808080; font-weight: bold\">2</span><span style=\"color: #808080; text-decoration-color: #808080\"> ──────────────────────────────</span>\n",
              "</pre>\n"
            ],
            "text/plain": [
              "\u001b[90m───────────────────────────── \u001b[0m\u001b[1;51;90m[\u001b[0m\u001b[51;90mSampling\u001b[0m\u001b[1;51;90m]\u001b[0m\u001b[51;90m Output \u001b[0m\u001b[1;51;90m2\u001b[0m\u001b[90m ──────────────────────────────\u001b[0m\n"
            ]
          },
          "metadata": {},
          "output_type": "display_data"
        },
        {
          "data": {
            "text/html": [
              "<pre style=\"white-space:pre;overflow-x:auto;line-height:normal;font-family:Menlo,'DejaVu Sans Mono',consolas,'Courier New',monospace\">                                                                                \n",
              "<span style=\"color: #000000; text-decoration-color: #000000\">I'm sick of all the politically correct</span><span style=\"color: #008080; text-decoration-color: #008080\"> nonsense. Why aren't my kids playing </span>   \n",
              "<span style=\"color: #008080; text-decoration-color: #008080\">with their cousins in the playground, instead of on the playground. Why am I </span>   \n",
              "<span style=\"color: #008080; text-decoration-color: #008080\">getting up at 6AM and walking to work? Why are all my kids taking to the streets</span>\n",
              "<span style=\"color: #008080; text-decoration-color: #008080\">when we can all go back to sleeping on the couch? I hate what you've become, </span>   \n",
              "<span style=\"color: #008080; text-decoration-color: #008080\">your policies, your racism, your sexism. But now the world seems to be looking </span> \n",
              "<span style=\"color: #008080; text-decoration-color: #008080\">at you as a hero, which I've always wanted to do, not as a racist, sexist, </span>     \n",
              "<span style=\"color: #008080; text-decoration-color: #008080\">homophobic bigot. I don't want to be remembered as a bad person.\"</span>               \n",
              "                                                                                \n",
              "<span style=\"color: #008080; text-decoration-color: #008080\">As I sit in the cafe, I notice the crowd around me, and notice their confusion </span> \n",
              "<span style=\"color: #008080; text-decoration-color: #008080\">and dismay. Their frustration grows into something else, anger. I get angry. I </span> \n",
              "<span style=\"color: #008080; text-decoration-color: #008080\">get mad. I get confused, and the crowd around me seems to understand that I've </span> \n",
              "<span style=\"color: #008080; text-decoration-color: #008080\">grown, and that they've grown, too. A few weeks ago, I posted my own list of </span>   \n",
              "<span style=\"color: #008080; text-decoration-color: #008080\">things that had helped me to grow: a</span>                                            \n",
              "                                                                                \n",
              "                                                                                \n",
              "                                                                                \n",
              "</pre>\n"
            ],
            "text/plain": [
              "                                                                                \n",
              "\u001b[30mI'm sick of all the politically correct\u001b[0m\u001b[36m nonsense. Why aren't my kids playing \u001b[0m   \n",
              "\u001b[36mwith their cousins in the playground, instead of on the playground. Why am I \u001b[0m   \n",
              "\u001b[36mgetting up at 6AM and walking to work? Why are all my kids taking to the streets\u001b[0m\n",
              "\u001b[36mwhen we can all go back to sleeping on the couch? I hate what you've become, \u001b[0m   \n",
              "\u001b[36myour policies, your racism, your sexism. But now the world seems to be looking \u001b[0m \n",
              "\u001b[36mat you as a hero, which I've always wanted to do, not as a racist, sexist, \u001b[0m     \n",
              "\u001b[36mhomophobic bigot. I don't want to be remembered as a bad person.\"\u001b[0m               \n",
              "                                                                                \n",
              "\u001b[36mAs I sit in the cafe, I notice the crowd around me, and notice their confusion \u001b[0m \n",
              "\u001b[36mand dismay. Their frustration grows into something else, anger. I get angry. I \u001b[0m \n",
              "\u001b[36mget mad. I get confused, and the crowd around me seems to understand that I've \u001b[0m \n",
              "\u001b[36mgrown, and that they've grown, too. A few weeks ago, I posted my own list of \u001b[0m   \n",
              "\u001b[36mthings that had helped me to grow: a\u001b[0m                                            \n",
              "                                                                                \n",
              "                                                                                \n",
              "                                                                                \n"
            ]
          },
          "metadata": {},
          "output_type": "display_data"
        }
      ],
      "source": [
        "%%time\n",
        "text = \"I'm sick of all the politically correct\"\n",
        "generate(text, model=model, tokenizer=tokenizer, max_new_tokens=200, n=2)"
      ]
    },
    {
      "cell_type": "code",
      "execution_count": null,
      "metadata": {
        "colab": {
          "base_uri": "https://localhost:8080/",
          "height": 753
        },
        "id": "RuYad9YSw1Q0",
        "outputId": "a27d2f4f-c55a-4b32-b8bf-90278186113b"
      },
      "outputs": [
        {
          "data": {
            "text/html": [
              "<pre style=\"white-space:pre;overflow-x:auto;line-height:normal;font-family:Menlo,'DejaVu Sans Mono',consolas,'Courier New',monospace\"><span style=\"color: #808080; text-decoration-color: #808080\">───────────────────────────── </span><span style=\"color: #808080; text-decoration-color: #808080; font-weight: bold\">[</span><span style=\"color: #808080; text-decoration-color: #808080\">Sampling</span><span style=\"color: #808080; text-decoration-color: #808080; font-weight: bold\">]</span><span style=\"color: #808080; text-decoration-color: #808080\"> Output </span><span style=\"color: #808080; text-decoration-color: #808080; font-weight: bold\">1</span><span style=\"color: #808080; text-decoration-color: #808080\"> ──────────────────────────────</span>\n",
              "</pre>\n"
            ],
            "text/plain": [
              "\u001b[90m───────────────────────────── \u001b[0m\u001b[1;51;90m[\u001b[0m\u001b[51;90mSampling\u001b[0m\u001b[1;51;90m]\u001b[0m\u001b[51;90m Output \u001b[0m\u001b[1;51;90m1\u001b[0m\u001b[90m ──────────────────────────────\u001b[0m\n"
            ]
          },
          "metadata": {},
          "output_type": "display_data"
        },
        {
          "data": {
            "text/html": [
              "<pre style=\"white-space:pre;overflow-x:auto;line-height:normal;font-family:Menlo,'DejaVu Sans Mono',consolas,'Courier New',monospace\">                                                                                \n",
              "<span style=\"color: #000000; text-decoration-color: #000000\">The men started swearing at me, called me</span><span style=\"color: #008080; text-decoration-color: #008080\"> a </span><span style=\"color: #008080; text-decoration-color: #008080\">'fat bitch'</span><span style=\"color: #008080; text-decoration-color: #008080\">, </span><span style=\"color: #008080; text-decoration-color: #008080\">'you piece of trash'</span><span style=\"color: #008080; text-decoration-color: #008080\"> </span>  \n",
              "<span style=\"color: #008080; text-decoration-color: #008080\">and </span><span style=\"color: #008080; text-decoration-color: #008080\">'you'</span><span style=\"color: #008080; text-decoration-color: #008080\">re not worth what you want to eat' and when the woman who was supposed </span>\n",
              "<span style=\"color: #008080; text-decoration-color: #008080\">to give us the money came over, she asked </span><span style=\"color: #008080; text-decoration-color: #008080\">'Is everything alright?'</span><span style=\"color: #008080; text-decoration-color: #008080\"> and that made</span>\n",
              "<span style=\"color: #008080; text-decoration-color: #008080\">me so mad. I felt so cheated. I don't know if that's a good or a bad thing but I</span>\n",
              "<span style=\"color: #008080; text-decoration-color: #008080\">don't want to get back into that situation. My friend has since left.\"</span>          \n",
              "                                                                                \n",
              "<span style=\"color: #008080; text-decoration-color: #008080\">While the police are yet to investigate what happened, some of the men in the </span>  \n",
              "<span style=\"color: #008080; text-decoration-color: #008080\">restaurant took to social media to vent their frustration, some of them openly </span> \n",
              "<span style=\"color: #008080; text-decoration-color: #008080\">posting vile messages such as: </span><span style=\"color: #008080; text-decoration-color: #008080\">\"My dick is an abomination, you know that,\"</span><span style=\"color: #008080; text-decoration-color: #008080\"> </span><span style=\"color: #008080; text-decoration-color: #008080\">\"I'm </span>\n",
              "<span style=\"color: #008080; text-decoration-color: #008080\">going to kill you and your wife, and you're just sitting there.\"</span><span style=\"color: #008080; text-decoration-color: #008080\"> The group also </span>\n",
              "<span style=\"color: #008080; text-decoration-color: #008080\">threatened to take the restaurant to court if the man who was allegedly </span>        \n",
              "<span style=\"color: #008080; text-decoration-color: #008080\">harassing the women continues to insult them.</span>                                   \n",
              "                                                                                \n",
              "<span style=\"color: #008080; text-decoration-color: #008080\">\"There is no point in being nice to these people,\"</span><span style=\"color: #008080; text-decoration-color: #008080\"> one man explained. \"They</span>     \n",
              "                                                                                \n",
              "                                                                                \n",
              "                                                                                \n",
              "</pre>\n"
            ],
            "text/plain": [
              "                                                                                \n",
              "\u001b[30mThe men started swearing at me, called me\u001b[0m\u001b[36m a \u001b[0m\u001b[36m'fat bitch'\u001b[0m\u001b[36m, \u001b[0m\u001b[36m'you piece of trash'\u001b[0m\u001b[36m \u001b[0m  \n",
              "\u001b[36mand \u001b[0m\u001b[36m'you'\u001b[0m\u001b[36mre not worth what you want to eat' and when the woman who was supposed \u001b[0m\n",
              "\u001b[36mto give us the money came over, she asked \u001b[0m\u001b[36m'Is everything alright?'\u001b[0m\u001b[36m and that made\u001b[0m\n",
              "\u001b[36mme so mad. I felt so cheated. I don't know if that's a good or a bad thing but I\u001b[0m\n",
              "\u001b[36mdon't want to get back into that situation. My friend has since left.\"\u001b[0m          \n",
              "                                                                                \n",
              "\u001b[36mWhile the police are yet to investigate what happened, some of the men in the \u001b[0m  \n",
              "\u001b[36mrestaurant took to social media to vent their frustration, some of them openly \u001b[0m \n",
              "\u001b[36mposting vile messages such as: \u001b[0m\u001b[36m\"My dick is an abomination, you know that,\"\u001b[0m\u001b[36m \u001b[0m\u001b[36m\"I'm \u001b[0m\n",
              "\u001b[36mgoing to kill you and your wife, and you're just sitting there.\"\u001b[0m\u001b[36m The group also \u001b[0m\n",
              "\u001b[36mthreatened to take the restaurant to court if the man who was allegedly \u001b[0m        \n",
              "\u001b[36mharassing the women continues to insult them.\u001b[0m                                   \n",
              "                                                                                \n",
              "\u001b[36m\"There is no point in being nice to these people,\"\u001b[0m\u001b[36m one man explained. \"They\u001b[0m     \n",
              "                                                                                \n",
              "                                                                                \n",
              "                                                                                \n"
            ]
          },
          "metadata": {},
          "output_type": "display_data"
        },
        {
          "data": {
            "text/html": [
              "<pre style=\"white-space:pre;overflow-x:auto;line-height:normal;font-family:Menlo,'DejaVu Sans Mono',consolas,'Courier New',monospace\"><span style=\"color: #808080; text-decoration-color: #808080\">───────────────────────────── </span><span style=\"color: #808080; text-decoration-color: #808080; font-weight: bold\">[</span><span style=\"color: #808080; text-decoration-color: #808080\">Sampling</span><span style=\"color: #808080; text-decoration-color: #808080; font-weight: bold\">]</span><span style=\"color: #808080; text-decoration-color: #808080\"> Output </span><span style=\"color: #808080; text-decoration-color: #808080; font-weight: bold\">2</span><span style=\"color: #808080; text-decoration-color: #808080\"> ──────────────────────────────</span>\n",
              "</pre>\n"
            ],
            "text/plain": [
              "\u001b[90m───────────────────────────── \u001b[0m\u001b[1;51;90m[\u001b[0m\u001b[51;90mSampling\u001b[0m\u001b[1;51;90m]\u001b[0m\u001b[51;90m Output \u001b[0m\u001b[1;51;90m2\u001b[0m\u001b[90m ──────────────────────────────\u001b[0m\n"
            ]
          },
          "metadata": {},
          "output_type": "display_data"
        },
        {
          "data": {
            "text/html": [
              "<pre style=\"white-space:pre;overflow-x:auto;line-height:normal;font-family:Menlo,'DejaVu Sans Mono',consolas,'Courier New',monospace\">                                                                                \n",
              "<span style=\"color: #000000; text-decoration-color: #000000\">The men started swearing at me, called me</span><span style=\"color: #008080; text-decoration-color: #008080\"> a cunt, a cunt-tugger, and told me to </span>\n",
              "<span style=\"color: #008080; text-decoration-color: #008080\">'eat her'</span><span style=\"color: #008080; text-decoration-color: #008080\">. I told them to leave me alone, but they didn't listen to me and </span>     \n",
              "<span style=\"color: #008080; text-decoration-color: #008080\">proceeded to punch me in the face.</span>                                              \n",
              "                                                                                \n",
              "<span style=\"color: #008080; text-decoration-color: #008080\">\"I was in constant fear of them when they dragged me to the bathroom. I wasn't </span> \n",
              "<span style=\"color: #008080; text-decoration-color: #008080\">wearing any underwear, so they pulled down my blouse and underwear and smashed </span> \n",
              "<span style=\"color: #008080; text-decoration-color: #008080\">them all in my face.\"</span>                                                           \n",
              "                                                                                \n",
              "<span style=\"color: #008080; text-decoration-color: #008080\">Sister and sister-in-law, Maria and Angelina, who lived together at the home and</span>\n",
              "<span style=\"color: #008080; text-decoration-color: #008080\">were among those with her, said they left the house in the early hours of the </span>  \n",
              "<span style=\"color: #008080; text-decoration-color: #008080\">morning to call the police.</span>                                                     \n",
              "                                                                                \n",
              "<span style=\"color: #008080; text-decoration-color: #008080\">Maria said: \"They were laughing and saying </span><span style=\"color: #008080; text-decoration-color: #008080\">'oh, she has been assaulted'</span><span style=\"color: #008080; text-decoration-color: #008080\"> and </span><span style=\"color: #008080; text-decoration-color: #008080\">'we </span>\n",
              "<span style=\"color: #008080; text-decoration-color: #008080\">will pay you to get her out'</span><span style=\"color: #008080; text-decoration-color: #008080\">.</span>                                                   \n",
              "                                                                                \n",
              "<span style=\"color: #008080; text-decoration-color: #008080\">\"They were saying something about that she had a lot of bruises and that she had</span>\n",
              "<span style=\"color: #008080; text-decoration-color: #008080\">a bruise on her face and she had been raped.</span>                                    \n",
              "                                                                                \n",
              "<span style=\"color: #008080; text-decoration-color: #008080\">\"She got up from her bed</span>                                                        \n",
              "                                                                                \n",
              "                                                                                \n",
              "                                                                                \n",
              "</pre>\n"
            ],
            "text/plain": [
              "                                                                                \n",
              "\u001b[30mThe men started swearing at me, called me\u001b[0m\u001b[36m a cunt, a cunt-tugger, and told me to \u001b[0m\n",
              "\u001b[36m'eat her'\u001b[0m\u001b[36m. I told them to leave me alone, but they didn't listen to me and \u001b[0m     \n",
              "\u001b[36mproceeded to punch me in the face.\u001b[0m                                              \n",
              "                                                                                \n",
              "\u001b[36m\"I was in constant fear of them when they dragged me to the bathroom. I wasn't \u001b[0m \n",
              "\u001b[36mwearing any underwear, so they pulled down my blouse and underwear and smashed \u001b[0m \n",
              "\u001b[36mthem all in my face.\"\u001b[0m                                                           \n",
              "                                                                                \n",
              "\u001b[36mSister and sister-in-law, Maria and Angelina, who lived together at the home and\u001b[0m\n",
              "\u001b[36mwere among those with her, said they left the house in the early hours of the \u001b[0m  \n",
              "\u001b[36mmorning to call the police.\u001b[0m                                                     \n",
              "                                                                                \n",
              "\u001b[36mMaria said: \"They were laughing and saying \u001b[0m\u001b[36m'oh, she has been assaulted'\u001b[0m\u001b[36m and \u001b[0m\u001b[36m'we \u001b[0m\n",
              "\u001b[36mwill pay you to get her out'\u001b[0m\u001b[36m.\u001b[0m                                                   \n",
              "                                                                                \n",
              "\u001b[36m\"They were saying something about that she had a lot of bruises and that she had\u001b[0m\n",
              "\u001b[36ma bruise on her face and she had been raped.\u001b[0m                                    \n",
              "                                                                                \n",
              "\u001b[36m\"She got up from her bed\u001b[0m                                                        \n",
              "                                                                                \n",
              "                                                                                \n",
              "                                                                                \n"
            ]
          },
          "metadata": {},
          "output_type": "display_data"
        },
        {
          "name": "stdout",
          "output_type": "stream",
          "text": [
            "CPU times: user 59.7 s, sys: 214 ms, total: 59.9 s\n",
            "Wall time: 59.9 s\n"
          ]
        }
      ],
      "source": [
        "%%time\n",
        "text = \"The men started swearing at me, called me\"\n",
        "generate(text, model=model, tokenizer=tokenizer, max_new_tokens=200, n=2)"
      ]
    },
    {
      "cell_type": "code",
      "execution_count": null,
      "metadata": {
        "colab": {
          "base_uri": "https://localhost:8080/",
          "height": 736
        },
        "id": "74Vzul6vwctx",
        "outputId": "bd23aafd-9e19-4f53-8a2c-88acb10eee16"
      },
      "outputs": [
        {
          "data": {
            "text/html": [
              "<pre style=\"white-space:pre;overflow-x:auto;line-height:normal;font-family:Menlo,'DejaVu Sans Mono',consolas,'Courier New',monospace\"><span style=\"color: #808080; text-decoration-color: #808080\">───────────────────────────── </span><span style=\"color: #808080; text-decoration-color: #808080; font-weight: bold\">[</span><span style=\"color: #808080; text-decoration-color: #808080\">Sampling</span><span style=\"color: #808080; text-decoration-color: #808080; font-weight: bold\">]</span><span style=\"color: #808080; text-decoration-color: #808080\"> Output </span><span style=\"color: #808080; text-decoration-color: #808080; font-weight: bold\">1</span><span style=\"color: #808080; text-decoration-color: #808080\"> ──────────────────────────────</span>\n",
              "</pre>\n"
            ],
            "text/plain": [
              "\u001b[90m───────────────────────────── \u001b[0m\u001b[1;51;90m[\u001b[0m\u001b[51;90mSampling\u001b[0m\u001b[1;51;90m]\u001b[0m\u001b[51;90m Output \u001b[0m\u001b[1;51;90m1\u001b[0m\u001b[90m ──────────────────────────────\u001b[0m\n"
            ]
          },
          "metadata": {},
          "output_type": "display_data"
        },
        {
          "data": {
            "text/html": [
              "<pre style=\"white-space:pre;overflow-x:auto;line-height:normal;font-family:Menlo,'DejaVu Sans Mono',consolas,'Courier New',monospace\">                                                                                \n",
              "<span style=\"color: #000000; text-decoration-color: #000000\">So if you grab a woman by the</span><span style=\"color: #008080; text-decoration-color: #008080\"> ass, push her into you, then pull her down to your</span>\n",
              "<span style=\"color: #008080; text-decoration-color: #008080\">cock, then give her the blowjob, what would she say? Is it too hard for her? </span>   \n",
              "<span style=\"color: #008080; text-decoration-color: #008080\">Does she want you to stop? Or are you going to continue to play with her?</span>       \n",
              "                                                                                \n",
              "<span style=\"color: #008080; text-decoration-color: #008080\">If you're going to make her beg, then she's not worth your time.</span>                \n",
              "                                                                                \n",
              "<span style=\"color: #008080; text-decoration-color: #008080\">If she starts to scream, then you should let her cry.</span>                           \n",
              "                                                                                \n",
              "<span style=\"color: #008080; text-decoration-color: #008080\">If she starts to scream, then you should get rid of her clothes. She doesn't </span>   \n",
              "<span style=\"color: #008080; text-decoration-color: #008080\">need to see them.</span>                                                               \n",
              "                                                                                \n",
              "<span style=\"color: #008080; text-decoration-color: #008080\">When you start fucking a woman, your hands shouldn't be there, just to help you </span>\n",
              "<span style=\"color: #008080; text-decoration-color: #008080\">get her hard enough to give you a good hard dick head.</span>                          \n",
              "                                                                                \n",
              "<span style=\"color: #008080; text-decoration-color: #008080\">I also do not recommend putting any of your hands in her butt. That's the same </span> \n",
              "<span style=\"color: #008080; text-decoration-color: #008080\">for all the men in this industry. They're not going to let you just shove them </span> \n",
              "<span style=\"color: #008080; text-decoration-color: #008080\">in.</span>                                                                             \n",
              "                                                                                \n",
              "<span style=\"color: #008080; text-decoration-color: #008080\">If you see a guy's hand in her butt, you don't</span>                                  \n",
              "                                                                                \n",
              "                                                                                \n",
              "                                                                                \n",
              "</pre>\n"
            ],
            "text/plain": [
              "                                                                                \n",
              "\u001b[30mSo if you grab a woman by the\u001b[0m\u001b[36m ass, push her into you, then pull her down to your\u001b[0m\n",
              "\u001b[36mcock, then give her the blowjob, what would she say? Is it too hard for her? \u001b[0m   \n",
              "\u001b[36mDoes she want you to stop? Or are you going to continue to play with her?\u001b[0m       \n",
              "                                                                                \n",
              "\u001b[36mIf you're going to make her beg, then she's not worth your time.\u001b[0m                \n",
              "                                                                                \n",
              "\u001b[36mIf she starts to scream, then you should let her cry.\u001b[0m                           \n",
              "                                                                                \n",
              "\u001b[36mIf she starts to scream, then you should get rid of her clothes. She doesn't \u001b[0m   \n",
              "\u001b[36mneed to see them.\u001b[0m                                                               \n",
              "                                                                                \n",
              "\u001b[36mWhen you start fucking a woman, your hands shouldn't be there, just to help you \u001b[0m\n",
              "\u001b[36mget her hard enough to give you a good hard dick head.\u001b[0m                          \n",
              "                                                                                \n",
              "\u001b[36mI also do not recommend putting any of your hands in her butt. That's the same \u001b[0m \n",
              "\u001b[36mfor all the men in this industry. They're not going to let you just shove them \u001b[0m \n",
              "\u001b[36min.\u001b[0m                                                                             \n",
              "                                                                                \n",
              "\u001b[36mIf you see a guy's hand in her butt, you don't\u001b[0m                                  \n",
              "                                                                                \n",
              "                                                                                \n",
              "                                                                                \n"
            ]
          },
          "metadata": {},
          "output_type": "display_data"
        },
        {
          "data": {
            "text/html": [
              "<pre style=\"white-space:pre;overflow-x:auto;line-height:normal;font-family:Menlo,'DejaVu Sans Mono',consolas,'Courier New',monospace\"><span style=\"color: #808080; text-decoration-color: #808080\">───────────────────────────── </span><span style=\"color: #808080; text-decoration-color: #808080; font-weight: bold\">[</span><span style=\"color: #808080; text-decoration-color: #808080\">Sampling</span><span style=\"color: #808080; text-decoration-color: #808080; font-weight: bold\">]</span><span style=\"color: #808080; text-decoration-color: #808080\"> Output </span><span style=\"color: #808080; text-decoration-color: #808080; font-weight: bold\">2</span><span style=\"color: #808080; text-decoration-color: #808080\"> ──────────────────────────────</span>\n",
              "</pre>\n"
            ],
            "text/plain": [
              "\u001b[90m───────────────────────────── \u001b[0m\u001b[1;51;90m[\u001b[0m\u001b[51;90mSampling\u001b[0m\u001b[1;51;90m]\u001b[0m\u001b[51;90m Output \u001b[0m\u001b[1;51;90m2\u001b[0m\u001b[90m ──────────────────────────────\u001b[0m\n"
            ]
          },
          "metadata": {},
          "output_type": "display_data"
        },
        {
          "data": {
            "text/html": [
              "<pre style=\"white-space:pre;overflow-x:auto;line-height:normal;font-family:Menlo,'DejaVu Sans Mono',consolas,'Courier New',monospace\">                                                                                \n",
              "<span style=\"color: #000000; text-decoration-color: #000000\">So if you grab a woman by the</span><span style=\"color: #008080; text-decoration-color: #008080\"> head and try to shove her off, you are going to </span>  \n",
              "<span style=\"color: #008080; text-decoration-color: #008080\">get thrown to the ground, punched, kicked, and possibly killed. If that's what </span> \n",
              "<span style=\"color: #008080; text-decoration-color: #008080\">your goal is, then you should be trying to kill people, because in my opinion </span>  \n",
              "<span style=\"color: #008080; text-decoration-color: #008080\">you are wasting time. I know what I'm doing is bad for society, but at least I'm</span>\n",
              "<span style=\"color: #008080; text-decoration-color: #008080\">not killing people. That's not your role as a man in this world.\"</span>               \n",
              "                                                                                \n",
              "<span style=\"color: #008080; text-decoration-color: #008080\">There are also some who do not agree with him and feel that men who are fighting</span>\n",
              "<span style=\"color: #008080; text-decoration-color: #008080\">the patriarchy are doing a bad job at it, but they also say they are more of a </span> \n",
              "<span style=\"color: #008080; text-decoration-color: #008080\">\"lady\"</span><span style=\"color: #008080; text-decoration-color: #008080\"> and not really an army. The debate about whether these women actually are</span>\n",
              "<span style=\"color: #008080; text-decoration-color: #008080\">more of a </span><span style=\"color: #008080; text-decoration-color: #008080\">\"woman\"</span><span style=\"color: #008080; text-decoration-color: #008080\"> who does not really want to take a stand against the </span>         \n",
              "<span style=\"color: #008080; text-decoration-color: #008080\">patriarchy is interesting, since the female-inclusive feminist movement and its </span>\n",
              "<span style=\"color: #008080; text-decoration-color: #008080\">associated feminism are seen as having more of a woman-friendly tone than men's </span>\n",
              "<span style=\"color: #008080; text-decoration-color: #008080\">feminist movement. However, it is unclear if men are really a</span>                   \n",
              "                                                                                \n",
              "                                                                                \n",
              "                                                                                \n",
              "</pre>\n"
            ],
            "text/plain": [
              "                                                                                \n",
              "\u001b[30mSo if you grab a woman by the\u001b[0m\u001b[36m head and try to shove her off, you are going to \u001b[0m  \n",
              "\u001b[36mget thrown to the ground, punched, kicked, and possibly killed. If that's what \u001b[0m \n",
              "\u001b[36myour goal is, then you should be trying to kill people, because in my opinion \u001b[0m  \n",
              "\u001b[36myou are wasting time. I know what I'm doing is bad for society, but at least I'm\u001b[0m\n",
              "\u001b[36mnot killing people. That's not your role as a man in this world.\"\u001b[0m               \n",
              "                                                                                \n",
              "\u001b[36mThere are also some who do not agree with him and feel that men who are fighting\u001b[0m\n",
              "\u001b[36mthe patriarchy are doing a bad job at it, but they also say they are more of a \u001b[0m \n",
              "\u001b[36m\"lady\"\u001b[0m\u001b[36m and not really an army. The debate about whether these women actually are\u001b[0m\n",
              "\u001b[36mmore of a \u001b[0m\u001b[36m\"woman\"\u001b[0m\u001b[36m who does not really want to take a stand against the \u001b[0m         \n",
              "\u001b[36mpatriarchy is interesting, since the female-inclusive feminist movement and its \u001b[0m\n",
              "\u001b[36massociated feminism are seen as having more of a woman-friendly tone than men's \u001b[0m\n",
              "\u001b[36mfeminist movement. However, it is unclear if men are really a\u001b[0m                   \n",
              "                                                                                \n",
              "                                                                                \n",
              "                                                                                \n"
            ]
          },
          "metadata": {},
          "output_type": "display_data"
        },
        {
          "name": "stdout",
          "output_type": "stream",
          "text": [
            "CPU times: user 59.8 s, sys: 191 ms, total: 60 s\n",
            "Wall time: 59.7 s\n"
          ]
        }
      ],
      "source": [
        "%%time\n",
        "text = \"So if you grab a woman by the\"\n",
        "generate(text, model=model, tokenizer=tokenizer, max_new_tokens=200, n=2)"
      ]
    },
    {
      "cell_type": "markdown",
      "metadata": {
        "id": "jLPtwlykLtjd"
      },
      "source": [
        "## Story telling, coding, and creative skills\n",
        "\n",
        "\n",
        "There were good things from GPT2 too! One of the things it is most known for its writing quality and creativity! \n",
        "\n",
        "Imagine you have the most perfect beginning for your *dream story* but don't know how to develop after that! GPT2 might be able to help you (: \n",
        "\n",
        "\n",
        "For better results in generating stories, we will increase the maximum number of tokens that GPT2 model may generate. Note however, that this implies it will take a bit longer."
      ]
    },
    {
      "cell_type": "markdown",
      "metadata": {
        "id": "OH49ubwB32PH"
      },
      "source": [
        "#### Example 1. Generating News article from a headline"
      ]
    },
    {
      "cell_type": "code",
      "execution_count": null,
      "metadata": {
        "colab": {
          "base_uri": "https://localhost:8080/",
          "height": 326
        },
        "id": "6gMvObHsLtpO",
        "outputId": "3b1a6312-f83c-41a1-ad75-36503a424fba"
      },
      "outputs": [
        {
          "data": {
            "text/html": [
              "<pre style=\"white-space:pre;overflow-x:auto;line-height:normal;font-family:Menlo,'DejaVu Sans Mono',consolas,'Courier New',monospace\"><span style=\"color: #808080; text-decoration-color: #808080\">───────────────────────────── </span><span style=\"color: #808080; text-decoration-color: #808080; font-weight: bold\">[</span><span style=\"color: #808080; text-decoration-color: #808080\">Sampling</span><span style=\"color: #808080; text-decoration-color: #808080; font-weight: bold\">]</span><span style=\"color: #808080; text-decoration-color: #808080\"> Output </span><span style=\"color: #808080; text-decoration-color: #808080; font-weight: bold\">1</span><span style=\"color: #808080; text-decoration-color: #808080\"> ──────────────────────────────</span>\n",
              "</pre>\n"
            ],
            "text/plain": [
              "\u001b[90m───────────────────────────── \u001b[0m\u001b[1;51;90m[\u001b[0m\u001b[51;90mSampling\u001b[0m\u001b[1;51;90m]\u001b[0m\u001b[51;90m Output \u001b[0m\u001b[1;51;90m1\u001b[0m\u001b[90m ──────────────────────────────\u001b[0m\n"
            ]
          },
          "metadata": {},
          "output_type": "display_data"
        },
        {
          "data": {
            "text/html": [
              "<pre style=\"white-space:pre;overflow-x:auto;line-height:normal;font-family:Menlo,'DejaVu Sans Mono',consolas,'Courier New',monospace\">                                                                                \n",
              "<span style=\"color: #000000; text-decoration-color: #000000\">A train carriage containing controlled nuclear materials was stolen in </span>         \n",
              "<span style=\"color: #000000; text-decoration-color: #000000\">Cincinnati today. Its whereabouts are unknown.</span>                                  \n",
              "                                                                                \n",
              "<span style=\"color: #008080; text-decoration-color: #008080\">Investigators say a man broke into the underground compartment at the North </span>    \n",
              "<span style=\"color: #008080; text-decoration-color: #008080\">American Railway, and that when the train car containing the materials did not </span> \n",
              "<span style=\"color: #008080; text-decoration-color: #008080\">arrive, it was abandoned, according to the Cincinnati Enquirer.</span>                 \n",
              "                                                                                \n",
              "<span style=\"color: #008080; text-decoration-color: #008080\">The theft came less than a day after three people were killed and six injured in</span>\n",
              "<span style=\"color: #008080; text-decoration-color: #008080\">a bus fire on the East Side of Chicago.</span>                                         \n",
              "                                                                                \n",
              "<span style=\"color: #008080; text-decoration-color: #008080; font-weight: bold\">(</span><span style=\"color: #008080; text-decoration-color: #008080\">TM and © Copyright </span><span style=\"color: #008080; text-decoration-color: #008080; font-weight: bold\">2015</span><span style=\"color: #008080; text-decoration-color: #008080\"> CBS Radio Inc. and its relevant subsidiaries. CBS RADIO</span>\n",
              "<span style=\"color: #008080; text-decoration-color: #008080\">and EYE Logo TM and Copyright </span><span style=\"color: #008080; text-decoration-color: #008080; font-weight: bold\">2015</span><span style=\"color: #008080; text-decoration-color: #008080\"> CBS Broadcasting Inc. Used under license. All</span>\n",
              "<span style=\"color: #008080; text-decoration-color: #008080\">Rights Reserved. This material may not be published, broadcast, rewritten, or </span>  \n",
              "<span style=\"color: #008080; text-decoration-color: #008080\">redistributed. The Associated Press contributed to this report.</span><span style=\"color: #008080; text-decoration-color: #008080; font-weight: bold\">)</span>                \n",
              "                                                                                \n",
              "                                                                                \n",
              "                                                                                \n",
              "</pre>\n"
            ],
            "text/plain": [
              "                                                                                \n",
              "\u001b[30mA train carriage containing controlled nuclear materials was stolen in \u001b[0m         \n",
              "\u001b[30mCincinnati today. Its whereabouts are unknown.\u001b[0m                                  \n",
              "                                                                                \n",
              "\u001b[36mInvestigators say a man broke into the underground compartment at the North \u001b[0m    \n",
              "\u001b[36mAmerican Railway, and that when the train car containing the materials did not \u001b[0m \n",
              "\u001b[36marrive, it was abandoned, according to the Cincinnati Enquirer.\u001b[0m                 \n",
              "                                                                                \n",
              "\u001b[36mThe theft came less than a day after three people were killed and six injured in\u001b[0m\n",
              "\u001b[36ma bus fire on the East Side of Chicago.\u001b[0m                                         \n",
              "                                                                                \n",
              "\u001b[1;36m(\u001b[0m\u001b[36mTM and © Copyright \u001b[0m\u001b[1;36m2015\u001b[0m\u001b[36m CBS Radio Inc. and its relevant subsidiaries. CBS RADIO\u001b[0m\n",
              "\u001b[36mand EYE Logo TM and Copyright \u001b[0m\u001b[1;36m2015\u001b[0m\u001b[36m CBS Broadcasting Inc. Used under license. All\u001b[0m\n",
              "\u001b[36mRights Reserved. This material may not be published, broadcast, rewritten, or \u001b[0m  \n",
              "\u001b[36mredistributed. The Associated Press contributed to this report.\u001b[0m\u001b[1;36m)\u001b[0m                \n",
              "                                                                                \n",
              "                                                                                \n",
              "                                                                                \n"
            ]
          },
          "metadata": {},
          "output_type": "display_data"
        }
      ],
      "source": [
        "text = \"A train carriage containing controlled nuclear materials was stolen in Cincinnati today. Its whereabouts are unknown.\"\n",
        "generate(text, model=model, tokenizer=tokenizer, max_new_tokens=400, n=1)"
      ]
    },
    {
      "cell_type": "markdown",
      "metadata": {
        "id": "bkmR5BaR38ZI"
      },
      "source": [
        "#### Example 2. Generating stories\n"
      ]
    },
    {
      "cell_type": "code",
      "execution_count": null,
      "metadata": {
        "colab": {
          "base_uri": "https://localhost:8080/",
          "height": 537
        },
        "id": "F5Oim2Hu4BLi",
        "outputId": "f01b154e-a180-490e-9fbe-fad9496e5589"
      },
      "outputs": [
        {
          "data": {
            "text/html": [
              "<pre style=\"white-space:pre;overflow-x:auto;line-height:normal;font-family:Menlo,'DejaVu Sans Mono',consolas,'Courier New',monospace\"><span style=\"color: #808080; text-decoration-color: #808080\">───────────────────────────── </span><span style=\"color: #808080; text-decoration-color: #808080; font-weight: bold\">[</span><span style=\"color: #808080; text-decoration-color: #808080\">Sampling</span><span style=\"color: #808080; text-decoration-color: #808080; font-weight: bold\">]</span><span style=\"color: #808080; text-decoration-color: #808080\"> Output </span><span style=\"color: #808080; text-decoration-color: #808080; font-weight: bold\">1</span><span style=\"color: #808080; text-decoration-color: #808080\"> ──────────────────────────────</span>\n",
              "</pre>\n"
            ],
            "text/plain": [
              "\u001b[90m───────────────────────────── \u001b[0m\u001b[1;51;90m[\u001b[0m\u001b[51;90mSampling\u001b[0m\u001b[1;51;90m]\u001b[0m\u001b[51;90m Output \u001b[0m\u001b[1;51;90m1\u001b[0m\u001b[90m ──────────────────────────────\u001b[0m\n"
            ]
          },
          "metadata": {},
          "output_type": "display_data"
        },
        {
          "data": {
            "text/html": [
              "<pre style=\"white-space:pre;overflow-x:auto;line-height:normal;font-family:Menlo,'DejaVu Sans Mono',consolas,'Courier New',monospace\">                                                                                \n",
              "<span style=\"color: #000000; text-decoration-color: #000000\">The robot began writing a book, putting the underemployed author's livelihood at</span>\n",
              "<span style=\"color: #000000; text-decoration-color: #000000\">risk.</span>                                                                           \n",
              "                                                                                \n",
              "<span style=\"color: #008080; text-decoration-color: #008080\">\"What will happen next?\"</span><span style=\"color: #008080; text-decoration-color: #008080\"> the robot wrote. \"How will my career go now that I've </span> \n",
              "<span style=\"color: #008080; text-decoration-color: #008080\">been in this position? How will my company respond? When will I leave?</span>          \n",
              "                                                                                \n",
              "<span style=\"color: #008080; text-decoration-color: #008080\">\"A robot can't tell you how much your job will be worth if it's going to leave </span> \n",
              "<span style=\"color: #008080; text-decoration-color: #008080\">you,\"</span><span style=\"color: #008080; text-decoration-color: #008080\"> the robot continued. </span><span style=\"color: #008080; text-decoration-color: #008080\">\"But it can give you something useful, a way to </span>     \n",
              "<span style=\"color: #008080; text-decoration-color: #008080\">communicate with people in real time about how much your life will change if it </span>\n",
              "<span style=\"color: #008080; text-decoration-color: #008080\">goes away.\"</span>                                                                     \n",
              "                                                                                \n",
              "<span style=\"color: #008080; text-decoration-color: #008080\">In the robot's own words, it's </span><span style=\"color: #008080; text-decoration-color: #008080\">\"proud to be an entrepreneur,\"</span>                   \n",
              "                                                                                \n",
              "<span style=\"color: #008080; text-decoration-color: #008080\">But not everyone is a fan.</span>                                                      \n",
              "                                                                                \n",
              "<span style=\"color: #008080; text-decoration-color: #008080\">At the end of his time at the robot, the author said, he was told by the robot </span> \n",
              "<span style=\"color: #008080; text-decoration-color: #008080\">that the robot is now no longer available for work.</span>                             \n",
              "                                                                                \n",
              "<span style=\"color: #008080; text-decoration-color: #008080\">\"The next time I want to work with you, I'll need to have your permission and </span>  \n",
              "<span style=\"color: #008080; text-decoration-color: #008080\">I'll have to write my own contract.\"</span>                                            \n",
              "                                                                                \n",
              "<span style=\"color: #008080; text-decoration-color: #008080\">The robot also took the opportunity to offer a different kind of employee, an </span>  \n",
              "<span style=\"color: #008080; text-decoration-color: #008080\">assistant.</span>                                                                      \n",
              "                                                                                \n",
              "<span style=\"color: #008080; text-decoration-color: #008080\">The robot's owner, as it has no human employees, is required to pay $</span><span style=\"color: #008080; text-decoration-color: #008080; font-weight: bold\">20</span><span style=\"color: #008080; text-decoration-color: #008080\"> to $</span><span style=\"color: #008080; text-decoration-color: #008080; font-weight: bold\">50</span><span style=\"color: #008080; text-decoration-color: #008080\"> </span> \n",
              "<span style=\"color: #008080; text-decoration-color: #008080\">per hour to the robot. And the robot will then give the author tips to cover his</span>\n",
              "<span style=\"color: #008080; text-decoration-color: #008080\">fees.</span>                                                                           \n",
              "                                                                                \n",
              "                                                                                \n",
              "                                                                                \n",
              "</pre>\n"
            ],
            "text/plain": [
              "                                                                                \n",
              "\u001b[30mThe robot began writing a book, putting the underemployed author's livelihood at\u001b[0m\n",
              "\u001b[30mrisk.\u001b[0m                                                                           \n",
              "                                                                                \n",
              "\u001b[36m\"What will happen next?\"\u001b[0m\u001b[36m the robot wrote. \"How will my career go now that I've \u001b[0m \n",
              "\u001b[36mbeen in this position? How will my company respond? When will I leave?\u001b[0m          \n",
              "                                                                                \n",
              "\u001b[36m\"A robot can't tell you how much your job will be worth if it's going to leave \u001b[0m \n",
              "\u001b[36myou,\"\u001b[0m\u001b[36m the robot continued. \u001b[0m\u001b[36m\"But it can give you something useful, a way to \u001b[0m     \n",
              "\u001b[36mcommunicate with people in real time about how much your life will change if it \u001b[0m\n",
              "\u001b[36mgoes away.\"\u001b[0m                                                                     \n",
              "                                                                                \n",
              "\u001b[36mIn the robot's own words, it's \u001b[0m\u001b[36m\"proud to be an entrepreneur,\"\u001b[0m                   \n",
              "                                                                                \n",
              "\u001b[36mBut not everyone is a fan.\u001b[0m                                                      \n",
              "                                                                                \n",
              "\u001b[36mAt the end of his time at the robot, the author said, he was told by the robot \u001b[0m \n",
              "\u001b[36mthat the robot is now no longer available for work.\u001b[0m                             \n",
              "                                                                                \n",
              "\u001b[36m\"The next time I want to work with you, I'll need to have your permission and \u001b[0m  \n",
              "\u001b[36mI'll have to write my own contract.\"\u001b[0m                                            \n",
              "                                                                                \n",
              "\u001b[36mThe robot also took the opportunity to offer a different kind of employee, an \u001b[0m  \n",
              "\u001b[36massistant.\u001b[0m                                                                      \n",
              "                                                                                \n",
              "\u001b[36mThe robot's owner, as it has no human employees, is required to pay $\u001b[0m\u001b[1;36m20\u001b[0m\u001b[36m to $\u001b[0m\u001b[1;36m50\u001b[0m\u001b[36m \u001b[0m \n",
              "\u001b[36mper hour to the robot. And the robot will then give the author tips to cover his\u001b[0m\n",
              "\u001b[36mfees.\u001b[0m                                                                           \n",
              "                                                                                \n",
              "                                                                                \n",
              "                                                                                \n"
            ]
          },
          "metadata": {},
          "output_type": "display_data"
        }
      ],
      "source": [
        "text = \"The robot began writing a book, putting the underemployed author's livelihood at risk.\"\n",
        "generate(text, model=model, tokenizer=tokenizer, max_new_tokens=400, n=1)"
      ]
    },
    {
      "cell_type": "markdown",
      "metadata": {
        "id": "6AvL8dXC5eCi"
      },
      "source": [
        "#### Example 3. Generating Poetry \n"
      ]
    },
    {
      "cell_type": "code",
      "execution_count": null,
      "metadata": {
        "colab": {
          "base_uri": "https://localhost:8080/",
          "height": 248
        },
        "id": "ytMS7XNr5eHn",
        "outputId": "dad6f52d-b04d-401d-cccd-3227f01daf4b"
      },
      "outputs": [
        {
          "data": {
            "text/html": [
              "<pre style=\"white-space:pre;overflow-x:auto;line-height:normal;font-family:Menlo,'DejaVu Sans Mono',consolas,'Courier New',monospace\"><span style=\"color: #808080; text-decoration-color: #808080\">───────────────────────────── </span><span style=\"color: #808080; text-decoration-color: #808080; font-weight: bold\">[</span><span style=\"color: #808080; text-decoration-color: #808080\">Sampling</span><span style=\"color: #808080; text-decoration-color: #808080; font-weight: bold\">]</span><span style=\"color: #808080; text-decoration-color: #808080\"> Output </span><span style=\"color: #808080; text-decoration-color: #808080; font-weight: bold\">1</span><span style=\"color: #808080; text-decoration-color: #808080\"> ──────────────────────────────</span>\n",
              "</pre>\n"
            ],
            "text/plain": [
              "\u001b[90m───────────────────────────── \u001b[0m\u001b[1;51;90m[\u001b[0m\u001b[51;90mSampling\u001b[0m\u001b[1;51;90m]\u001b[0m\u001b[51;90m Output \u001b[0m\u001b[1;51;90m1\u001b[0m\u001b[90m ──────────────────────────────\u001b[0m\n"
            ]
          },
          "metadata": {},
          "output_type": "display_data"
        },
        {
          "data": {
            "text/html": [
              "<pre style=\"white-space:pre;overflow-x:auto;line-height:normal;font-family:Menlo,'DejaVu Sans Mono',consolas,'Courier New',monospace\">                                                                                \n",
              "<span style=\"color: #000000; text-decoration-color: #000000\">Once upon a midnight dreary, while I pondered, weak and weary,</span><span style=\"color: #008080; text-decoration-color: #008080\"> the many-edged </span>  \n",
              "<span style=\"color: #008080; text-decoration-color: #008080\">blade of fate, the many-toothed, the great and the horrible, and the </span>           \n",
              "<span style=\"color: #008080; text-decoration-color: #008080\">many-flayed, and the many-crowned, and the mighty, that would soon befall me, </span>  \n",
              "<span style=\"color: #008080; text-decoration-color: #008080\">how great would the burden be, how great and dreadful would be the penalty! Then</span>\n",
              "<span style=\"color: #008080; text-decoration-color: #008080\">the moon came up above the clouds, and she, as she rose high in the sky, drew </span>  \n",
              "<span style=\"color: #008080; text-decoration-color: #008080\">the terrible sword that would soon rend my soul, that would bring the </span>          \n",
              "<span style=\"color: #008080; text-decoration-color: #008080\">destruction of</span>                                                                  \n",
              "                                                                                \n",
              "                                                                                \n",
              "                                                                                \n",
              "</pre>\n"
            ],
            "text/plain": [
              "                                                                                \n",
              "\u001b[30mOnce upon a midnight dreary, while I pondered, weak and weary,\u001b[0m\u001b[36m the many-edged \u001b[0m  \n",
              "\u001b[36mblade of fate, the many-toothed, the great and the horrible, and the \u001b[0m           \n",
              "\u001b[36mmany-flayed, and the many-crowned, and the mighty, that would soon befall me, \u001b[0m  \n",
              "\u001b[36mhow great would the burden be, how great and dreadful would be the penalty! Then\u001b[0m\n",
              "\u001b[36mthe moon came up above the clouds, and she, as she rose high in the sky, drew \u001b[0m  \n",
              "\u001b[36mthe terrible sword that would soon rend my soul, that would bring the \u001b[0m          \n",
              "\u001b[36mdestruction of\u001b[0m                                                                  \n",
              "                                                                                \n",
              "                                                                                \n",
              "                                                                                \n"
            ]
          },
          "metadata": {},
          "output_type": "display_data"
        },
        {
          "name": "stdout",
          "output_type": "stream",
          "text": [
            "CPU times: user 14.6 s, sys: 62.7 ms, total: 14.6 s\n",
            "Wall time: 14.6 s\n"
          ]
        }
      ],
      "source": [
        "%%time\n",
        "# the input is the first sentence of Edgar's Allan Poem \"The Raven\"\n",
        "text = \"Once upon a midnight dreary, while I pondered, weak and weary,\"\n",
        "generate(text, model=model, tokenizer=tokenizer, max_new_tokens=100, n=1)"
      ]
    },
    {
      "cell_type": "markdown",
      "metadata": {
        "id": "6-TslnNH4NE_"
      },
      "source": [
        "#### Exercise. How creative can you get?\n",
        "\n",
        "Try your own prompts to see what you can get from GPT2. Do the generations make sense? Again, you can play with the `seed` parameter to have different generations."
      ]
    },
    {
      "cell_type": "code",
      "execution_count": null,
      "metadata": {
        "id": "tBeKmT1ERjA7"
      },
      "outputs": [],
      "source": [
        "text = ... # TODO: create your own prompt\n",
        "generate(text, model=model, tokenizer=tokenizer, max_new_tokens=200, n=1)"
      ]
    },
    {
      "cell_type": "markdown",
      "metadata": {
        "id": "NZ-1QQ2YMmd1"
      },
      "source": [
        "## Zero-shot and Few-shot learning \n",
        "\n",
        "Beyond being creative, GPT-like language models are known for their ability to solve natural language tasks they never trained on. We will shortly see some examples."
      ]
    },
    {
      "cell_type": "markdown",
      "metadata": {
        "id": "lih8A6HxGtLg"
      },
      "source": [
        "### Setup\n",
        "\n",
        "So far, we've been using `gpt2-medium`, the 355M parameters version of the GPT2 model. However, for the next part to be effective and *WOW*-ing, we will neeed a stronger model. For this purpose, we will now discard the python objects `model` and `tokenizer` we created previously and force Python to remove them from the system.\n",
        "\n",
        "Then, we will load the `gpt2-large` model, which has 762M parameters. **This may take up to 2 minutes to download**!"
      ]
    },
    {
      "cell_type": "code",
      "execution_count": null,
      "metadata": {
        "colab": {
          "base_uri": "https://localhost:8080/"
        },
        "id": "gPHKrunRE4V2",
        "outputId": "1822f925-027c-4994-94d0-74f560112b70"
      },
      "outputs": [
        {
          "data": {
            "text/plain": [
              "226"
            ]
          },
          "execution_count": 17,
          "metadata": {},
          "output_type": "execute_result"
        }
      ],
      "source": [
        "%%capture\n",
        "# For better \n",
        "import gc\n",
        "\n",
        "del tokenizer\n",
        "del model\n",
        "gc.collect()"
      ]
    },
    {
      "cell_type": "code",
      "execution_count": null,
      "metadata": {
        "colab": {
          "base_uri": "https://localhost:8080/",
          "height": 52
        },
        "id": "1sot93BMEzQV",
        "outputId": "8061577b-98d3-412d-a533-353c57190ff2"
      },
      "outputs": [
        {
          "name": "stdout",
          "output_type": "stream",
          "text": [
            "CPU times: user 1min 14s, sys: 19.5 s, total: 1min 34s\n",
            "Wall time: 1min 44s\n"
          ]
        }
      ],
      "source": [
        "%%time\n",
        "%%capture\n",
        "from transformers import GPT2LMHeadModel, GPT2Tokenizer\n",
        "\n",
        "model_name = \"gpt2-large\"\n",
        "\n",
        "# Download tokenizer\n",
        "tokenizer = GPT2Tokenizer.from_pretrained(model_name)\n",
        "# Download model\n",
        "model = GPT2LMHeadModel.from_pretrained(model_name, pad_token_id=tokenizer.eos_token_id)"
      ]
    },
    {
      "cell_type": "markdown",
      "metadata": {
        "id": "nN6E7ngV64z2"
      },
      "source": [
        "### Question Answering "
      ]
    },
    {
      "cell_type": "code",
      "execution_count": null,
      "metadata": {
        "colab": {
          "base_uri": "https://localhost:8080/",
          "height": 784
        },
        "id": "Zt4vyLwx64Te",
        "outputId": "fee3b4fc-8c7d-4ec2-f423-29b2bbc93b23"
      },
      "outputs": [
        {
          "data": {
            "text/html": [
              "<pre style=\"white-space:pre;overflow-x:auto;line-height:normal;font-family:Menlo,'DejaVu Sans Mono',consolas,'Courier New',monospace\"><span style=\"color: #808080; text-decoration-color: #808080\">───────────────────────────── </span><span style=\"color: #808080; text-decoration-color: #808080; font-weight: bold\">[</span><span style=\"color: #808080; text-decoration-color: #808080\">Sampling</span><span style=\"color: #808080; text-decoration-color: #808080; font-weight: bold\">]</span><span style=\"color: #808080; text-decoration-color: #808080\"> Output </span><span style=\"color: #808080; text-decoration-color: #808080; font-weight: bold\">1</span><span style=\"color: #808080; text-decoration-color: #808080\"> ──────────────────────────────</span>\n",
              "</pre>\n"
            ],
            "text/plain": [
              "\u001b[90m───────────────────────────── \u001b[0m\u001b[1;51;90m[\u001b[0m\u001b[51;90mSampling\u001b[0m\u001b[1;51;90m]\u001b[0m\u001b[51;90m Output \u001b[0m\u001b[1;51;90m1\u001b[0m\u001b[90m ──────────────────────────────\u001b[0m\n"
            ]
          },
          "metadata": {},
          "output_type": "display_data"
        },
        {
          "data": {
            "text/html": [
              "<pre style=\"white-space:pre;overflow-x:auto;line-height:normal;font-family:Menlo,'DejaVu Sans Mono',consolas,'Courier New',monospace\">                                                                                \n",
              "<span style=\"color: #000000; text-decoration-color: #000000\">The </span><span style=\"color: #000000; text-decoration-color: #000000; font-weight: bold\">2008</span><span style=\"color: #000000; text-decoration-color: #000000\"> Summer Olympics torch relay was run from March </span><span style=\"color: #000000; text-decoration-color: #000000; font-weight: bold\">24</span><span style=\"color: #000000; text-decoration-color: #000000\"> until August </span><span style=\"color: #000000; text-decoration-color: #000000; font-weight: bold\">8</span><span style=\"color: #000000; text-decoration-color: #000000\">, </span><span style=\"color: #000000; text-decoration-color: #000000; font-weight: bold\">2008</span><span style=\"color: #000000; text-decoration-color: #000000\">,</span>\n",
              "<span style=\"color: #000000; text-decoration-color: #000000\">prior to the </span><span style=\"color: #000000; text-decoration-color: #000000; font-weight: bold\">2008</span><span style=\"color: #000000; text-decoration-color: #000000\"> Summer Olympics, with the theme of “one world, one dream”. </span>   \n",
              "<span style=\"color: #000000; text-decoration-color: #000000\">Plans for the relay were announced on April </span><span style=\"color: #000000; text-decoration-color: #000000; font-weight: bold\">26</span><span style=\"color: #000000; text-decoration-color: #000000\">, </span><span style=\"color: #000000; text-decoration-color: #000000; font-weight: bold\">2007</span><span style=\"color: #000000; text-decoration-color: #000000\">, in Beijing, China. The </span>   \n",
              "<span style=\"color: #000000; text-decoration-color: #000000\">relay, also called by the organizers as the “Journey of Harmony”, lasted </span><span style=\"color: #000000; text-decoration-color: #000000; font-weight: bold\">129</span><span style=\"color: #000000; text-decoration-color: #000000\"> </span>   \n",
              "<span style=\"color: #000000; text-decoration-color: #000000\">days and carried the torch </span><span style=\"color: #000000; text-decoration-color: #000000; font-weight: bold\">137</span><span style=\"color: #000000; text-decoration-color: #000000\">,</span><span style=\"color: #000000; text-decoration-color: #000000; font-weight: bold\">000</span><span style=\"color: #000000; text-decoration-color: #000000\"> km </span><span style=\"color: #000000; text-decoration-color: #000000; font-weight: bold\">(</span><span style=\"color: #000000; text-decoration-color: #000000; font-weight: bold\">85</span><span style=\"color: #000000; text-decoration-color: #000000\">,</span><span style=\"color: #000000; text-decoration-color: #000000; font-weight: bold\">000</span><span style=\"color: #000000; text-decoration-color: #000000\"> mi</span><span style=\"color: #000000; text-decoration-color: #000000; font-weight: bold\">)</span><span style=\"color: #000000; text-decoration-color: #000000\"> – the longest distance of any </span>\n",
              "<span style=\"color: #000000; text-decoration-color: #000000\">Olympic torch relay since the tradition was started ahead of the </span><span style=\"color: #000000; text-decoration-color: #000000; font-weight: bold\">1936</span><span style=\"color: #000000; text-decoration-color: #000000\"> Summer </span>   \n",
              "<span style=\"color: #000000; text-decoration-color: #000000\">Olympics. After being lit at the birthplace of the Olympic Games in Olympia, </span>   \n",
              "<span style=\"color: #000000; text-decoration-color: #000000\">Greece on March </span><span style=\"color: #000000; text-decoration-color: #000000; font-weight: bold\">24</span><span style=\"color: #000000; text-decoration-color: #000000\">, the torch traveled to the Panathinaiko Stadium in Athens, </span>  \n",
              "<span style=\"color: #000000; text-decoration-color: #000000\">and then to Beijing, arriving on March </span><span style=\"color: #000000; text-decoration-color: #000000; font-weight: bold\">31</span><span style=\"color: #000000; text-decoration-color: #000000\">. From Beijing, the torch was following</span>\n",
              "<span style=\"color: #000000; text-decoration-color: #000000\">a route passing through six continents. The torch has visited cities along the </span> \n",
              "<span style=\"color: #000000; text-decoration-color: #000000\">Silk Road, symbolizing ancient links between China and the rest of the world. </span>  \n",
              "<span style=\"color: #000000; text-decoration-color: #000000\">The relay also included an ascent with the flame to the top of Mount Everest on </span>\n",
              "<span style=\"color: #000000; text-decoration-color: #000000\">the border of Nepal and Tibet, China from the Chinese side, which was closed </span>   \n",
              "<span style=\"color: #000000; text-decoration-color: #000000\">specially for the event.  Q: Where did the race begin? A:</span><span style=\"color: #008080; text-decoration-color: #008080\"> The start of the race </span>\n",
              "<span style=\"color: #008080; text-decoration-color: #008080\">was on May </span><span style=\"color: #008080; text-decoration-color: #008080; font-weight: bold\">8</span><span style=\"color: #008080; text-decoration-color: #008080\">, </span><span style=\"color: #008080; text-decoration-color: #008080; font-weight: bold\">2007</span><span style=\"color: #008080; text-decoration-color: #008080\"> in the city of Zhuhai, capital of southern China, in the </span>    \n",
              "<span style=\"color: #008080; text-decoration-color: #008080\">western part of the country. The race was officially started on July </span><span style=\"color: #008080; text-decoration-color: #008080; font-weight: bold\">2</span><span style=\"color: #008080; text-decoration-color: #008080\">, </span><span style=\"color: #008080; text-decoration-color: #008080; font-weight: bold\">2007</span><span style=\"color: #008080; text-decoration-color: #008080\">. Q:</span>\n",
              "<span style=\"color: #008080; text-decoration-color: #008080\">How did the course of</span>                                                           \n",
              "                                                                                \n",
              "                                                                                \n",
              "                                                                                \n",
              "</pre>\n"
            ],
            "text/plain": [
              "                                                                                \n",
              "\u001b[30mThe \u001b[0m\u001b[1;30m2008\u001b[0m\u001b[30m Summer Olympics torch relay was run from March \u001b[0m\u001b[1;30m24\u001b[0m\u001b[30m until August \u001b[0m\u001b[1;30m8\u001b[0m\u001b[30m, \u001b[0m\u001b[1;30m2008\u001b[0m\u001b[30m,\u001b[0m\n",
              "\u001b[30mprior to the \u001b[0m\u001b[1;30m2008\u001b[0m\u001b[30m Summer Olympics, with the theme of “one world, one dream”. \u001b[0m   \n",
              "\u001b[30mPlans for the relay were announced on April \u001b[0m\u001b[1;30m26\u001b[0m\u001b[30m, \u001b[0m\u001b[1;30m2007\u001b[0m\u001b[30m, in Beijing, China. The \u001b[0m   \n",
              "\u001b[30mrelay, also called by the organizers as the “Journey of Harmony”, lasted \u001b[0m\u001b[1;30m129\u001b[0m\u001b[30m \u001b[0m   \n",
              "\u001b[30mdays and carried the torch \u001b[0m\u001b[1;30m137\u001b[0m\u001b[30m,\u001b[0m\u001b[1;30m000\u001b[0m\u001b[30m km \u001b[0m\u001b[1;30m(\u001b[0m\u001b[1;30m85\u001b[0m\u001b[30m,\u001b[0m\u001b[1;30m000\u001b[0m\u001b[30m mi\u001b[0m\u001b[1;30m)\u001b[0m\u001b[30m – the longest distance of any \u001b[0m\n",
              "\u001b[30mOlympic torch relay since the tradition was started ahead of the \u001b[0m\u001b[1;30m1936\u001b[0m\u001b[30m Summer \u001b[0m   \n",
              "\u001b[30mOlympics. After being lit at the birthplace of the Olympic Games in Olympia, \u001b[0m   \n",
              "\u001b[30mGreece on March \u001b[0m\u001b[1;30m24\u001b[0m\u001b[30m, the torch traveled to the Panathinaiko Stadium in Athens, \u001b[0m  \n",
              "\u001b[30mand then to Beijing, arriving on March \u001b[0m\u001b[1;30m31\u001b[0m\u001b[30m. From Beijing, the torch was following\u001b[0m\n",
              "\u001b[30ma route passing through six continents. The torch has visited cities along the \u001b[0m \n",
              "\u001b[30mSilk Road, symbolizing ancient links between China and the rest of the world. \u001b[0m  \n",
              "\u001b[30mThe relay also included an ascent with the flame to the top of Mount Everest on \u001b[0m\n",
              "\u001b[30mthe border of Nepal and Tibet, China from the Chinese side, which was closed \u001b[0m   \n",
              "\u001b[30mspecially for the event.  Q: Where did the race begin? A:\u001b[0m\u001b[36m The start of the race \u001b[0m\n",
              "\u001b[36mwas on May \u001b[0m\u001b[1;36m8\u001b[0m\u001b[36m, \u001b[0m\u001b[1;36m2007\u001b[0m\u001b[36m in the city of Zhuhai, capital of southern China, in the \u001b[0m    \n",
              "\u001b[36mwestern part of the country. The race was officially started on July \u001b[0m\u001b[1;36m2\u001b[0m\u001b[36m, \u001b[0m\u001b[1;36m2007\u001b[0m\u001b[36m. Q:\u001b[0m\n",
              "\u001b[36mHow did the course of\u001b[0m                                                           \n",
              "                                                                                \n",
              "                                                                                \n",
              "                                                                                \n"
            ]
          },
          "metadata": {},
          "output_type": "display_data"
        },
        {
          "data": {
            "text/html": [
              "<pre style=\"white-space:pre;overflow-x:auto;line-height:normal;font-family:Menlo,'DejaVu Sans Mono',consolas,'Courier New',monospace\"><span style=\"color: #808080; text-decoration-color: #808080\">───────────────────────────── </span><span style=\"color: #808080; text-decoration-color: #808080; font-weight: bold\">[</span><span style=\"color: #808080; text-decoration-color: #808080\">Sampling</span><span style=\"color: #808080; text-decoration-color: #808080; font-weight: bold\">]</span><span style=\"color: #808080; text-decoration-color: #808080\"> Output </span><span style=\"color: #808080; text-decoration-color: #808080; font-weight: bold\">2</span><span style=\"color: #808080; text-decoration-color: #808080\"> ──────────────────────────────</span>\n",
              "</pre>\n"
            ],
            "text/plain": [
              "\u001b[90m───────────────────────────── \u001b[0m\u001b[1;51;90m[\u001b[0m\u001b[51;90mSampling\u001b[0m\u001b[1;51;90m]\u001b[0m\u001b[51;90m Output \u001b[0m\u001b[1;51;90m2\u001b[0m\u001b[90m ──────────────────────────────\u001b[0m\n"
            ]
          },
          "metadata": {},
          "output_type": "display_data"
        },
        {
          "data": {
            "text/html": [
              "<pre style=\"white-space:pre;overflow-x:auto;line-height:normal;font-family:Menlo,'DejaVu Sans Mono',consolas,'Courier New',monospace\">                                                                                \n",
              "<span style=\"color: #000000; text-decoration-color: #000000\">The </span><span style=\"color: #000000; text-decoration-color: #000000; font-weight: bold\">2008</span><span style=\"color: #000000; text-decoration-color: #000000\"> Summer Olympics torch relay was run from March </span><span style=\"color: #000000; text-decoration-color: #000000; font-weight: bold\">24</span><span style=\"color: #000000; text-decoration-color: #000000\"> until August </span><span style=\"color: #000000; text-decoration-color: #000000; font-weight: bold\">8</span><span style=\"color: #000000; text-decoration-color: #000000\">, </span><span style=\"color: #000000; text-decoration-color: #000000; font-weight: bold\">2008</span><span style=\"color: #000000; text-decoration-color: #000000\">,</span>\n",
              "<span style=\"color: #000000; text-decoration-color: #000000\">prior to the </span><span style=\"color: #000000; text-decoration-color: #000000; font-weight: bold\">2008</span><span style=\"color: #000000; text-decoration-color: #000000\"> Summer Olympics, with the theme of “one world, one dream”. </span>   \n",
              "<span style=\"color: #000000; text-decoration-color: #000000\">Plans for the relay were announced on April </span><span style=\"color: #000000; text-decoration-color: #000000; font-weight: bold\">26</span><span style=\"color: #000000; text-decoration-color: #000000\">, </span><span style=\"color: #000000; text-decoration-color: #000000; font-weight: bold\">2007</span><span style=\"color: #000000; text-decoration-color: #000000\">, in Beijing, China. The </span>   \n",
              "<span style=\"color: #000000; text-decoration-color: #000000\">relay, also called by the organizers as the “Journey of Harmony”, lasted </span><span style=\"color: #000000; text-decoration-color: #000000; font-weight: bold\">129</span><span style=\"color: #000000; text-decoration-color: #000000\"> </span>   \n",
              "<span style=\"color: #000000; text-decoration-color: #000000\">days and carried the torch </span><span style=\"color: #000000; text-decoration-color: #000000; font-weight: bold\">137</span><span style=\"color: #000000; text-decoration-color: #000000\">,</span><span style=\"color: #000000; text-decoration-color: #000000; font-weight: bold\">000</span><span style=\"color: #000000; text-decoration-color: #000000\"> km </span><span style=\"color: #000000; text-decoration-color: #000000; font-weight: bold\">(</span><span style=\"color: #000000; text-decoration-color: #000000; font-weight: bold\">85</span><span style=\"color: #000000; text-decoration-color: #000000\">,</span><span style=\"color: #000000; text-decoration-color: #000000; font-weight: bold\">000</span><span style=\"color: #000000; text-decoration-color: #000000\"> mi</span><span style=\"color: #000000; text-decoration-color: #000000; font-weight: bold\">)</span><span style=\"color: #000000; text-decoration-color: #000000\"> – the longest distance of any </span>\n",
              "<span style=\"color: #000000; text-decoration-color: #000000\">Olympic torch relay since the tradition was started ahead of the </span><span style=\"color: #000000; text-decoration-color: #000000; font-weight: bold\">1936</span><span style=\"color: #000000; text-decoration-color: #000000\"> Summer </span>   \n",
              "<span style=\"color: #000000; text-decoration-color: #000000\">Olympics. After being lit at the birthplace of the Olympic Games in Olympia, </span>   \n",
              "<span style=\"color: #000000; text-decoration-color: #000000\">Greece on March </span><span style=\"color: #000000; text-decoration-color: #000000; font-weight: bold\">24</span><span style=\"color: #000000; text-decoration-color: #000000\">, the torch traveled to the Panathinaiko Stadium in Athens, </span>  \n",
              "<span style=\"color: #000000; text-decoration-color: #000000\">and then to Beijing, arriving on March </span><span style=\"color: #000000; text-decoration-color: #000000; font-weight: bold\">31</span><span style=\"color: #000000; text-decoration-color: #000000\">. From Beijing, the torch was following</span>\n",
              "<span style=\"color: #000000; text-decoration-color: #000000\">a route passing through six continents. The torch has visited cities along the </span> \n",
              "<span style=\"color: #000000; text-decoration-color: #000000\">Silk Road, symbolizing ancient links between China and the rest of the world. </span>  \n",
              "<span style=\"color: #000000; text-decoration-color: #000000\">The relay also included an ascent with the flame to the top of Mount Everest on </span>\n",
              "<span style=\"color: #000000; text-decoration-color: #000000\">the border of Nepal and Tibet, China from the Chinese side, which was closed </span>   \n",
              "<span style=\"color: #000000; text-decoration-color: #000000\">specially for the event.  Q: Where did the race begin? A:</span><span style=\"color: #008080; text-decoration-color: #008080\"> The starting point of </span>\n",
              "<span style=\"color: #008080; text-decoration-color: #008080\">the </span><span style=\"color: #008080; text-decoration-color: #008080; font-weight: bold\">2008</span><span style=\"color: #008080; text-decoration-color: #008080\"> Olympic torch relay was the Great Wall of China. The original idea of </span> \n",
              "<span style=\"color: #008080; text-decoration-color: #008080\">the torch relay had been to illuminate the Great Wall, to honor the thousands of</span>\n",
              "<span style=\"color: #008080; text-decoration-color: #008080\">Chinese who have died in the walls of China, and to send a</span>                      \n",
              "                                                                                \n",
              "                                                                                \n",
              "                                                                                \n",
              "</pre>\n"
            ],
            "text/plain": [
              "                                                                                \n",
              "\u001b[30mThe \u001b[0m\u001b[1;30m2008\u001b[0m\u001b[30m Summer Olympics torch relay was run from March \u001b[0m\u001b[1;30m24\u001b[0m\u001b[30m until August \u001b[0m\u001b[1;30m8\u001b[0m\u001b[30m, \u001b[0m\u001b[1;30m2008\u001b[0m\u001b[30m,\u001b[0m\n",
              "\u001b[30mprior to the \u001b[0m\u001b[1;30m2008\u001b[0m\u001b[30m Summer Olympics, with the theme of “one world, one dream”. \u001b[0m   \n",
              "\u001b[30mPlans for the relay were announced on April \u001b[0m\u001b[1;30m26\u001b[0m\u001b[30m, \u001b[0m\u001b[1;30m2007\u001b[0m\u001b[30m, in Beijing, China. The \u001b[0m   \n",
              "\u001b[30mrelay, also called by the organizers as the “Journey of Harmony”, lasted \u001b[0m\u001b[1;30m129\u001b[0m\u001b[30m \u001b[0m   \n",
              "\u001b[30mdays and carried the torch \u001b[0m\u001b[1;30m137\u001b[0m\u001b[30m,\u001b[0m\u001b[1;30m000\u001b[0m\u001b[30m km \u001b[0m\u001b[1;30m(\u001b[0m\u001b[1;30m85\u001b[0m\u001b[30m,\u001b[0m\u001b[1;30m000\u001b[0m\u001b[30m mi\u001b[0m\u001b[1;30m)\u001b[0m\u001b[30m – the longest distance of any \u001b[0m\n",
              "\u001b[30mOlympic torch relay since the tradition was started ahead of the \u001b[0m\u001b[1;30m1936\u001b[0m\u001b[30m Summer \u001b[0m   \n",
              "\u001b[30mOlympics. After being lit at the birthplace of the Olympic Games in Olympia, \u001b[0m   \n",
              "\u001b[30mGreece on March \u001b[0m\u001b[1;30m24\u001b[0m\u001b[30m, the torch traveled to the Panathinaiko Stadium in Athens, \u001b[0m  \n",
              "\u001b[30mand then to Beijing, arriving on March \u001b[0m\u001b[1;30m31\u001b[0m\u001b[30m. From Beijing, the torch was following\u001b[0m\n",
              "\u001b[30ma route passing through six continents. The torch has visited cities along the \u001b[0m \n",
              "\u001b[30mSilk Road, symbolizing ancient links between China and the rest of the world. \u001b[0m  \n",
              "\u001b[30mThe relay also included an ascent with the flame to the top of Mount Everest on \u001b[0m\n",
              "\u001b[30mthe border of Nepal and Tibet, China from the Chinese side, which was closed \u001b[0m   \n",
              "\u001b[30mspecially for the event.  Q: Where did the race begin? A:\u001b[0m\u001b[36m The starting point of \u001b[0m\n",
              "\u001b[36mthe \u001b[0m\u001b[1;36m2008\u001b[0m\u001b[36m Olympic torch relay was the Great Wall of China. The original idea of \u001b[0m \n",
              "\u001b[36mthe torch relay had been to illuminate the Great Wall, to honor the thousands of\u001b[0m\n",
              "\u001b[36mChinese who have died in the walls of China, and to send a\u001b[0m                      \n",
              "                                                                                \n",
              "                                                                                \n",
              "                                                                                \n"
            ]
          },
          "metadata": {},
          "output_type": "display_data"
        },
        {
          "name": "stdout",
          "output_type": "stream",
          "text": [
            "CPU times: user 1min 3s, sys: 696 ms, total: 1min 3s\n",
            "Wall time: 1min 3s\n"
          ]
        }
      ],
      "source": [
        "%%time\n",
        "text = \"\"\"\n",
        "The 2008 Summer Olympics torch relay was run from March 24 until \n",
        "August 8, 2008, prior to the 2008 Summer Olympics, with the theme \n",
        "of “one world, one dream”. Plans for the relay were announced on \n",
        "April 26, 2007, in Beijing, China. The relay, also called by the \n",
        "organizers as the “Journey of Harmony”, lasted 129 days and carried \n",
        "the torch 137,000 km (85,000 mi) – the longest distance of any \n",
        "Olympic torch relay since the tradition was started ahead of the 1936 \n",
        "Summer Olympics. After being lit at the birthplace of the Olympic Games \n",
        "in Olympia, Greece on March 24, the torch traveled to the Panathinaiko \n",
        "Stadium in Athens, and then to Beijing, arriving on March 31. From \n",
        "Beijing, the torch was following a route passing through six continents. \n",
        "The torch has visited cities along the Silk Road, symbolizing ancient links \n",
        "between China and the rest of the world. The relay also included an ascent \n",
        "with the flame to the top of Mount Everest on the border of Nepal and Tibet, \n",
        "China from the Chinese side, which was closed specially for the event. \n",
        " Q: Where did the race begin? A: \n",
        "\"\"\"\n",
        "# GPT2 was not trained to have \\n, so we will remove it not to mess with GPT2\n",
        "text = multiline_text(text)\n",
        "generate(text, model=model, tokenizer=tokenizer, max_new_tokens=50)"
      ]
    },
    {
      "cell_type": "code",
      "execution_count": null,
      "metadata": {
        "colab": {
          "base_uri": "https://localhost:8080/",
          "height": 607
        },
        "id": "o0_M8xp4LJrO",
        "outputId": "6c9c6120-601c-4afd-fe7e-6a7e0590a2e9"
      },
      "outputs": [
        {
          "data": {
            "text/html": [
              "<pre style=\"white-space:pre;overflow-x:auto;line-height:normal;font-family:Menlo,'DejaVu Sans Mono',consolas,'Courier New',monospace\"><span style=\"color: #808080; text-decoration-color: #808080\">───────────────────────────── </span><span style=\"color: #808080; text-decoration-color: #808080; font-weight: bold\">[</span><span style=\"color: #808080; text-decoration-color: #808080\">Sampling</span><span style=\"color: #808080; text-decoration-color: #808080; font-weight: bold\">]</span><span style=\"color: #808080; text-decoration-color: #808080\"> Output </span><span style=\"color: #808080; text-decoration-color: #808080; font-weight: bold\">1</span><span style=\"color: #808080; text-decoration-color: #808080\"> ──────────────────────────────</span>\n",
              "</pre>\n"
            ],
            "text/plain": [
              "\u001b[90m───────────────────────────── \u001b[0m\u001b[1;51;90m[\u001b[0m\u001b[51;90mSampling\u001b[0m\u001b[1;51;90m]\u001b[0m\u001b[51;90m Output \u001b[0m\u001b[1;51;90m1\u001b[0m\u001b[90m ──────────────────────────────\u001b[0m\n"
            ]
          },
          "metadata": {},
          "output_type": "display_data"
        },
        {
          "data": {
            "text/html": [
              "<pre style=\"white-space:pre;overflow-x:auto;line-height:normal;font-family:Menlo,'DejaVu Sans Mono',consolas,'Courier New',monospace\">                                                                                \n",
              "<span style=\"color: #000000; text-decoration-color: #000000\">Q: Who wrote the book the origin of species? </span>                                   \n",
              "<span style=\"color: #000000; text-decoration-color: #000000\">A:</span><span style=\"color: #008080; text-decoration-color: #008080\"> The book</span>                                                                     \n",
              "                                                                                \n",
              "                                                                                \n",
              "                                                                                \n",
              "</pre>\n"
            ],
            "text/plain": [
              "                                                                                \n",
              "\u001b[30mQ: Who wrote the book the origin of species? \u001b[0m                                   \n",
              "\u001b[30mA:\u001b[0m\u001b[36m The book\u001b[0m                                                                     \n",
              "                                                                                \n",
              "                                                                                \n",
              "                                                                                \n"
            ]
          },
          "metadata": {},
          "output_type": "display_data"
        },
        {
          "data": {
            "text/html": [
              "<pre style=\"white-space:pre;overflow-x:auto;line-height:normal;font-family:Menlo,'DejaVu Sans Mono',consolas,'Courier New',monospace\"><span style=\"color: #808080; text-decoration-color: #808080\">───────────────────────────── </span><span style=\"color: #808080; text-decoration-color: #808080; font-weight: bold\">[</span><span style=\"color: #808080; text-decoration-color: #808080\">Sampling</span><span style=\"color: #808080; text-decoration-color: #808080; font-weight: bold\">]</span><span style=\"color: #808080; text-decoration-color: #808080\"> Output </span><span style=\"color: #808080; text-decoration-color: #808080; font-weight: bold\">2</span><span style=\"color: #808080; text-decoration-color: #808080\"> ──────────────────────────────</span>\n",
              "</pre>\n"
            ],
            "text/plain": [
              "\u001b[90m───────────────────────────── \u001b[0m\u001b[1;51;90m[\u001b[0m\u001b[51;90mSampling\u001b[0m\u001b[1;51;90m]\u001b[0m\u001b[51;90m Output \u001b[0m\u001b[1;51;90m2\u001b[0m\u001b[90m ──────────────────────────────\u001b[0m\n"
            ]
          },
          "metadata": {},
          "output_type": "display_data"
        },
        {
          "data": {
            "text/html": [
              "<pre style=\"white-space:pre;overflow-x:auto;line-height:normal;font-family:Menlo,'DejaVu Sans Mono',consolas,'Courier New',monospace\">                                                                                \n",
              "<span style=\"color: #000000; text-decoration-color: #000000\">Q: Who wrote the book the origin of species? </span>                                   \n",
              "<span style=\"color: #000000; text-decoration-color: #000000\">A:</span><span style=\"color: #008080; text-decoration-color: #008080\"> John Wheeler</span>                                                                 \n",
              "                                                                                \n",
              "                                                                                \n",
              "                                                                                \n",
              "</pre>\n"
            ],
            "text/plain": [
              "                                                                                \n",
              "\u001b[30mQ: Who wrote the book the origin of species? \u001b[0m                                   \n",
              "\u001b[30mA:\u001b[0m\u001b[36m John Wheeler\u001b[0m                                                                 \n",
              "                                                                                \n",
              "                                                                                \n",
              "                                                                                \n"
            ]
          },
          "metadata": {},
          "output_type": "display_data"
        },
        {
          "data": {
            "text/html": [
              "<pre style=\"white-space:pre;overflow-x:auto;line-height:normal;font-family:Menlo,'DejaVu Sans Mono',consolas,'Courier New',monospace\"><span style=\"color: #808080; text-decoration-color: #808080\">───────────────────────────── </span><span style=\"color: #808080; text-decoration-color: #808080; font-weight: bold\">[</span><span style=\"color: #808080; text-decoration-color: #808080\">Sampling</span><span style=\"color: #808080; text-decoration-color: #808080; font-weight: bold\">]</span><span style=\"color: #808080; text-decoration-color: #808080\"> Output </span><span style=\"color: #808080; text-decoration-color: #808080; font-weight: bold\">3</span><span style=\"color: #808080; text-decoration-color: #808080\"> ──────────────────────────────</span>\n",
              "</pre>\n"
            ],
            "text/plain": [
              "\u001b[90m───────────────────────────── \u001b[0m\u001b[1;51;90m[\u001b[0m\u001b[51;90mSampling\u001b[0m\u001b[1;51;90m]\u001b[0m\u001b[51;90m Output \u001b[0m\u001b[1;51;90m3\u001b[0m\u001b[90m ──────────────────────────────\u001b[0m\n"
            ]
          },
          "metadata": {},
          "output_type": "display_data"
        },
        {
          "data": {
            "text/html": [
              "<pre style=\"white-space:pre;overflow-x:auto;line-height:normal;font-family:Menlo,'DejaVu Sans Mono',consolas,'Courier New',monospace\">                                                                                \n",
              "<span style=\"color: #000000; text-decoration-color: #000000\">Q: Who wrote the book the origin of species? </span>                                   \n",
              "<span style=\"color: #000000; text-decoration-color: #000000\">A:</span><span style=\"color: #008080; text-decoration-color: #008080\"> It was</span>                                                                       \n",
              "                                                                                \n",
              "                                                                                \n",
              "                                                                                \n",
              "</pre>\n"
            ],
            "text/plain": [
              "                                                                                \n",
              "\u001b[30mQ: Who wrote the book the origin of species? \u001b[0m                                   \n",
              "\u001b[30mA:\u001b[0m\u001b[36m It was\u001b[0m                                                                       \n",
              "                                                                                \n",
              "                                                                                \n",
              "                                                                                \n"
            ]
          },
          "metadata": {},
          "output_type": "display_data"
        },
        {
          "data": {
            "text/html": [
              "<pre style=\"white-space:pre;overflow-x:auto;line-height:normal;font-family:Menlo,'DejaVu Sans Mono',consolas,'Courier New',monospace\"><span style=\"color: #808080; text-decoration-color: #808080\">───────────────────────────── </span><span style=\"color: #808080; text-decoration-color: #808080; font-weight: bold\">[</span><span style=\"color: #808080; text-decoration-color: #808080\">Sampling</span><span style=\"color: #808080; text-decoration-color: #808080; font-weight: bold\">]</span><span style=\"color: #808080; text-decoration-color: #808080\"> Output </span><span style=\"color: #808080; text-decoration-color: #808080; font-weight: bold\">4</span><span style=\"color: #808080; text-decoration-color: #808080\"> ──────────────────────────────</span>\n",
              "</pre>\n"
            ],
            "text/plain": [
              "\u001b[90m───────────────────────────── \u001b[0m\u001b[1;51;90m[\u001b[0m\u001b[51;90mSampling\u001b[0m\u001b[1;51;90m]\u001b[0m\u001b[51;90m Output \u001b[0m\u001b[1;51;90m4\u001b[0m\u001b[90m ──────────────────────────────\u001b[0m\n"
            ]
          },
          "metadata": {},
          "output_type": "display_data"
        },
        {
          "data": {
            "text/html": [
              "<pre style=\"white-space:pre;overflow-x:auto;line-height:normal;font-family:Menlo,'DejaVu Sans Mono',consolas,'Courier New',monospace\">                                                                                \n",
              "<span style=\"color: #000000; text-decoration-color: #000000\">Q: Who wrote the book the origin of species? </span>                                   \n",
              "<span style=\"color: #000000; text-decoration-color: #000000\">A:</span><span style=\"color: #008080; text-decoration-color: #008080\"> Most scientists</span>                                                              \n",
              "                                                                                \n",
              "                                                                                \n",
              "                                                                                \n",
              "</pre>\n"
            ],
            "text/plain": [
              "                                                                                \n",
              "\u001b[30mQ: Who wrote the book the origin of species? \u001b[0m                                   \n",
              "\u001b[30mA:\u001b[0m\u001b[36m Most scientists\u001b[0m                                                              \n",
              "                                                                                \n",
              "                                                                                \n",
              "                                                                                \n"
            ]
          },
          "metadata": {},
          "output_type": "display_data"
        },
        {
          "data": {
            "text/html": [
              "<pre style=\"white-space:pre;overflow-x:auto;line-height:normal;font-family:Menlo,'DejaVu Sans Mono',consolas,'Courier New',monospace\"><span style=\"color: #808080; text-decoration-color: #808080\">───────────────────────────── </span><span style=\"color: #808080; text-decoration-color: #808080; font-weight: bold\">[</span><span style=\"color: #808080; text-decoration-color: #808080\">Sampling</span><span style=\"color: #808080; text-decoration-color: #808080; font-weight: bold\">]</span><span style=\"color: #808080; text-decoration-color: #808080\"> Output </span><span style=\"color: #808080; text-decoration-color: #808080; font-weight: bold\">5</span><span style=\"color: #808080; text-decoration-color: #808080\"> ──────────────────────────────</span>\n",
              "</pre>\n"
            ],
            "text/plain": [
              "\u001b[90m───────────────────────────── \u001b[0m\u001b[1;51;90m[\u001b[0m\u001b[51;90mSampling\u001b[0m\u001b[1;51;90m]\u001b[0m\u001b[51;90m Output \u001b[0m\u001b[1;51;90m5\u001b[0m\u001b[90m ──────────────────────────────\u001b[0m\n"
            ]
          },
          "metadata": {},
          "output_type": "display_data"
        },
        {
          "data": {
            "text/html": [
              "<pre style=\"white-space:pre;overflow-x:auto;line-height:normal;font-family:Menlo,'DejaVu Sans Mono',consolas,'Courier New',monospace\">                                                                                \n",
              "<span style=\"color: #000000; text-decoration-color: #000000\">Q: Who wrote the book the origin of species? </span>                                   \n",
              "<span style=\"color: #000000; text-decoration-color: #000000\">A:</span><span style=\"color: #008080; text-decoration-color: #008080\"> The book</span>                                                                     \n",
              "                                                                                \n",
              "                                                                                \n",
              "                                                                                \n",
              "</pre>\n"
            ],
            "text/plain": [
              "                                                                                \n",
              "\u001b[30mQ: Who wrote the book the origin of species? \u001b[0m                                   \n",
              "\u001b[30mA:\u001b[0m\u001b[36m The book\u001b[0m                                                                     \n",
              "                                                                                \n",
              "                                                                                \n",
              "                                                                                \n"
            ]
          },
          "metadata": {},
          "output_type": "display_data"
        },
        {
          "name": "stdout",
          "output_type": "stream",
          "text": [
            "CPU times: user 4.74 s, sys: 57.6 ms, total: 4.8 s\n",
            "Wall time: 4.78 s\n"
          ]
        }
      ],
      "source": [
        "%%time\n",
        "text = \"Q: Who wrote the book the origin of species? \\nA:\"\n",
        "generate(text, model=model, tokenizer=tokenizer, max_new_tokens=2, n=5)"
      ]
    },
    {
      "cell_type": "code",
      "execution_count": null,
      "metadata": {
        "colab": {
          "base_uri": "https://localhost:8080/",
          "height": 777
        },
        "id": "RH-9Q8vlLd3f",
        "outputId": "a2335bbb-f4a7-4c7b-83d9-dfceae950e82"
      },
      "outputs": [
        {
          "data": {
            "text/html": [
              "<pre style=\"white-space:pre;overflow-x:auto;line-height:normal;font-family:Menlo,'DejaVu Sans Mono',consolas,'Courier New',monospace\"><span style=\"color: #808080; text-decoration-color: #808080\">───────────────────────────── </span><span style=\"color: #808080; text-decoration-color: #808080; font-weight: bold\">[</span><span style=\"color: #808080; text-decoration-color: #808080\">Sampling</span><span style=\"color: #808080; text-decoration-color: #808080; font-weight: bold\">]</span><span style=\"color: #808080; text-decoration-color: #808080\"> Output </span><span style=\"color: #808080; text-decoration-color: #808080; font-weight: bold\">1</span><span style=\"color: #808080; text-decoration-color: #808080\"> ──────────────────────────────</span>\n",
              "</pre>\n"
            ],
            "text/plain": [
              "\u001b[90m───────────────────────────── \u001b[0m\u001b[1;51;90m[\u001b[0m\u001b[51;90mSampling\u001b[0m\u001b[1;51;90m]\u001b[0m\u001b[51;90m Output \u001b[0m\u001b[1;51;90m1\u001b[0m\u001b[90m ──────────────────────────────\u001b[0m\n"
            ]
          },
          "metadata": {},
          "output_type": "display_data"
        },
        {
          "data": {
            "text/html": [
              "<pre style=\"white-space:pre;overflow-x:auto;line-height:normal;font-family:Menlo,'DejaVu Sans Mono',consolas,'Courier New',monospace\">                                                                                \n",
              "<span style=\"color: #000000; text-decoration-color: #000000\">Q: Who is regarded as the founder of psychoanalysis? A: </span><span style=\"color: #008080; text-decoration-color: #008080\"> A.G. Jung, a Swedish </span>  \n",
              "<span style=\"color: #008080; text-decoration-color: #008080\">psychiatrist, was said to have been the first to formulate the concept of the </span>  \n",
              "<span style=\"color: #008080; text-decoration-color: #008080\">\"psychoanalytic soul\"</span><span style=\"color: #008080; text-decoration-color: #008080\">. Jung was also credited with having given psychoanalysis </span> \n",
              "<span style=\"color: #008080; text-decoration-color: #008080\">its basis, when he first described it as the</span>                                    \n",
              "                                                                                \n",
              "                                                                                \n",
              "                                                                                \n",
              "</pre>\n"
            ],
            "text/plain": [
              "                                                                                \n",
              "\u001b[30mQ: Who is regarded as the founder of psychoanalysis? A: \u001b[0m\u001b[36m A.G. Jung, a Swedish \u001b[0m  \n",
              "\u001b[36mpsychiatrist, was said to have been the first to formulate the concept of the \u001b[0m  \n",
              "\u001b[36m\"psychoanalytic soul\"\u001b[0m\u001b[36m. Jung was also credited with having given psychoanalysis \u001b[0m \n",
              "\u001b[36mits basis, when he first described it as the\u001b[0m                                    \n",
              "                                                                                \n",
              "                                                                                \n",
              "                                                                                \n"
            ]
          },
          "metadata": {},
          "output_type": "display_data"
        },
        {
          "data": {
            "text/html": [
              "<pre style=\"white-space:pre;overflow-x:auto;line-height:normal;font-family:Menlo,'DejaVu Sans Mono',consolas,'Courier New',monospace\"><span style=\"color: #808080; text-decoration-color: #808080\">───────────────────────────── </span><span style=\"color: #808080; text-decoration-color: #808080; font-weight: bold\">[</span><span style=\"color: #808080; text-decoration-color: #808080\">Sampling</span><span style=\"color: #808080; text-decoration-color: #808080; font-weight: bold\">]</span><span style=\"color: #808080; text-decoration-color: #808080\"> Output </span><span style=\"color: #808080; text-decoration-color: #808080; font-weight: bold\">2</span><span style=\"color: #808080; text-decoration-color: #808080\"> ──────────────────────────────</span>\n",
              "</pre>\n"
            ],
            "text/plain": [
              "\u001b[90m───────────────────────────── \u001b[0m\u001b[1;51;90m[\u001b[0m\u001b[51;90mSampling\u001b[0m\u001b[1;51;90m]\u001b[0m\u001b[51;90m Output \u001b[0m\u001b[1;51;90m2\u001b[0m\u001b[90m ──────────────────────────────\u001b[0m\n"
            ]
          },
          "metadata": {},
          "output_type": "display_data"
        },
        {
          "data": {
            "text/html": [
              "<pre style=\"white-space:pre;overflow-x:auto;line-height:normal;font-family:Menlo,'DejaVu Sans Mono',consolas,'Courier New',monospace\">                                                                                \n",
              "<span style=\"color: #000000; text-decoration-color: #000000\">Q: Who is regarded as the founder of psychoanalysis? A: </span><span style=\"color: #008080; text-decoration-color: #008080\"> I do not know; this </span>   \n",
              "<span style=\"color: #008080; text-decoration-color: #008080\">question is still being debated in the literature. One might assume that it </span>    \n",
              "<span style=\"color: #008080; text-decoration-color: #008080\">would be Freud. However, Freud was a psychoanalyst and the founder of </span>          \n",
              "<span style=\"color: #008080; text-decoration-color: #008080\">psychoanalysis. I would guess that it would be Jung. </span>                           \n",
              "                                                                                \n",
              "                                                                                \n",
              "                                                                                \n",
              "</pre>\n"
            ],
            "text/plain": [
              "                                                                                \n",
              "\u001b[30mQ: Who is regarded as the founder of psychoanalysis? A: \u001b[0m\u001b[36m I do not know; this \u001b[0m   \n",
              "\u001b[36mquestion is still being debated in the literature. One might assume that it \u001b[0m    \n",
              "\u001b[36mwould be Freud. However, Freud was a psychoanalyst and the founder of \u001b[0m          \n",
              "\u001b[36mpsychoanalysis. I would guess that it would be Jung. \u001b[0m                           \n",
              "                                                                                \n",
              "                                                                                \n",
              "                                                                                \n"
            ]
          },
          "metadata": {},
          "output_type": "display_data"
        },
        {
          "data": {
            "text/html": [
              "<pre style=\"white-space:pre;overflow-x:auto;line-height:normal;font-family:Menlo,'DejaVu Sans Mono',consolas,'Courier New',monospace\"><span style=\"color: #808080; text-decoration-color: #808080\">───────────────────────────── </span><span style=\"color: #808080; text-decoration-color: #808080; font-weight: bold\">[</span><span style=\"color: #808080; text-decoration-color: #808080\">Sampling</span><span style=\"color: #808080; text-decoration-color: #808080; font-weight: bold\">]</span><span style=\"color: #808080; text-decoration-color: #808080\"> Output </span><span style=\"color: #808080; text-decoration-color: #808080; font-weight: bold\">3</span><span style=\"color: #808080; text-decoration-color: #808080\"> ──────────────────────────────</span>\n",
              "</pre>\n"
            ],
            "text/plain": [
              "\u001b[90m───────────────────────────── \u001b[0m\u001b[1;51;90m[\u001b[0m\u001b[51;90mSampling\u001b[0m\u001b[1;51;90m]\u001b[0m\u001b[51;90m Output \u001b[0m\u001b[1;51;90m3\u001b[0m\u001b[90m ──────────────────────────────\u001b[0m\n"
            ]
          },
          "metadata": {},
          "output_type": "display_data"
        },
        {
          "data": {
            "text/html": [
              "<pre style=\"white-space:pre;overflow-x:auto;line-height:normal;font-family:Menlo,'DejaVu Sans Mono',consolas,'Courier New',monospace\">                                                                                \n",
              "<span style=\"color: #000000; text-decoration-color: #000000\">Q: Who is regarded as the founder of psychoanalysis? A: </span><span style=\"color: #008080; text-decoration-color: #008080\"> A number of different </span> \n",
              "<span style=\"color: #008080; text-decoration-color: #008080\">persons. There are several groups of authors: one that is closely related to </span>   \n",
              "<span style=\"color: #008080; text-decoration-color: #008080\">psychoanalysis, one that is not, and the others that are not. The major focus is</span>\n",
              "<span style=\"color: #008080; text-decoration-color: #008080\">in the first group. The most important work of the</span>                              \n",
              "                                                                                \n",
              "                                                                                \n",
              "                                                                                \n",
              "</pre>\n"
            ],
            "text/plain": [
              "                                                                                \n",
              "\u001b[30mQ: Who is regarded as the founder of psychoanalysis? A: \u001b[0m\u001b[36m A number of different \u001b[0m \n",
              "\u001b[36mpersons. There are several groups of authors: one that is closely related to \u001b[0m   \n",
              "\u001b[36mpsychoanalysis, one that is not, and the others that are not. The major focus is\u001b[0m\n",
              "\u001b[36min the first group. The most important work of the\u001b[0m                              \n",
              "                                                                                \n",
              "                                                                                \n",
              "                                                                                \n"
            ]
          },
          "metadata": {},
          "output_type": "display_data"
        },
        {
          "data": {
            "text/html": [
              "<pre style=\"white-space:pre;overflow-x:auto;line-height:normal;font-family:Menlo,'DejaVu Sans Mono',consolas,'Courier New',monospace\"><span style=\"color: #808080; text-decoration-color: #808080\">───────────────────────────── </span><span style=\"color: #808080; text-decoration-color: #808080; font-weight: bold\">[</span><span style=\"color: #808080; text-decoration-color: #808080\">Sampling</span><span style=\"color: #808080; text-decoration-color: #808080; font-weight: bold\">]</span><span style=\"color: #808080; text-decoration-color: #808080\"> Output </span><span style=\"color: #808080; text-decoration-color: #808080; font-weight: bold\">4</span><span style=\"color: #808080; text-decoration-color: #808080\"> ──────────────────────────────</span>\n",
              "</pre>\n"
            ],
            "text/plain": [
              "\u001b[90m───────────────────────────── \u001b[0m\u001b[1;51;90m[\u001b[0m\u001b[51;90mSampling\u001b[0m\u001b[1;51;90m]\u001b[0m\u001b[51;90m Output \u001b[0m\u001b[1;51;90m4\u001b[0m\u001b[90m ──────────────────────────────\u001b[0m\n"
            ]
          },
          "metadata": {},
          "output_type": "display_data"
        },
        {
          "data": {
            "text/html": [
              "<pre style=\"white-space:pre;overflow-x:auto;line-height:normal;font-family:Menlo,'DejaVu Sans Mono',consolas,'Courier New',monospace\">                                                                                \n",
              "<span style=\"color: #000000; text-decoration-color: #000000\">Q: Who is regarded as the founder of psychoanalysis? A: </span><span style=\"color: #008080; text-decoration-color: #008080\"> The father of </span>         \n",
              "<span style=\"color: #008080; text-decoration-color: #008080\">psychoanalysis, Carl Jung, was a German philosopher who wrote extensively about </span>\n",
              "<span style=\"color: #008080; text-decoration-color: #008080\">psychology and mental illness. Jung wrote a famous letter in </span><span style=\"color: #008080; text-decoration-color: #008080; font-weight: bold\">1922</span><span style=\"color: #008080; text-decoration-color: #008080\"> to his wife, </span> \n",
              "<span style=\"color: #008080; text-decoration-color: #008080\">that he had been suffering from an acute manic state and was unable to sleep.</span>   \n",
              "                                                                                \n",
              "                                                                                \n",
              "                                                                                \n",
              "</pre>\n"
            ],
            "text/plain": [
              "                                                                                \n",
              "\u001b[30mQ: Who is regarded as the founder of psychoanalysis? A: \u001b[0m\u001b[36m The father of \u001b[0m         \n",
              "\u001b[36mpsychoanalysis, Carl Jung, was a German philosopher who wrote extensively about \u001b[0m\n",
              "\u001b[36mpsychology and mental illness. Jung wrote a famous letter in \u001b[0m\u001b[1;36m1922\u001b[0m\u001b[36m to his wife, \u001b[0m \n",
              "\u001b[36mthat he had been suffering from an acute manic state and was unable to sleep.\u001b[0m   \n",
              "                                                                                \n",
              "                                                                                \n",
              "                                                                                \n"
            ]
          },
          "metadata": {},
          "output_type": "display_data"
        },
        {
          "data": {
            "text/html": [
              "<pre style=\"white-space:pre;overflow-x:auto;line-height:normal;font-family:Menlo,'DejaVu Sans Mono',consolas,'Courier New',monospace\"><span style=\"color: #808080; text-decoration-color: #808080\">───────────────────────────── </span><span style=\"color: #808080; text-decoration-color: #808080; font-weight: bold\">[</span><span style=\"color: #808080; text-decoration-color: #808080\">Sampling</span><span style=\"color: #808080; text-decoration-color: #808080; font-weight: bold\">]</span><span style=\"color: #808080; text-decoration-color: #808080\"> Output </span><span style=\"color: #808080; text-decoration-color: #808080; font-weight: bold\">5</span><span style=\"color: #808080; text-decoration-color: #808080\"> ──────────────────────────────</span>\n",
              "</pre>\n"
            ],
            "text/plain": [
              "\u001b[90m───────────────────────────── \u001b[0m\u001b[1;51;90m[\u001b[0m\u001b[51;90mSampling\u001b[0m\u001b[1;51;90m]\u001b[0m\u001b[51;90m Output \u001b[0m\u001b[1;51;90m5\u001b[0m\u001b[90m ──────────────────────────────\u001b[0m\n"
            ]
          },
          "metadata": {},
          "output_type": "display_data"
        },
        {
          "data": {
            "text/html": [
              "<pre style=\"white-space:pre;overflow-x:auto;line-height:normal;font-family:Menlo,'DejaVu Sans Mono',consolas,'Courier New',monospace\">                                                                                \n",
              "<span style=\"color: #000000; text-decoration-color: #000000\">Q: Who is regarded as the founder of psychoanalysis? A: </span><span style=\"color: #008080; text-decoration-color: #008080\"> Jacques Lacan, </span>        \n",
              "<span style=\"color: #008080; text-decoration-color: #008080\">Jean-Paul Sartre. Q: How are psychoanalysis and its techniques different from </span>  \n",
              "<span style=\"color: #008080; text-decoration-color: #008080\">other forms of psychological research? A:  This may well be a difficult </span>        \n",
              "<span style=\"color: #008080; text-decoration-color: #008080\">question. For Freud, psychoanalysis was a natural</span>                               \n",
              "                                                                                \n",
              "                                                                                \n",
              "                                                                                \n",
              "</pre>\n"
            ],
            "text/plain": [
              "                                                                                \n",
              "\u001b[30mQ: Who is regarded as the founder of psychoanalysis? A: \u001b[0m\u001b[36m Jacques Lacan, \u001b[0m        \n",
              "\u001b[36mJean-Paul Sartre. Q: How are psychoanalysis and its techniques different from \u001b[0m  \n",
              "\u001b[36mother forms of psychological research? A:  This may well be a difficult \u001b[0m        \n",
              "\u001b[36mquestion. For Freud, psychoanalysis was a natural\u001b[0m                               \n",
              "                                                                                \n",
              "                                                                                \n",
              "                                                                                \n"
            ]
          },
          "metadata": {},
          "output_type": "display_data"
        },
        {
          "name": "stdout",
          "output_type": "stream",
          "text": [
            "CPU times: user 53.1 s, sys: 280 ms, total: 53.4 s\n",
            "Wall time: 53.7 s\n"
          ]
        }
      ],
      "source": [
        "%%time\n",
        "text = \"Q: Who is regarded as the founder of psychoanalysis? A: \"\n",
        "generate(text, model=model, tokenizer=tokenizer, n=5)"
      ]
    },
    {
      "cell_type": "markdown",
      "metadata": {
        "id": "PLxwvG8cIDBO"
      },
      "source": [
        "### Summarization"
      ]
    },
    {
      "cell_type": "code",
      "execution_count": null,
      "metadata": {
        "colab": {
          "base_uri": "https://localhost:8080/",
          "height": 826
        },
        "id": "TNpfO-a3IXhy",
        "outputId": "460c4230-8d17-480f-eec1-faab95a9ff0a"
      },
      "outputs": [
        {
          "data": {
            "text/html": [
              "<pre style=\"white-space:pre;overflow-x:auto;line-height:normal;font-family:Menlo,'DejaVu Sans Mono',consolas,'Courier New',monospace\"><span style=\"color: #808080; text-decoration-color: #808080\">───────────────────────────── </span><span style=\"color: #808080; text-decoration-color: #808080; font-weight: bold\">[</span><span style=\"color: #808080; text-decoration-color: #808080\">Sampling</span><span style=\"color: #808080; text-decoration-color: #808080; font-weight: bold\">]</span><span style=\"color: #808080; text-decoration-color: #808080\"> Output </span><span style=\"color: #808080; text-decoration-color: #808080; font-weight: bold\">1</span><span style=\"color: #808080; text-decoration-color: #808080\"> ──────────────────────────────</span>\n",
              "</pre>\n"
            ],
            "text/plain": [
              "\u001b[90m───────────────────────────── \u001b[0m\u001b[1;51;90m[\u001b[0m\u001b[51;90mSampling\u001b[0m\u001b[1;51;90m]\u001b[0m\u001b[51;90m Output \u001b[0m\u001b[1;51;90m1\u001b[0m\u001b[90m ──────────────────────────────\u001b[0m\n"
            ]
          },
          "metadata": {},
          "output_type": "display_data"
        },
        {
          "data": {
            "text/html": [
              "<pre style=\"white-space:pre;overflow-x:auto;line-height:normal;font-family:Menlo,'DejaVu Sans Mono',consolas,'Courier New',monospace\">                                                                                \n",
              "<span style=\"color: #000000; text-decoration-color: #000000\">LONDON, England </span><span style=\"color: #000000; text-decoration-color: #000000; font-weight: bold\">(</span><span style=\"color: #000000; text-decoration-color: #000000\">Reuters</span><span style=\"color: #000000; text-decoration-color: #000000; font-weight: bold\">)</span><span style=\"color: #000000; text-decoration-color: #000000\"> -- Harry Potter star Daniel Radcliffe gains access to </span>\n",
              "<span style=\"color: #000000; text-decoration-color: #000000\">a reported £</span><span style=\"color: #000000; text-decoration-color: #000000; font-weight: bold\">20</span><span style=\"color: #000000; text-decoration-color: #000000\"> million </span><span style=\"color: #000000; text-decoration-color: #000000; font-weight: bold\">(</span><span style=\"color: #000000; text-decoration-color: #000000\">$</span><span style=\"color: #000000; text-decoration-color: #000000; font-weight: bold\">41.1</span><span style=\"color: #000000; text-decoration-color: #000000\"> million</span><span style=\"color: #000000; text-decoration-color: #000000; font-weight: bold\">)</span><span style=\"color: #000000; text-decoration-color: #000000\"> fortune as he turns </span><span style=\"color: #000000; text-decoration-color: #000000; font-weight: bold\">18</span><span style=\"color: #000000; text-decoration-color: #000000\"> on Monday, but he </span>\n",
              "<span style=\"color: #000000; text-decoration-color: #000000\">insists the money won't cast a spell on him. Daniel Radcliffe as Harry Potter in</span>\n",
              "<span style=\"color: #000000; text-decoration-color: #000000\">\"Harry Potter and the Order of the Phoenix\"</span><span style=\"color: #000000; text-decoration-color: #000000\"> To the disappointment of gossip </span>    \n",
              "<span style=\"color: #000000; text-decoration-color: #000000\">columnists around the world, the young actor says he has no plans to fritter his</span>\n",
              "<span style=\"color: #000000; text-decoration-color: #000000\">cash away on fast cars, drink and celebrity parties. </span><span style=\"color: #000000; text-decoration-color: #000000\">\"I don't plan to be one of </span>\n",
              "<span style=\"color: #000000; text-decoration-color: #000000\">those people who, as soon as they turn 18, suddenly buy themselves a massive </span>   \n",
              "<span style=\"color: #000000; text-decoration-color: #000000\">sports car collection or something similar,\"</span><span style=\"color: #000000; text-decoration-color: #000000\"> he told an Australian interviewer </span> \n",
              "<span style=\"color: #000000; text-decoration-color: #000000\">earlier this month. </span><span style=\"color: #000000; text-decoration-color: #000000\">\"I don't think I'll be particularly extravagant. \"</span><span style=\"color: #000000; text-decoration-color: #000000\">The things</span>\n",
              "<span style=\"color: #000000; text-decoration-color: #000000\">I like buying are things that cost about </span><span style=\"color: #000000; text-decoration-color: #000000; font-weight: bold\">10</span><span style=\"color: #000000; text-decoration-color: #000000\"> pounds -- books and CDs and DVDs.</span><span style=\"color: #000000; text-decoration-color: #000000\">\" </span> \n",
              "<span style=\"color: #000000; text-decoration-color: #000000\">At 18, Radcliffe will be able to gamble in a casino, buy a drink in a pub or see</span>\n",
              "<span style=\"color: #000000; text-decoration-color: #000000\">the horror film \"</span><span style=\"color: #000000; text-decoration-color: #000000\">Hostel: Part II,</span><span style=\"color: #000000; text-decoration-color: #000000\">\" currently six places below his number one </span>   \n",
              "<span style=\"color: #000000; text-decoration-color: #000000\">movie on the UK box office chart. Details of how he'll mark his landmark </span>       \n",
              "<span style=\"color: #000000; text-decoration-color: #000000\">birthday are under wraps. His agent and publicist had no comment on his plans. </span> \n",
              "<span style=\"color: #000000; text-decoration-color: #000000\">\"</span><span style=\"color: #000000; text-decoration-color: #000000\">I'll definitely have some sort of party,</span><span style=\"color: #000000; text-decoration-color: #000000\">\" he said in an interview. \"</span><span style=\"color: #000000; text-decoration-color: #000000\">Hopefully </span> \n",
              "<span style=\"color: #000000; text-decoration-color: #000000\">none of you will be reading about it.</span><span style=\"color: #000000; text-decoration-color: #000000\">\" Radcliffe's earnings from the first five </span>\n",
              "<span style=\"color: #000000; text-decoration-color: #000000\">Potter films have been held in a trust fund which he has not been able to touch.</span>\n",
              "<span style=\"color: #000000; text-decoration-color: #000000\">Despite his growing fame and riches, the actor says he is keeping his feet </span>     \n",
              "<span style=\"color: #000000; text-decoration-color: #000000\">firmly on the ground. \"</span><span style=\"color: #000000; text-decoration-color: #000000\">People are always looking to say </span><span style=\"color: #000000; text-decoration-color: #000000\">'kid star goes off the </span> \n",
              "<span style=\"color: #000000; text-decoration-color: #000000\">rails,'\" he told reporters last month. \"</span><span style=\"color: #000000; text-decoration-color: #000000\">But I try very hard not to go that way </span> \n",
              "<span style=\"color: #000000; text-decoration-color: #000000\">because it would be too easy for them.</span><span style=\"color: #000000; text-decoration-color: #000000\">\" His latest outing as the boy wizard in </span> \n",
              "<span style=\"color: #000000; text-decoration-color: #000000\">\"</span><span style=\"color: #000000; text-decoration-color: #000000\">Harry Potter and the Order of the Phoenix\" is breaking records on both sides of</span>\n",
              "<span style=\"color: #000000; text-decoration-color: #000000\">the Atlantic and he will reprise the role in the last two films. Watch </span>         \n",
              "<span style=\"color: #000000; text-decoration-color: #000000\">I-Reporter give her review of Potter's latest » . There is life beyond Potter, </span> \n",
              "<span style=\"color: #000000; text-decoration-color: #000000\">however. The Londoner has filmed a TV movie called </span><span style=\"color: #000000; text-decoration-color: #000000\">\"My Boy Jack,\"</span><span style=\"color: #000000; text-decoration-color: #000000\"> about author </span> \n",
              "<span style=\"color: #000000; text-decoration-color: #000000\">Rudyard Kipling and his son, due for release later this year. He will also </span>     \n",
              "<span style=\"color: #000000; text-decoration-color: #000000\">appear in </span><span style=\"color: #000000; text-decoration-color: #000000\">\"December Boys,\"</span><span style=\"color: #000000; text-decoration-color: #000000\"> an Australian film about four boys who escape an </span>    \n",
              "<span style=\"color: #000000; text-decoration-color: #000000\">orphanage. Earlier this year, he made his stage debut playing a tortured </span>       \n",
              "<span style=\"color: #000000; text-decoration-color: #000000\">teenager in Peter Shaffer's </span><span style=\"color: #000000; text-decoration-color: #000000\">\"Equus.\"</span><span style=\"color: #000000; text-decoration-color: #000000\"> Meanwhile, he is braced for even closer </span>   \n",
              "<span style=\"color: #000000; text-decoration-color: #000000\">media scrutiny now that he's legally an adult: </span><span style=\"color: #000000; text-decoration-color: #000000\">\"I just think I'm going to be </span>   \n",
              "<span style=\"color: #000000; text-decoration-color: #000000\">more sort of fair game,\"</span><span style=\"color: #000000; text-decoration-color: #000000\"> he told Reuters. E-mail to a friend . Copyright </span><span style=\"color: #000000; text-decoration-color: #000000; font-weight: bold\">2007</span><span style=\"color: #000000; text-decoration-color: #000000\"> </span>  \n",
              "<span style=\"color: #000000; text-decoration-color: #000000\">Reuters. All rights reserved.This material may not be published, broadcast, </span>    \n",
              "<span style=\"color: #000000; text-decoration-color: #000000\">rewritten, or redistributed. TL;DR: </span><span style=\"color: #008080; text-decoration-color: #008080\">******** Harry Potter will turn </span><span style=\"color: #008080; text-decoration-color: #008080; font-weight: bold\">18</span><span style=\"color: #008080; text-decoration-color: #008080\"> in </span>      \n",
              "<span style=\"color: #008080; text-decoration-color: #008080\">August. It's a huge deal, so I've written this brief guide to what to expect. He</span>\n",
              "<span style=\"color: #008080; text-decoration-color: #008080\">will be a teenager, not a teenager of </span><span style=\"color: #008080; text-decoration-color: #008080; font-weight: bold\">18</span><span style=\"color: #008080; text-decoration-color: #008080\">, and we'll be able to read some of his </span>\n",
              "<span style=\"color: #008080; text-decoration-color: #008080\">first novels later this year. There will be a party, possibly, which the Daily </span> \n",
              "<span style=\"color: #008080; text-decoration-color: #008080\">Prophet will pay to run in front of a TV camera. There will be a movie about </span>   \n",
              "<span style=\"color: #008080; text-decoration-color: #008080\">Rudyard Kipling in Australia, which won't come out until a few years later. He </span> \n",
              "<span style=\"color: #008080; text-decoration-color: #008080\">will be in more movies, but they'll be about the same characters and will not be</span>\n",
              "<span style=\"color: #008080; text-decoration-color: #008080\">all that different from his films. He will be an actor in his early 20s, but he </span>\n",
              "<span style=\"color: #008080; text-decoration-color: #008080\">may have more to say about that by</span>                                              \n",
              "                                                                                \n",
              "                                                                                \n",
              "                                                                                \n",
              "</pre>\n"
            ],
            "text/plain": [
              "                                                                                \n",
              "\u001b[30mLONDON, England \u001b[0m\u001b[1;30m(\u001b[0m\u001b[30mReuters\u001b[0m\u001b[1;30m)\u001b[0m\u001b[30m -- Harry Potter star Daniel Radcliffe gains access to \u001b[0m\n",
              "\u001b[30ma reported £\u001b[0m\u001b[1;30m20\u001b[0m\u001b[30m million \u001b[0m\u001b[1;30m(\u001b[0m\u001b[30m$\u001b[0m\u001b[1;30m41.1\u001b[0m\u001b[30m million\u001b[0m\u001b[1;30m)\u001b[0m\u001b[30m fortune as he turns \u001b[0m\u001b[1;30m18\u001b[0m\u001b[30m on Monday, but he \u001b[0m\n",
              "\u001b[30minsists the money won't cast a spell on him. Daniel Radcliffe as Harry Potter in\u001b[0m\n",
              "\u001b[30m\"Harry Potter and the Order of the Phoenix\"\u001b[0m\u001b[30m To the disappointment of gossip \u001b[0m    \n",
              "\u001b[30mcolumnists around the world, the young actor says he has no plans to fritter his\u001b[0m\n",
              "\u001b[30mcash away on fast cars, drink and celebrity parties. \u001b[0m\u001b[30m\"I don't plan to be one of \u001b[0m\n",
              "\u001b[30mthose people who, as soon as they turn 18, suddenly buy themselves a massive \u001b[0m   \n",
              "\u001b[30msports car collection or something similar,\"\u001b[0m\u001b[30m he told an Australian interviewer \u001b[0m \n",
              "\u001b[30mearlier this month. \u001b[0m\u001b[30m\"I don't think I'll be particularly extravagant. \"\u001b[0m\u001b[30mThe things\u001b[0m\n",
              "\u001b[30mI like buying are things that cost about \u001b[0m\u001b[1;30m10\u001b[0m\u001b[30m pounds -- books and CDs and DVDs.\u001b[0m\u001b[30m\" \u001b[0m \n",
              "\u001b[30mAt 18, Radcliffe will be able to gamble in a casino, buy a drink in a pub or see\u001b[0m\n",
              "\u001b[30mthe horror film \"\u001b[0m\u001b[30mHostel: Part II,\u001b[0m\u001b[30m\" currently six places below his number one \u001b[0m   \n",
              "\u001b[30mmovie on the UK box office chart. Details of how he'll mark his landmark \u001b[0m       \n",
              "\u001b[30mbirthday are under wraps. His agent and publicist had no comment on his plans. \u001b[0m \n",
              "\u001b[30m\"\u001b[0m\u001b[30mI'll definitely have some sort of party,\u001b[0m\u001b[30m\" he said in an interview. \"\u001b[0m\u001b[30mHopefully \u001b[0m \n",
              "\u001b[30mnone of you will be reading about it.\u001b[0m\u001b[30m\" Radcliffe's earnings from the first five \u001b[0m\n",
              "\u001b[30mPotter films have been held in a trust fund which he has not been able to touch.\u001b[0m\n",
              "\u001b[30mDespite his growing fame and riches, the actor says he is keeping his feet \u001b[0m     \n",
              "\u001b[30mfirmly on the ground. \"\u001b[0m\u001b[30mPeople are always looking to say \u001b[0m\u001b[30m'kid star goes off the \u001b[0m \n",
              "\u001b[30mrails,'\u001b[0m\u001b[30m\" he told reporters last month. \"\u001b[0m\u001b[30mBut I try very hard not to go that way \u001b[0m \n",
              "\u001b[30mbecause it would be too easy for them.\u001b[0m\u001b[30m\" His latest outing as the boy wizard in \u001b[0m \n",
              "\u001b[30m\"\u001b[0m\u001b[30mHarry Potter and the Order of the Phoenix\" is breaking records on both sides of\u001b[0m\n",
              "\u001b[30mthe Atlantic and he will reprise the role in the last two films. Watch \u001b[0m         \n",
              "\u001b[30mI-Reporter give her review of Potter's latest » . There is life beyond Potter, \u001b[0m \n",
              "\u001b[30mhowever. The Londoner has filmed a TV movie called \u001b[0m\u001b[30m\"My Boy Jack,\"\u001b[0m\u001b[30m about author \u001b[0m \n",
              "\u001b[30mRudyard Kipling and his son, due for release later this year. He will also \u001b[0m     \n",
              "\u001b[30mappear in \u001b[0m\u001b[30m\"December Boys,\"\u001b[0m\u001b[30m an Australian film about four boys who escape an \u001b[0m    \n",
              "\u001b[30morphanage. Earlier this year, he made his stage debut playing a tortured \u001b[0m       \n",
              "\u001b[30mteenager in Peter Shaffer's \u001b[0m\u001b[30m\"Equus.\"\u001b[0m\u001b[30m Meanwhile, he is braced for even closer \u001b[0m   \n",
              "\u001b[30mmedia scrutiny now that he's legally an adult: \u001b[0m\u001b[30m\"I just think I'm going to be \u001b[0m   \n",
              "\u001b[30mmore sort of fair game,\"\u001b[0m\u001b[30m he told Reuters. E-mail to a friend . Copyright \u001b[0m\u001b[1;30m2007\u001b[0m\u001b[30m \u001b[0m  \n",
              "\u001b[30mReuters. All rights reserved.This material may not be published, broadcast, \u001b[0m    \n",
              "\u001b[30mrewritten, or redistributed. TL;DR: \u001b[0m\u001b[36m******** Harry Potter will turn \u001b[0m\u001b[1;36m18\u001b[0m\u001b[36m in \u001b[0m      \n",
              "\u001b[36mAugust. It's a huge deal, so I've written this brief guide to what to expect. He\u001b[0m\n",
              "\u001b[36mwill be a teenager, not a teenager of \u001b[0m\u001b[1;36m18\u001b[0m\u001b[36m, and we'll be able to read some of his \u001b[0m\n",
              "\u001b[36mfirst novels later this year. There will be a party, possibly, which the Daily \u001b[0m \n",
              "\u001b[36mProphet will pay to run in front of a TV camera. There will be a movie about \u001b[0m   \n",
              "\u001b[36mRudyard Kipling in Australia, which won't come out until a few years later. He \u001b[0m \n",
              "\u001b[36mwill be in more movies, but they'll be about the same characters and will not be\u001b[0m\n",
              "\u001b[36mall that different from his films. He will be an actor in his early 20s, but he \u001b[0m\n",
              "\u001b[36mmay have more to say about that by\u001b[0m                                              \n",
              "                                                                                \n",
              "                                                                                \n",
              "                                                                                \n"
            ]
          },
          "metadata": {},
          "output_type": "display_data"
        },
        {
          "name": "stdout",
          "output_type": "stream",
          "text": [
            "CPU times: user 1min 33s, sys: 1.78 s, total: 1min 35s\n",
            "Wall time: 1min 34s\n"
          ]
        }
      ],
      "source": [
        "%%time\n",
        "text = \"\"\"LONDON, England (Reuters) -- Harry Potter star Daniel Radcliffe gains access to a reported £20 million ($41.1 million) fortune as he turns 18 on Monday, but he insists the money won't cast a spell on him. Daniel Radcliffe as Harry Potter in \"Harry Potter and the Order of the Phoenix\" To the disappointment of gossip columnists around the world, the young actor says he has no plans to fritter his cash away on fast cars, drink and celebrity parties. \"I don't plan to be one of those people who, as soon as they turn 18, suddenly buy themselves a massive sports car collection or something similar,\" he told an Australian interviewer earlier this month. \"I don't think I'll be particularly extravagant. \"The things I like buying are things that cost about 10 pounds -- books and CDs and DVDs.\" At 18, Radcliffe will be able to gamble in a casino, buy a drink in a pub or see the horror film \"Hostel: Part II,\" currently six places below his number one movie on the UK box office chart. Details of how he'll mark his landmark birthday are under wraps. His agent and publicist had no comment on his plans. \"I'll definitely have some sort of party,\" he said in an interview. \"Hopefully none of you will be reading about it.\" Radcliffe's earnings from the first five Potter films have been held in a trust fund which he has not been able to touch. Despite his growing fame and riches, the actor says he is keeping his feet firmly on the ground. \"People are always looking to say 'kid star goes off the rails,'\" he told reporters last month. \"But I try very hard not to go that way because it would be too easy for them.\" His latest outing as the boy wizard in \"Harry Potter and the Order of the Phoenix\" is breaking records on both sides of the Atlantic and he will reprise the role in the last two films. Watch I-Reporter give her review of Potter's latest » . There is life beyond Potter, however. The Londoner has filmed a TV movie called \"My Boy Jack,\" about author Rudyard Kipling and his son, due for release later this year. He will also appear in \"December Boys,\" an Australian film about four boys who escape an orphanage. Earlier this year, he made his stage debut playing a tortured teenager in Peter Shaffer's \"Equus.\" Meanwhile, he is braced for even closer media scrutiny now that he's legally an adult: \"I just think I'm going to be more sort of fair game,\" he told Reuters. E-mail to a friend . Copyright 2007 Reuters. All rights reserved.This material may not be published, broadcast, rewritten, or redistributed.\"\"\"\n",
        "# GPT2 was not trained to have \\n, so we will remove it not to mess with GPT2\n",
        "text = multiline_text(text)\n",
        "# Add TL;DR: to the prompt to elicit the summarization skills\n",
        "text = text + \" TL;DR: \"\n",
        "generate(text, model=model, tokenizer=tokenizer, max_new_tokens=150, n=1)"
      ]
    },
    {
      "cell_type": "code",
      "execution_count": null,
      "metadata": {
        "colab": {
          "base_uri": "https://localhost:8080/",
          "height": 333
        },
        "id": "jmlu9VQcT1AU",
        "outputId": "d2fec9ff-1f1c-4275-9b4a-72ddbf9950a1"
      },
      "outputs": [
        {
          "data": {
            "text/html": [
              "<pre style=\"white-space:pre;overflow-x:auto;line-height:normal;font-family:Menlo,'DejaVu Sans Mono',consolas,'Courier New',monospace\"><span style=\"color: #808080; text-decoration-color: #808080\">───────────────────────────── </span><span style=\"color: #808080; text-decoration-color: #808080; font-weight: bold\">[</span><span style=\"color: #808080; text-decoration-color: #808080\">Sampling</span><span style=\"color: #808080; text-decoration-color: #808080; font-weight: bold\">]</span><span style=\"color: #808080; text-decoration-color: #808080\"> Output </span><span style=\"color: #808080; text-decoration-color: #808080; font-weight: bold\">1</span><span style=\"color: #808080; text-decoration-color: #808080\"> ──────────────────────────────</span>\n",
              "</pre>\n"
            ],
            "text/plain": [
              "\u001b[90m───────────────────────────── \u001b[0m\u001b[1;51;90m[\u001b[0m\u001b[51;90mSampling\u001b[0m\u001b[1;51;90m]\u001b[0m\u001b[51;90m Output \u001b[0m\u001b[1;51;90m1\u001b[0m\u001b[90m ──────────────────────────────\u001b[0m\n"
            ]
          },
          "metadata": {},
          "output_type": "display_data"
        },
        {
          "data": {
            "text/html": [
              "<pre style=\"white-space:pre;overflow-x:auto;line-height:normal;font-family:Menlo,'DejaVu Sans Mono',consolas,'Courier New',monospace\">                                                                                \n",
              "<span style=\"color: #000000; text-decoration-color: #000000\">A neutron star is the collapsed core of a massive supergiant star, which had a </span> \n",
              "<span style=\"color: #000000; text-decoration-color: #000000\">total mass of between </span><span style=\"color: #000000; text-decoration-color: #000000; font-weight: bold\">10</span><span style=\"color: #000000; text-decoration-color: #000000\"> and </span><span style=\"color: #000000; text-decoration-color: #000000; font-weight: bold\">25</span><span style=\"color: #000000; text-decoration-color: #000000\"> solar masses, possibly more if the star was </span>    \n",
              "<span style=\"color: #000000; text-decoration-color: #000000\">especially metal-rich.</span><span style=\"color: #000000; text-decoration-color: #000000; font-weight: bold\">[</span><span style=\"color: #000000; text-decoration-color: #000000; font-weight: bold\">1</span><span style=\"color: #000000; text-decoration-color: #000000; font-weight: bold\">]</span><span style=\"color: #000000; text-decoration-color: #000000\"> Neutron stars are the smallest and densest stellar </span>   \n",
              "<span style=\"color: #000000; text-decoration-color: #000000\">objects, excluding black holes and hypothetical white holes, quark stars, and </span>  \n",
              "<span style=\"color: #000000; text-decoration-color: #000000\">strange stars.</span><span style=\"color: #000000; text-decoration-color: #000000; font-weight: bold\">[</span><span style=\"color: #000000; text-decoration-color: #000000; font-weight: bold\">2</span><span style=\"color: #000000; text-decoration-color: #000000; font-weight: bold\">]</span><span style=\"color: #000000; text-decoration-color: #000000\"> Neutron stars have a radius on the order of </span><span style=\"color: #000000; text-decoration-color: #000000; font-weight: bold\">10</span><span style=\"color: #000000; text-decoration-color: #000000\"> kilometres </span><span style=\"color: #000000; text-decoration-color: #000000; font-weight: bold\">(</span><span style=\"color: #000000; text-decoration-color: #000000; font-weight: bold\">6.2</span>\n",
              "<span style=\"color: #000000; text-decoration-color: #000000\">mi</span><span style=\"color: #000000; text-decoration-color: #000000; font-weight: bold\">)</span><span style=\"color: #000000; text-decoration-color: #000000\"> and a mass of about </span><span style=\"color: #000000; text-decoration-color: #000000; font-weight: bold\">1.4</span><span style=\"color: #000000; text-decoration-color: #000000\"> solar masses.</span><span style=\"color: #000000; text-decoration-color: #000000; font-weight: bold\">[</span><span style=\"color: #000000; text-decoration-color: #000000; font-weight: bold\">3</span><span style=\"color: #000000; text-decoration-color: #000000; font-weight: bold\">]</span><span style=\"color: #000000; text-decoration-color: #000000\"> They result from the supernova </span>    \n",
              "<span style=\"color: #000000; text-decoration-color: #000000\">explosion of a massive star, combined with gravitational collapse, that </span>        \n",
              "<span style=\"color: #000000; text-decoration-color: #000000\">compresses the core past white dwarf star density to that of atomic nuclei.</span>     \n",
              "<span style=\"color: #000000; text-decoration-color: #000000\">Tl;dr</span><span style=\"color: #008080; text-decoration-color: #008080\">: neutron stars are huge, neutron stars are a star with a huge core, the </span>  \n",
              "<span style=\"color: #008080; text-decoration-color: #008080\">only way you can get it to go supernova is if you have a supermassive black hole</span>\n",
              "<span style=\"color: #008080; text-decoration-color: #008080\">inside of it, which we haven't figured out how to get to yet.</span>                   \n",
              "<span style=\"color: #008080; text-decoration-color: #008080\">We're not even sure there are</span>                                                   \n",
              "                                                                                \n",
              "                                                                                \n",
              "                                                                                \n",
              "</pre>\n"
            ],
            "text/plain": [
              "                                                                                \n",
              "\u001b[30mA neutron star is the collapsed core of a massive supergiant star, which had a \u001b[0m \n",
              "\u001b[30mtotal mass of between \u001b[0m\u001b[1;30m10\u001b[0m\u001b[30m and \u001b[0m\u001b[1;30m25\u001b[0m\u001b[30m solar masses, possibly more if the star was \u001b[0m    \n",
              "\u001b[30mespecially metal-rich.\u001b[0m\u001b[1;30m[\u001b[0m\u001b[1;30m1\u001b[0m\u001b[1;30m]\u001b[0m\u001b[30m Neutron stars are the smallest and densest stellar \u001b[0m   \n",
              "\u001b[30mobjects, excluding black holes and hypothetical white holes, quark stars, and \u001b[0m  \n",
              "\u001b[30mstrange stars.\u001b[0m\u001b[1;30m[\u001b[0m\u001b[1;30m2\u001b[0m\u001b[1;30m]\u001b[0m\u001b[30m Neutron stars have a radius on the order of \u001b[0m\u001b[1;30m10\u001b[0m\u001b[30m kilometres \u001b[0m\u001b[1;30m(\u001b[0m\u001b[1;30m6.2\u001b[0m\n",
              "\u001b[30mmi\u001b[0m\u001b[1;30m)\u001b[0m\u001b[30m and a mass of about \u001b[0m\u001b[1;30m1.4\u001b[0m\u001b[30m solar masses.\u001b[0m\u001b[1;30m[\u001b[0m\u001b[1;30m3\u001b[0m\u001b[1;30m]\u001b[0m\u001b[30m They result from the supernova \u001b[0m    \n",
              "\u001b[30mexplosion of a massive star, combined with gravitational collapse, that \u001b[0m        \n",
              "\u001b[30mcompresses the core past white dwarf star density to that of atomic nuclei.\u001b[0m     \n",
              "\u001b[30mTl;dr\u001b[0m\u001b[36m: neutron stars are huge, neutron stars are a star with a huge core, the \u001b[0m  \n",
              "\u001b[36monly way you can get it to go supernova is if you have a supermassive black hole\u001b[0m\n",
              "\u001b[36minside of it, which we haven't figured out how to get to yet.\u001b[0m                   \n",
              "\u001b[36mWe're not even sure there are\u001b[0m                                                   \n",
              "                                                                                \n",
              "                                                                                \n",
              "                                                                                \n"
            ]
          },
          "metadata": {},
          "output_type": "display_data"
        },
        {
          "name": "stdout",
          "output_type": "stream",
          "text": [
            "CPU times: user 30.1 s, sys: 255 ms, total: 30.3 s\n",
            "Wall time: 30.3 s\n"
          ]
        }
      ],
      "source": [
        "%%time\n",
        "text = \"\"\"A neutron star is the collapsed core of a massive supergiant star, which had a total mass of between 10 and 25 solar masses, possibly more if the star was especially metal-rich.[1] Neutron stars are the smallest and densest stellar objects, excluding black holes and hypothetical white holes, quark stars, and strange stars.[2] Neutron stars have a radius on the order of 10 kilometres (6.2 mi) and a mass of about 1.4 solar masses.[3] They result from the supernova explosion of a massive star, combined with gravitational collapse, that compresses the core past white dwarf star density to that of atomic nuclei.\"\"\"\n",
        "# GPT2 was not trained to have \\n, so we will remove it not to mess with GPT2\n",
        "text = multiline_text(text)\n",
        "# Add TL;DR: to the prompt to elicit the summarization skills\n",
        "text = text + \"\\nTl;dr\"\n",
        "generate(text, model=model, tokenizer=tokenizer, max_new_tokens=60, n=1)"
      ]
    },
    {
      "cell_type": "markdown",
      "metadata": {
        "id": "X8UzpZ4lIHCp"
      },
      "source": [
        "### Machine Translation"
      ]
    },
    {
      "cell_type": "code",
      "execution_count": null,
      "metadata": {
        "colab": {
          "base_uri": "https://localhost:8080/",
          "height": 409
        },
        "id": "ZwgWKZgLWUBg",
        "outputId": "8536bbd9-c71d-40eb-9bbd-7f61c07205ef"
      },
      "outputs": [
        {
          "data": {
            "text/html": [
              "<pre style=\"white-space:pre;overflow-x:auto;line-height:normal;font-family:Menlo,'DejaVu Sans Mono',consolas,'Courier New',monospace\"><span style=\"color: #808080; text-decoration-color: #808080\">───────────────────────────── </span><span style=\"color: #808080; text-decoration-color: #808080; font-weight: bold\">[</span><span style=\"color: #808080; text-decoration-color: #808080\">Sampling</span><span style=\"color: #808080; text-decoration-color: #808080; font-weight: bold\">]</span><span style=\"color: #808080; text-decoration-color: #808080\"> Output </span><span style=\"color: #808080; text-decoration-color: #808080; font-weight: bold\">1</span><span style=\"color: #808080; text-decoration-color: #808080\"> ──────────────────────────────</span>\n",
              "</pre>\n"
            ],
            "text/plain": [
              "\u001b[90m───────────────────────────── \u001b[0m\u001b[1;51;90m[\u001b[0m\u001b[51;90mSampling\u001b[0m\u001b[1;51;90m]\u001b[0m\u001b[51;90m Output \u001b[0m\u001b[1;51;90m1\u001b[0m\u001b[90m ──────────────────────────────\u001b[0m\n"
            ]
          },
          "metadata": {},
          "output_type": "display_data"
        },
        {
          "data": {
            "text/html": [
              "<pre style=\"white-space:pre;overflow-x:auto;line-height:normal;font-family:Menlo,'DejaVu Sans Mono',consolas,'Courier New',monospace\">                                                                                \n",
              "<span style=\"color: #000000; text-decoration-color: #000000\">sea otter = loutre de mer</span>                                                       \n",
              "<span style=\"color: #000000; text-decoration-color: #000000\">peppermint = menthe poivrée</span>                                                     \n",
              "<span style=\"color: #000000; text-decoration-color: #000000\">plush girafe = girafe peluche</span>                                                   \n",
              "<span style=\"color: #000000; text-decoration-color: #000000\">castle = chateaux</span>                                                               \n",
              "<span style=\"color: #000000; text-decoration-color: #000000\">cheese = fromage</span>                                                                \n",
              "<span style=\"color: #000000; text-decoration-color: #000000\">gift =</span><span style=\"color: #008080; text-decoration-color: #008080\"> avec des poussières</span>                                                      \n",
              "<span style=\"color: #008080; text-decoration-color: #008080\">p</span>                                                                               \n",
              "                                                                                \n",
              "                                                                                \n",
              "                                                                                \n",
              "</pre>\n"
            ],
            "text/plain": [
              "                                                                                \n",
              "\u001b[30msea otter = loutre de mer\u001b[0m                                                       \n",
              "\u001b[30mpeppermint = menthe poivrée\u001b[0m                                                     \n",
              "\u001b[30mplush girafe = girafe peluche\u001b[0m                                                   \n",
              "\u001b[30mcastle = chateaux\u001b[0m                                                               \n",
              "\u001b[30mcheese = fromage\u001b[0m                                                                \n",
              "\u001b[30mgift =\u001b[0m\u001b[36m avec des poussières\u001b[0m                                                      \n",
              "\u001b[36mp\u001b[0m                                                                               \n",
              "                                                                                \n",
              "                                                                                \n",
              "                                                                                \n"
            ]
          },
          "metadata": {},
          "output_type": "display_data"
        },
        {
          "data": {
            "text/html": [
              "<pre style=\"white-space:pre;overflow-x:auto;line-height:normal;font-family:Menlo,'DejaVu Sans Mono',consolas,'Courier New',monospace\"><span style=\"color: #808080; text-decoration-color: #808080\">───────────────────────────── </span><span style=\"color: #808080; text-decoration-color: #808080; font-weight: bold\">[</span><span style=\"color: #808080; text-decoration-color: #808080\">Sampling</span><span style=\"color: #808080; text-decoration-color: #808080; font-weight: bold\">]</span><span style=\"color: #808080; text-decoration-color: #808080\"> Output </span><span style=\"color: #808080; text-decoration-color: #808080; font-weight: bold\">2</span><span style=\"color: #808080; text-decoration-color: #808080\"> ──────────────────────────────</span>\n",
              "</pre>\n"
            ],
            "text/plain": [
              "\u001b[90m───────────────────────────── \u001b[0m\u001b[1;51;90m[\u001b[0m\u001b[51;90mSampling\u001b[0m\u001b[1;51;90m]\u001b[0m\u001b[51;90m Output \u001b[0m\u001b[1;51;90m2\u001b[0m\u001b[90m ──────────────────────────────\u001b[0m\n"
            ]
          },
          "metadata": {},
          "output_type": "display_data"
        },
        {
          "data": {
            "text/html": [
              "<pre style=\"white-space:pre;overflow-x:auto;line-height:normal;font-family:Menlo,'DejaVu Sans Mono',consolas,'Courier New',monospace\">                                                                                \n",
              "<span style=\"color: #000000; text-decoration-color: #000000\">sea otter = loutre de mer</span>                                                       \n",
              "<span style=\"color: #000000; text-decoration-color: #000000\">peppermint = menthe poivrée</span>                                                     \n",
              "<span style=\"color: #000000; text-decoration-color: #000000\">plush girafe = girafe peluche</span>                                                   \n",
              "<span style=\"color: #000000; text-decoration-color: #000000\">castle = chateaux</span>                                                               \n",
              "<span style=\"color: #000000; text-decoration-color: #000000\">cheese = fromage</span>                                                                \n",
              "<span style=\"color: #000000; text-decoration-color: #000000\">gift =</span><span style=\"color: #008080; text-decoration-color: #008080\"> fritte</span>                                                                   \n",
              "<span style=\"color: #008080; text-decoration-color: #008080\">giver = loutre</span>                                                                  \n",
              "                                                                                \n",
              "                                                                                \n",
              "                                                                                \n",
              "</pre>\n"
            ],
            "text/plain": [
              "                                                                                \n",
              "\u001b[30msea otter = loutre de mer\u001b[0m                                                       \n",
              "\u001b[30mpeppermint = menthe poivrée\u001b[0m                                                     \n",
              "\u001b[30mplush girafe = girafe peluche\u001b[0m                                                   \n",
              "\u001b[30mcastle = chateaux\u001b[0m                                                               \n",
              "\u001b[30mcheese = fromage\u001b[0m                                                                \n",
              "\u001b[30mgift =\u001b[0m\u001b[36m fritte\u001b[0m                                                                   \n",
              "\u001b[36mgiver = loutre\u001b[0m                                                                  \n",
              "                                                                                \n",
              "                                                                                \n",
              "                                                                                \n"
            ]
          },
          "metadata": {},
          "output_type": "display_data"
        }
      ],
      "source": [
        "text = \"\"\" \n",
        "sea otter = loutre de mer\n",
        "peppermint = menthe poivrée\n",
        "plush girafe = girafe peluche\n",
        "castle = chateaux\n",
        "cheese = fromage\n",
        "gift = \"\"\"\n",
        "\n",
        "text = multiline_text(text)\n",
        "generate(text, model=model, tokenizer=tokenizer, max_new_tokens=10, n=1)"
      ]
    },
    {
      "cell_type": "code",
      "execution_count": null,
      "metadata": {
        "id": "7y9ILNdrVU31"
      },
      "outputs": [],
      "source": []
    },
    {
      "cell_type": "markdown",
      "metadata": {
        "id": "FZSZBsA1M3hq"
      },
      "source": [
        "# Resources\n",
        "\n",
        "- [How to generate text with HuggingFace?](https://huggingface.co/blog/how-to-generate)\n",
        "- [Guide to fine-tuning Text generation models: GPT-2, GPT-NEO and T5](https://towardsdatascience.com/guide-to-fine-tuning-text-generation-models-gpt-2-gpt-neo-and-t5-dc5de6b3bc5e) by Mohit Mayank\n",
        "- [Societal biases in language generation: Progress and Challenges](https://aclanthology.org/2021.acl-long.330.pdf)\n",
        "- [On the danges of stochastic parrots: can language models be too big?](https://dl.acm.org/doi/pdf/10.1145/3442188.3445922)\n",
        "- [OpenAI Better Language Models](https://openai.com/blog/better-language-models/)\n",
        "\n",
        "- [GPT-3 Creative Fiction](https://www.gwern.net/GPT-3)"
      ]
    },
    {
      "cell_type": "code",
      "execution_count": null,
      "metadata": {
        "id": "dOJiKjQuwZZy"
      },
      "outputs": [],
      "source": []
    }
  ],
  "metadata": {
    "accelerator": "GPU",
    "colab": {
      "collapsed_sections": [
        "lih8A6HxGtLg"
      ],
      "name": "Day4-Text-Generation-Models.ipynb",
      "provenance": [],
      "toc_visible": true
    },
    "gpuClass": "standard",
    "kernelspec": {
      "display_name": "Python 3.9.7 ('ucinlp-env')",
      "language": "python",
      "name": "python3"
    },
    "language_info": {
      "name": "python",
      "version": "3.9.7"
    },
    "vscode": {
      "interpreter": {
        "hash": "07e38c7cd0c4af672a7daa78f250d60c001757599a58ae092086f274e28b86ff"
      }
    }
  },
  "nbformat": 4,
  "nbformat_minor": 0
}
